{
 "cells": [
  {
   "cell_type": "markdown",
   "id": "9e07b3f5-d919-4179-91a1-0f6b66c42757",
   "metadata": {},
   "source": [
    "# Generate data with different simulation profiles\n",
    "\n",
    "<!--\n",
    "  ~ Licensed to the Apache Software Foundation (ASF) under one\n",
    "  ~ or more contributor license agreements.  See the NOTICE file\n",
    "  ~ distributed with this work for additional information\n",
    "  ~ regarding copyright ownership.  The ASF licenses this file\n",
    "  ~ to you under the Apache License, Version 2.0 (the\n",
    "  ~ \"License\"); you may not use this file except in compliance\n",
    "  ~ with the License.  You may obtain a copy of the License at\n",
    "  ~\n",
    "  ~   http://www.apache.org/licenses/LICENSE-2.0\n",
    "  ~\n",
    "  ~ Unless required by applicable law or agreed to in writing,\n",
    "  ~ software distributed under the License is distributed on an\n",
    "  ~ \"AS IS\" BASIS, WITHOUT WARRANTIES OR CONDITIONS OF ANY\n",
    "  ~ KIND, either express or implied.  See the License for the\n",
    "  ~ specific language governing permissions and limitations\n",
    "  ~ under the License.\n",
    "  -->\n",
    "\n",
    "This notebook walks through how to specify the simulations to run in order to generate different data, whether using ones supplied in the repository or sending your own as part of the post to the data generator."
   ]
  },
  {
   "cell_type": "markdown",
   "id": "9404a9c3-9f86-424a-8af5-5f53bf5f087e",
   "metadata": {},
   "source": [
    "## Prerequisites\n",
    "\n",
    "Launch this tutorial and all prerequisites using the `all-services` profile of the Docker Compose file for Jupyter-based Druid tutorials. For more information, see the Learn Druid repository [readme](https://github.com/implydata/learn-druid)."
   ]
  },
  {
   "cell_type": "markdown",
   "id": "7fd3f135-0b71-40c1-b421-80b1a6e5eb39",
   "metadata": {},
   "source": [
    "## Initialization\n",
    "\n",
    "Run the next cell to set up the connection to the data generator."
   ]
  },
  {
   "cell_type": "code",
   "execution_count": 37,
   "id": "f84766c7-c6a5-4496-91a3-abdb8ddd2375",
   "metadata": {},
   "outputs": [],
   "source": [
    "import requests\n",
    "import json\n",
    "\n",
    "datagenUrl = \"http://datagen:9999\"\n",
    "datagenHeaders = {'Content-Type': 'application/json'}"
   ]
  },
  {
   "cell_type": "markdown",
   "id": "c54af617-0998-4010-90c3-9b5a38a09a5f",
   "metadata": {},
   "source": [
    "## Generate data using default configurations\n",
    "\n",
    "The Data Generator repository contains a number of preconfigured configurations that the community is invited to contribute to.\n",
    "\n",
    "Use the `/list` endpoint see the available configurations."
   ]
  },
  {
   "cell_type": "code",
   "execution_count": 38,
   "id": "1ba6a80a-c49b-4abf-943b-9dad82f2ae13",
   "metadata": {},
   "outputs": [
    {
     "data": {
      "text/plain": [
       "['clickstream/users_changes.json',\n",
       " 'clickstream/users_init.json',\n",
       " 'clickstream/sales_forecast.json',\n",
       " 'clickstream/clickstream.json',\n",
       " 'examples/counter.json',\n",
       " 'examples/variable.json',\n",
       " 'examples/missing.json',\n",
       " 'examples/simple.json',\n",
       " 'examples/object.json',\n",
       " 'examples/deepthought.json',\n",
       " 'examples/types.json',\n",
       " 'examples/list.json',\n",
       " 'examples/langmap.json',\n",
       " 'examples/nulls.json',\n",
       " 'iot/iot_twin_nulls_time_skips.json',\n",
       " 'iot/iot_twin.json',\n",
       " 'social/social_posts.json']"
      ]
     },
     "metadata": {},
     "output_type": "display_data"
    }
   ],
   "source": [
    "display(requests.get(f\"{datagenUrl}/list\").json())"
   ]
  },
  {
   "cell_type": "markdown",
   "id": "011dd13c-47d7-46c9-afeb-83133f7fd115",
   "metadata": {},
   "source": [
    "Run the following cell to set up a JSON object with a simulation configuration that uses one of the configurations above."
   ]
  },
  {
   "cell_type": "code",
   "execution_count": 39,
   "id": "da54df3b-5c4f-4348-9463-41c6fb93c23b",
   "metadata": {},
   "outputs": [],
   "source": [
    "job_name=\"20240707-iot\"\n",
    "\n",
    "datagen_request = {\n",
    "    \"name\": job_name,\n",
    "    \"target\": { \"type\": \"file\", \"path\":f\"{job_name}.json\"},\n",
    "    \"config_file\": \"iot/iot_twin.json\", \n",
    "    \"time_type\": \"1969-07-20 20:17:40\",\n",
    "    \"time\": \"10s\",\n",
    "    \"concurrency\":10\n",
    "}"
   ]
  },
  {
   "cell_type": "markdown",
   "id": "2a38ee37-5396-446b-b854-bddb94d780d2",
   "metadata": {},
   "source": [
    "Notice that the `config_file` property has been set to the configuration you will use.\n",
    "\n",
    "Submit the configuration to the data generator to create a file using this configuration by running the following cell."
   ]
  },
  {
   "cell_type": "code",
   "execution_count": 40,
   "id": "1c216cde-8611-4dc6-98b2-4c6a4f9a0e38",
   "metadata": {},
   "outputs": [],
   "source": [
    "response = requests.post(f\"{datagenUrl}/start\", json.dumps(datagen_request), headers=datagenHeaders)"
   ]
  },
  {
   "cell_type": "markdown",
   "id": "3239d13c-6a28-4cfb-92bf-88307ee6882b",
   "metadata": {},
   "source": [
    "Run the following cell to peek at the generated data."
   ]
  },
  {
   "cell_type": "code",
   "execution_count": 41,
   "id": "0f267d6d-a1ec-4a2f-9dce-b82537e9fe67",
   "metadata": {},
   "outputs": [
    {
     "name": "stdout",
     "output_type": "stream",
     "text": [
      "b'{\"ts\": \"1969-07-20 20:17:40.001000\", \"device\": \"b8:27:eb:bf:9d:51\", \"co\": \"0.004955938648391245\", \"humidity\": \"51.0\", \"light\": \"false\", \"lpg\": \"0.00765082227055719\", \"motion\": \"false\", \"smoke\": \"0.02041127012241292\", \"temp\": \"22.7\"}\\n{\"ts\": \"1969-07-20 20:17:40.350593\", \"device\": \"00:0f:00:70:91:0a\", \"co\": \"0.0028400886071015706\", \"humidity\": \"76.0\", \"light\": \"false\", \"lpg\": \"0.005114383400977071\", \"motion\": \"false\", \"smoke\": \"0.013274836704851536\", \"temp\": \"19.700000762939453\"}\\n{\"ts\": \"1969-07-20 20:17:43.688598\", \"device\": \"b8:27:eb:bf:9d:51\", \"co\": \"0.004976012340421658\", \"humidity\": \"50.9\", \"light\": \"false\", \"lpg\": \"0.007673227406398091\", \"motion\": \"false\", \"smoke\": \"0.02047512557617824\", \"temp\": \"22.6\"}\\n{\"ts\": \"1969-07-20 20:17:45.204171\", \"device\": \"1c:bf:ce:15:ec:4d\", \"co\": \"0.004403026829699689\", \"humidity\": \"76.80000305175781\", \"light\": \"true\", \"lpg\": \"0.007023337145877314\", \"motion\": \"false\", \"smoke\": \"0.018628225377018803\", \"temp\": \"27.0\"}\\n{\"ts\": \"1969-07-20 20:17:47.376260\", \"device\": \"b8:27:eb:bf:9d:51\", \"co\": \"0.004967363641908952\", \"humidity\": \"50.9\", \"light\": \"false\", \"lpg\": \"0.007663577282372411\", \"motion\": \"false\", \"smoke\": \"0.020447620810233658\", \"temp\": \"22.6\"}\\n'\n"
     ]
    }
   ],
   "source": [
    "response = requests.get(f\"{datagenUrl}/file/{job_name}.json\")\n",
    "response.raise_for_status()\n",
    "data = response.content\n",
    "print(data)"
   ]
  },
  {
   "cell_type": "markdown",
   "id": "66ec013f-28e4-4d5a-94a6-06e0ed537b4e",
   "metadata": {},
   "source": [
    "## Generate data using customer configurations\n",
    "\n",
    "Instead of using `config_file`, use `config` to send a simulation profile as part of the call to the data generator.\n",
    "\n",
    "Run the following cell to create a JSON object to send to the simulator."
   ]
  },
  {
   "cell_type": "code",
   "execution_count": 42,
   "id": "d6451310-b7dd-4b39-a23b-7b735b152d6c",
   "metadata": {},
   "outputs": [],
   "source": [
    "gen_config = {\n",
    "  \"emitters\": [\n",
    "    {\n",
    "      \"name\": \"simple_record\",\n",
    "      \"dimensions\": [\n",
    "        {\n",
    "          \"type\": \"string\",\n",
    "          \"name\": \"random_string_column\",\n",
    "          \"length_distribution\": {\n",
    "            \"type\": \"constant\",\n",
    "            \"value\": 13\n",
    "          },\n",
    "          \"cardinality\": 0,\n",
    "          \"chars\": \"#.abcdefghijklmnopqrstuvwxyz\"\n",
    "        },\n",
    "        {\n",
    "          \"type\": \"int\",\n",
    "          \"name\": \"distributed_number\",\n",
    "          \"distribution\": {\n",
    "            \"type\": \"uniform\",\n",
    "            \"min\": 0,\n",
    "            \"max\": 1000\n",
    "          },\n",
    "          \"cardinality\": 10,\n",
    "          \"cardinality_distribution\": {\n",
    "            \"type\": \"exponential\",\n",
    "            \"mean\": 5\n",
    "          }\n",
    "        }\n",
    "      ]\n",
    "    }\n",
    "  ],\n",
    "  \"interarrival\": {\n",
    "    \"type\": \"constant\",\n",
    "    \"value\": 1\n",
    "  },\n",
    "  \"states\": [\n",
    "    {\n",
    "      \"name\": \"state_1\",\n",
    "      \"emitter\": \"simple_record\",\n",
    "      \"delay\": {\n",
    "        \"type\": \"constant\",\n",
    "        \"value\": 1\n",
    "      },\n",
    "      \"transitions\": [\n",
    "        {\n",
    "          \"next\": \"state_1\",\n",
    "          \"probability\": 1.0\n",
    "        }\n",
    "      ]\n",
    "    }\n",
    "  ]\n",
    "}"
   ]
  },
  {
   "cell_type": "markdown",
   "id": "dd9e49e3-c01b-4ea6-a3c8-db1c2a2a8c40",
   "metadata": {},
   "source": [
    "The configuration includes:\n",
    "\n",
    "* The definition of a \"simple record\" that includes two [dimensions](https://github.com/implydata/druid-datagenerator#dimensions-):\n",
    "   * A column called \"random_string_column\" that generates random text.\n",
    "   * A column called \"distributed_number\" that contains numbers with a [uniform distribution](https://github.com/implydata/druid-datagenerator#uniform-distribution).\n",
    "* Definition of the [number of rows per second](https://github.com/implydata/druid-datagenerator#interarrival) within the `interarrival` section.\n",
    "* A [state](https://github.com/implydata/druid-datagenerator#states-) definition for each of the simulator state machines - in this case, just one.\n",
    "\n",
    "For more information, see the [documentation](https://github.com/implydata/druid-datagenerator#data-generator-configuration) in the main repository."
   ]
  },
  {
   "cell_type": "code",
   "execution_count": 46,
   "id": "dd7bbabb-c9f2-4637-b400-ccd77cbe7d84",
   "metadata": {},
   "outputs": [
    {
     "name": "stdout",
     "output_type": "stream",
     "text": [
      "{'name': '20240707_myownthing', 'target': {'type': 'file', 'path': '20240707_myownthing.json'}, 'config': {'emitters': [{'name': 'simple_record', 'dimensions': [{'type': 'string', 'name': 'random_string_column', 'length_distribution': {'type': 'constant', 'value': 13}, 'cardinality': 0, 'chars': '#.abcdefghijklmnopqrstuvwxyz'}, {'type': 'int', 'name': 'distributed_number', 'distribution': {'type': 'uniform', 'min': 0, 'max': 1000}, 'cardinality': 10, 'cardinality_distribution': {'type': 'exponential', 'mean': 5}}]}], 'interarrival': {'type': 'constant', 'value': 1}, 'states': [{'name': 'state_1', 'emitter': 'simple_record', 'delay': {'type': 'constant', 'value': 1}, 'transitions': [{'next': 'state_1', 'probability': 1.0}]}]}, 'time': '10s', 'time_type': 'SIM', 'concurrency': 10}\n"
     ]
    }
   ],
   "source": [
    "job_name=\"20240707_myownthing\"\n",
    "\n",
    "datagen_request = {\n",
    "    \"name\": job_name,\n",
    "    \"target\": { \"type\": \"file\", \"path\":f\"{job_name}.json\"},\n",
    "    \"config\": gen_config, \n",
    "    \"time\": \"10s\",\n",
    "    \"time_type\": \"SIM\",\n",
    "    \"concurrency\":10\n",
    "}\n",
    "\n",
    "print(datagen_request)"
   ]
  },
  {
   "cell_type": "markdown",
   "id": "89a22645-aea5-4c15-b81a-959b27df731f",
   "metadata": {},
   "source": [
    "This example uses the `config` attribute of the request to configure a new custom data generator instead of using a  predefined `config_file`."
   ]
  },
  {
   "cell_type": "code",
   "execution_count": 49,
   "id": "e5e5c535-3474-42b4-9772-14279e712f3d",
   "metadata": {},
   "outputs": [
    {
     "data": {
      "text/plain": [
       "{'message': 'Starting generator for request.',\n",
       " 'request': {'name': '20240707_myownthing',\n",
       "  'target': {'type': 'file', 'path': '/files/20240707_myownthing.json'},\n",
       "  'config': {'emitters': [{'name': 'simple_record',\n",
       "     'dimensions': [{'type': 'string',\n",
       "       'name': 'random_string_column',\n",
       "       'length_distribution': {'type': 'constant', 'value': 13},\n",
       "       'cardinality': 0,\n",
       "       'chars': '#.abcdefghijklmnopqrstuvwxyz'},\n",
       "      {'type': 'int',\n",
       "       'name': 'distributed_number',\n",
       "       'distribution': {'type': 'uniform', 'min': 0, 'max': 1000},\n",
       "       'cardinality': 10,\n",
       "       'cardinality_distribution': {'type': 'exponential', 'mean': 5}}]}],\n",
       "   'interarrival': {'type': 'constant', 'value': 1},\n",
       "   'states': [{'name': 'state_1',\n",
       "     'emitter': 'simple_record',\n",
       "     'delay': {'type': 'constant', 'value': 1},\n",
       "     'transitions': [{'next': 'state_1', 'probability': 1.0}]}],\n",
       "   'config_file': '__custom__'},\n",
       "  'time': '10s',\n",
       "  'time_type': 'SIM',\n",
       "  'concurrency': 10}}"
      ]
     },
     "execution_count": 49,
     "metadata": {},
     "output_type": "execute_result"
    }
   ],
   "source": [
    "response = requests.post(f\"{datagenUrl}/start\", json.dumps(datagen_request), headers=datagenHeaders)\n",
    "response.json()"
   ]
  },
  {
   "cell_type": "code",
   "execution_count": null,
   "id": "6b969876-849b-4b7e-bd01-9279b0c9f265",
   "metadata": {},
   "outputs": [],
   "source": [
    "Run the cell below to see the data that was generated."
   ]
  },
  {
   "cell_type": "code",
   "execution_count": 53,
   "id": "470b3a2a-4fd9-45a2-9221-497d906f62a9",
   "metadata": {},
   "outputs": [
    {
     "data": {
      "text/plain": [
       "b'{\"time\":\"2024-06-07T15:19:58.181\",\"random_string_column\":\"ojv#pnajyraru\",\"distributed_number\":645}\\n{\"time\":\"2024-06-07T15:19:59.181\",\"random_string_column\":\"rxiofhrebpjux\",\"distributed_number\":829}\\n{\"time\":\"2024-06-07T15:19:59.181\",\"random_string_column\":\"wzuilinbp.bj.\",\"distributed_number\":645}\\n{\"time\":\"2024-06-07T15:20:00.181\",\"random_string_column\":\"pkcxus#leenpp\",\"distributed_number\":645}\\n{\"time\":\"2024-06-07T15:20:00.181\",\"random_string_column\":\"iyyvyrvqfgeeu\",\"distributed_number\":588}\\n{\"time\":\"2024-06-07T15:20:00.181\",\"random_string_column\":\"riyoeezwxeovb\",\"distributed_number\":429}\\n{\"time\":\"2024-06-07T15:20:01.181\",\"random_string_column\":\"ugkbs.swkxask\",\"distributed_number\":374}\\n{\"time\":\"2024-06-07T15:20:01.181\",\"random_string_column\":\"pnkagm#mbwcwj\",\"distributed_number\":612}\\n{\"time\":\"2024-06-07T15:20:01.181\",\"random_string_column\":\"q#mnakym.xizd\",\"distributed_number\":362}\\n{\"time\":\"2024-06-07T15:20:01.181\",\"random_string_column\":\"ke.yatmhscnoz\",\"distributed_number\":645}\\n{\"time\":\"2024-06-07T15:20:02.181\",'"
      ]
     },
     "metadata": {},
     "output_type": "display_data"
    }
   ],
   "source": [
    "display(requests.get(f\"{datagenUrl}/file/{job_name}.json\").content[:1024])"
   ]
  },
  {
   "cell_type": "markdown",
   "id": "6897ebb3-b566-4e2d-9ea9-41b16f52ced2",
   "metadata": {},
   "source": [
    "## Summary\n",
    "\n",
    "* The `config_file` property is used when running simulations using default configurations.\n",
    "* Use `config` when sending a custom generator configuration.\n",
    "* Simulation profiles can include custom columns, states, and different time gaps between rows."
   ]
  },
  {
   "cell_type": "markdown",
   "id": "656c368e-27e6-485c-8399-29f2b00fe147",
   "metadata": {},
   "source": [
    "## Learn more\n",
    "\n",
    "* Read more about the simulator profiles in the [official repository](https://github.com/implydata/druid-datagenerator)."
   ]
  }
 ],
 "metadata": {
  "kernelspec": {
   "display_name": "Python 3 (ipykernel)",
   "language": "python",
   "name": "python3"
  },
  "language_info": {
   "codemirror_mode": {
    "name": "ipython",
    "version": 3
   },
   "file_extension": ".py",
   "mimetype": "text/x-python",
   "name": "python",
   "nbconvert_exporter": "python",
   "pygments_lexer": "ipython3",
   "version": "3.11.6"
  }
 },
 "nbformat": 4,
 "nbformat_minor": 5
}
