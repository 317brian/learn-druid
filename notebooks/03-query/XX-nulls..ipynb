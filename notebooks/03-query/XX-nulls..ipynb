{
 "cells": [
  {
   "cell_type": "markdown",
   "id": "0cb3b009-ebde-4d56-9d59-a028d66d8309",
   "metadata": {
    "jupyter": {
     "source_hidden": true
    }
   },
   "source": [
    "# (Result) by (action) using (feature)\n",
    "<!--\n",
    "  ~ Licensed to the Apache Software Foundation (ASF) under one\n",
    "  ~ or more contributor license agreements.  See the NOTICE file\n",
    "  ~ distributed with this work for additional information\n",
    "  ~ regarding copyright ownership.  The ASF licenses this file\n",
    "  ~ to you under the Apache License, Version 2.0 (the\n",
    "  ~ \"License\"); you may not use this file except in compliance\n",
    "  ~ with the License.  You may obtain a copy of the License at\n",
    "  ~\n",
    "  ~   http://www.apache.org/licenses/LICENSE-2.0\n",
    "  ~\n",
    "  ~ Unless required by applicable law or agreed to in writing,\n",
    "  ~ software distributed under the License is distributed on an\n",
    "  ~ \"AS IS\" BASIS, WITHOUT WARRANTIES OR CONDITIONS OF ANY\n",
    "  ~ KIND, either express or implied.  See the License for the\n",
    "  ~ specific language governing permissions and limitations\n",
    "  ~ under the License.\n",
    "  -->\n",
    "\n",
    "Introductory paragraph - for example:\n",
    "\n",
    "This tutorial demonstrates how to work with [feature](link to feature doc). In this tutorial you perform the following tasks:\n",
    "\n",
    "- Task 1\n",
    "- Task 2\n",
    "- Task 3\n",
    "- etc"
   ]
  },
  {
   "cell_type": "markdown",
   "id": "bbdbf6ad-ca7b-40f5-8ca3-1070f4a3ee42",
   "metadata": {
    "jupyter": {
     "source_hidden": true
    }
   },
   "source": [
    "## Prerequisites\n",
    "\n",
    "This tutorial works with Druid XX.0.0 or later.\n",
    "\n",
    "#### Run with Docker\n",
    "\n",
    "Launch this tutorial and all prerequisites using the `druid-jupyter` profile of the Docker Compose file for Jupyter-based Druid tutorials. For more information, see the Learn Druid repository [readme](https://github.com/implydata/learn-druid)."
   ]
  },
  {
   "cell_type": "markdown",
   "id": "5007a243-b81a-4601-8f57-5b14940abbff",
   "metadata": {
    "jupyter": {
     "source_hidden": true
    }
   },
   "source": [
    "## Initialization\n",
    "\n",
    "The following cells set up the notebook and learning environment ready for use.\n",
    "\n",
    "### Set up and connect to the learning environment\n",
    "\n",
    "Run the next cell to set up the Druid Python client's connection to Apache Druid.\n",
    "\n",
    "If successful, the Druid version number will be shown in the output."
   ]
  },
  {
   "cell_type": "markdown",
   "id": "61aed025-5747-4d05-9291-9014f4585ef8",
   "metadata": {},
   "source": [
    "COVERAGE\n",
    "\n",
    "https://druid.apache.org/docs/latest/querying/sql-data-types#null-values\n",
    "https://druid.apache.org/docs/latest/development/extensions-core/approximate-histograms#null-handling\n",
    "https://druid.apache.org/docs/latest/design/segments#handling-null-values\n",
    "https://druid.apache.org/docs/latest/querying/filters#null-filter\n",
    "https://druid.apache.org/docs/latest/querying/sql-aggregations/ - noting if aggregators return zero or NULL\n",
    "https://druid.apache.org/docs/latest/misc/math-expr/#logical-operator-modes - what happens when operators work with NULL\n",
    "https://druid.apache.org/docs/latest/misc/math-expr/#array-functions - whether it's -1 or NULL\n",
    "https://druid.apache.org/docs/latest/misc/math-expr/#math-functions - particularly safe_divide\n",
    "https://druid.apache.org/docs/latest/querying/sql/#unnest - on how it handles NULLs\n",
    "https://druid.apache.org/docs/latest/querying/sql/#group-by - how GROUP BY handles NULLs\n",
    "https://imply.io/blog/numeric-column-null-checks-apache-druid/ - 2020 blog by Clint\n",
    "https://druid.apache.org/docs/latest/querying/sql-data-types#standard-types - how default values are set\n",
    "https://druid.apache.org/docs/latest/querying/sql-data-types#null-values - what the default values are"
   ]
  },
  {
   "cell_type": "code",
   "execution_count": 5,
   "id": "c1ec783b-df3f-4168-9be2-cdc6ad3e33c2",
   "metadata": {},
   "outputs": [
    {
     "name": "stdout",
     "output_type": "stream",
     "text": [
      "Opening a connection to http://router:8888.\n"
     ]
    },
    {
     "data": {
      "text/plain": [
       "'27.0.0-SNAPSHOT'"
      ]
     },
     "execution_count": 5,
     "metadata": {},
     "output_type": "execute_result"
    }
   ],
   "source": [
    "import druidapi\n",
    "import os\n",
    "\n",
    "if 'DRUID_HOST' not in os.environ.keys():\n",
    "    druid_host=f\"http://localhost:8888\"\n",
    "else:\n",
    "    druid_host=f\"http://{os.environ['DRUID_HOST']}:8888\"\n",
    "    \n",
    "print(f\"Opening a connection to {druid_host}.\")\n",
    "druid = druidapi.jupyter_client(druid_host)\n",
    "\n",
    "display = druid.display\n",
    "sql_client = druid.sql\n",
    "status_client = druid.status\n",
    "status_client.version"
   ]
  },
  {
   "cell_type": "markdown",
   "id": "472589e4-1026-4b3b-bb79-eedabb2b44c4",
   "metadata": {},
   "source": [
    "### Load example data\n",
    "\n",
    "Run the following cell to create a table called `example-koalas-null`. Notice {the use of X as a timestamp | only required columns are ingested | WHERE / expressions / GROUP BY are front-loaded | partitions on X period and clusters by Y}.\n",
    "\n",
    "When completed, you'll see a description of the final table."
   ]
  },
  {
   "cell_type": "code",
   "execution_count": 11,
   "id": "f52a94fb-d2e4-403f-ab10-84d3af7bf2c8",
   "metadata": {},
   "outputs": [
    {
     "name": "stderr",
     "output_type": "stream",
     "text": [
      "Loading data, status:[SUCCESS]: 100%|██████████| 100.0/100.0 [00:22<00:00,  4.46it/s]            \n"
     ]
    },
    {
     "data": {
      "text/html": [
       "<div class=\"druid\"><table>\n",
       "<tr><th>Position</th><th>Name</th><th>Type</th></tr>\n",
       "<tr><td>1</td><td>__time</td><td>TIMESTAMP</td></tr>\n",
       "<tr><td>2</td><td>referrer</td><td>VARCHAR</td></tr>\n",
       "<tr><td>3</td><td>referrer-emptyString</td><td>VARCHAR</td></tr>\n",
       "<tr><td>4</td><td>referrer_host</td><td>VARCHAR</td></tr>\n",
       "<tr><td>5</td><td>referrer_host-null</td><td>VARCHAR</td></tr>\n",
       "<tr><td>6</td><td>loaded_image</td><td>VARCHAR</td></tr>\n",
       "<tr><td>7</td><td>event_type</td><td>VARCHAR</td></tr>\n",
       "<tr><td>8</td><td>event_subtype</td><td>VARCHAR</td></tr>\n",
       "<tr><td>9</td><td>event_type-nullCheck</td><td>VARCHAR</td></tr>\n",
       "<tr><td>10</td><td>event_type-emptyStringCheck</td><td>VARCHAR</td></tr>\n",
       "<tr><td>11</td><td>session</td><td>VARCHAR</td></tr>\n",
       "<tr><td>12</td><td>session_length</td><td>BIGINT</td></tr>\n",
       "<tr><td>13</td><td>session_length-zero</td><td>BIGINT</td></tr>\n",
       "<tr><td>14</td><td>session_length-null</td><td>BIGINT</td></tr>\n",
       "<tr><td>15</td><td>platform</td><td>VARCHAR</td></tr>\n",
       "<tr><td>16</td><td>agent_category</td><td>VARCHAR</td></tr>\n",
       "<tr><td>17</td><td>continent</td><td>VARCHAR</td></tr>\n",
       "<tr><td>18</td><td>language</td><td>VARCHAR</td></tr>\n",
       "<tr><td>19</td><td>timezone</td><td>VARCHAR</td></tr>\n",
       "<tr><td>20</td><td>timezone-null</td><td>VARCHAR</td></tr>\n",
       "<tr><td>21</td><td>timezone-emptyString</td><td>VARCHAR</td></tr>\n",
       "<tr><td>22</td><td>referrer-null</td><td>VARCHAR</td></tr>\n",
       "</table></div>"
      ],
      "text/plain": [
       "<IPython.core.display.HTML object>"
      ]
     },
     "metadata": {},
     "output_type": "display_data"
    }
   ],
   "source": [
    "sql='''\n",
    "REPLACE INTO \"example-koalas-null\" OVERWRITE ALL\n",
    "WITH \"ext\" AS (SELECT *\n",
    "FROM TABLE(\n",
    "  EXTERN(\n",
    "    '{\"type\":\"http\",\"uris\":[\"https://static.imply.io/example-data/kttm-v2/kttm-v2-2019-08-25.json.gz\"]}',\n",
    "    '{\"type\":\"json\"}'\n",
    "  )\n",
    ") EXTEND (\"timestamp\" VARCHAR, \"agent_category\" VARCHAR, \"agent_type\" VARCHAR, \"browser\" VARCHAR, \"browser_version\" VARCHAR, \"city\" VARCHAR, \"continent\" VARCHAR, \"country\" VARCHAR, \"version\" VARCHAR, \"event_type\" VARCHAR, \"event_subtype\" VARCHAR, \"loaded_image\" VARCHAR, \"adblock_list\" VARCHAR, \"forwarded_for\" VARCHAR, \"language\" VARCHAR, \"number\" VARCHAR, \"os\" VARCHAR, \"path\" VARCHAR, \"platform\" VARCHAR, \"referrer\" VARCHAR, \"referrer_host\" VARCHAR, \"region\" VARCHAR, \"remote_address\" VARCHAR, \"screen\" VARCHAR, \"session\" VARCHAR, \"session_length\" BIGINT, \"timezone\" VARCHAR, \"timezone_offset\" VARCHAR, \"window\" VARCHAR))\n",
    "SELECT\n",
    "  TIME_PARSE(\"timestamp\") AS \"__time\",\n",
    "  \"referrer\",\n",
    "  CASE WHEN \"referrer\" = 'Direct' THEN ''\n",
    "    ELSE \"referrer\" END AS \"referrer-emptyString\",\n",
    "  CASE WHEN \"referrer\" = 'Direct' THEN NULL\n",
    "    ELSE \"referrer\" END AS \"referrer-null\",\n",
    "  \"loaded_image\",\n",
    "  \"event_type\",\n",
    "  \"event_subtype\",\n",
    "  CASE WHEN \"event_type\" = 'PercentClear' AND \"event_subtype\" IS NULL THEN 0 ELSE \"event_subtype\" END AS \"event_type-nullCheck\",\n",
    "  CASE WHEN \"event_type\" = 'PercentClear' AND \"event_subtype\" = '' THEN 0 ELSE \"event_subtype\" END AS \"event_type-emptyStringCheck\",\n",
    "  \"session\",\n",
    "  \"session_length\",\n",
    "  CASE WHEN \"session_length\" > 10000 THEN \"session_length\"\n",
    "    ELSE 0 END AS \"session_length-zero\",\n",
    "  CASE WHEN \"session_length\" > 10000 THEN \"session_length\"\n",
    "    ELSE NULL END AS \"session_length-null\",\n",
    "  \"platform\",\n",
    "  \"agent_category\",\n",
    "  \"continent\",\n",
    "  \"language\",\n",
    "  \"timezone\",\n",
    "  CASE WHEN \"timezone\" = 'N/A' THEN NULL\n",
    "    ELSE \"timezone\"\n",
    "    END AS \"timezone-null\",\n",
    "  CASE WHEN \"timezone\" = 'N/A' THEN ''\n",
    "    ELSE \"timezone\"\n",
    "    END AS \"timezone-emptyString\"\n",
    "FROM \"ext\"\n",
    "PARTITIONED BY DAY\n",
    "'''\n",
    "\n",
    "display.run_task(sql)\n",
    "sql_client.wait_until_ready('example-koalas-null')\n",
    "display.table('example-koalas-null')"
   ]
  },
  {
   "cell_type": "markdown",
   "id": "c26404d1-31b9-4392-94f0-b074030216fd",
   "metadata": {},
   "source": [
    "## String NULL\n",
    "\n",
    "Let's count how many NULL values we have."
   ]
  },
  {
   "cell_type": "code",
   "execution_count": 12,
   "id": "6a18fd98-c7c5-42b2-8089-425b6dd8ca89",
   "metadata": {},
   "outputs": [
    {
     "data": {
      "text/html": [
       "<div class=\"druid\"><table>\n",
       "<tr><th>EXPR\\$0</th><th>EXPR\\$1</th><th>EXPR\\$2</th><th>EXPR\\$3</th></tr>\n",
       "<tr><td>192328</td><td>192328</td><td>192328</td><td>192328</td></tr>\n",
       "</table></div>"
      ],
      "text/plain": [
       "<IPython.core.display.HTML object>"
      ]
     },
     "metadata": {},
     "output_type": "display_data"
    }
   ],
   "source": [
    "sql='''\n",
    "SELECT\n",
    "    COUNT(*) FILTER (WHERE \"referrer-emptyString\" IS NULL),\n",
    "    COUNT(*) FILTER (WHERE \"referrer-emptyString\" = ''),\n",
    "    COUNT(*) FILTER (WHERE \"referrer-null\" IS NULL),\n",
    "    COUNT(*) FILTER (WHERE \"referrer-null\" = '')\n",
    "FROM \"example-koalas-null\"\n",
    "'''\n",
    "\n",
    "display.sql(sql)"
   ]
  },
  {
   "cell_type": "markdown",
   "id": "1b6c9b88-837d-4c80-a28d-36184ba63355",
   "metadata": {},
   "source": [
    "## Numeric NULL\n",
    "\n",
    "Let's count how many NULL values we have."
   ]
  },
  {
   "cell_type": "code",
   "execution_count": 9,
   "id": "4fdb061c-a6c6-4a95-b5bb-90d5982bee42",
   "metadata": {},
   "outputs": [
    {
     "data": {
      "text/html": [
       "<div class=\"druid\"><table>\n",
       "<tr><th>EXPR\\$0</th><th>EXPR\\$1</th><th>EXPR\\$2</th><th>EXPR\\$3</th></tr>\n",
       "<tr><td>0</td><td>128614</td><td>0</td><td>128614</td></tr>\n",
       "</table></div>"
      ],
      "text/plain": [
       "<IPython.core.display.HTML object>"
      ]
     },
     "metadata": {},
     "output_type": "display_data"
    }
   ],
   "source": [
    "sql='''\n",
    "SELECT\n",
    "    COUNT(*) FILTER (WHERE \"session_length-zero\" IS NULL),\n",
    "    COUNT(*) FILTER (WHERE \"session_length-zero\" = 0),\n",
    "    COUNT(*) FILTER (WHERE \"session_length-null\" IS NULL),\n",
    "    COUNT(*) FILTER (WHERE \"session_length-null\" = 0)\n",
    "FROM \"example-koalas-null\"\n",
    "'''\n",
    "\n",
    "display.sql(sql)"
   ]
  },
  {
   "cell_type": "code",
   "execution_count": 10,
   "id": "e350ae3e-7840-4a73-a67b-4098148d449c",
   "metadata": {},
   "outputs": [
    {
     "data": {
      "text/html": [
       "<div class=\"druid\"><table>\n",
       "<tr><th>EXPR\\$0</th><th>EXPR\\$1</th></tr>\n",
       "<tr><td>128614</td><td>0</td></tr>\n",
       "</table></div>"
      ],
      "text/plain": [
       "<IPython.core.display.HTML object>"
      ]
     },
     "metadata": {},
     "output_type": "display_data"
    }
   ],
   "source": [
    "sql='''\n",
    "SELECT\n",
    "    COUNT(*) FILTER (WHERE \"session_length-zero\" = 0),\n",
    "    COUNT(*) FILTER (WHERE \"session_length-null\" IS NULL)\n",
    "FROM \"example-koalas-null\"\n",
    "'''\n",
    "\n",
    "display.sql(sql)"
   ]
  },
  {
   "cell_type": "markdown",
   "id": "44738d6d-cec2-40ad-aaba-998c758c63f4",
   "metadata": {},
   "source": [
    "## Clean up\n",
    "\n",
    "Run the following cell to remove the XXX used in this notebook from the database."
   ]
  },
  {
   "cell_type": "code",
   "execution_count": null,
   "id": "8082b545-ba7f-4ede-bb6e-2a6dd62ba0d8",
   "metadata": {},
   "outputs": [],
   "source": [
    "druid.datasources.drop(\"example-koalas-null\")"
   ]
  },
  {
   "cell_type": "markdown",
   "id": "54b8d5fe-ba85-4b5b-9669-0dd47dfbccd1",
   "metadata": {},
   "source": [
    "## Summary\n",
    "\n",
    "* You learned this\n",
    "* Remember this\n",
    "\n",
    "## Learn more\n",
    "\n",
    "* Try this out on your own data\n",
    "* Solve for problem X that is't covered here\n",
    "* Read docs pages\n",
    "* Watch or read something cool from the community\n",
    "* Do some exploratory stuff on your own"
   ]
  },
  {
   "cell_type": "code",
   "execution_count": null,
   "id": "ca4d3362-b1a4-47a4-a782-9773c216b3ba",
   "metadata": {},
   "outputs": [],
   "source": [
    "# STANDARD CODE BLOCKS\n",
    "\n",
    "# When just wanting to display some SQL results\n",
    "display.sql(sql)\n",
    "\n",
    "# When ingesting data:\n",
    "display.run_task(sql)\n",
    "sql_client.wait_until_ready('example-koalas-null')\n",
    "display.table('example-koalas-null')\n",
    "\n",
    "# When you want to make an EXPLAIN look pretty\n",
    "print(json.dumps(json.loads(sql_client.explain_sql(sql)['PLAN']), indent=2))\n",
    "\n",
    "# When you want a simple plot\n",
    "df = pd.DataFrame(sql_client.sql(sql))\n",
    "df.plot(x='x-axis', y='y-axis', marker='o')\n",
    "plt.xticks(rotation=45, ha='right')\n",
    "plt.gca().get_legend().remove()\n",
    "plt.show()\n",
    "\n",
    "# When you want to add some query context parameters\n",
    "req = sql_client.sql_request(sql)\n",
    "req.add_context(\"useApproximateTopN\", \"false\")\n",
    "resp = sql_client.sql_query(req)\n",
    "\n",
    "# When you want to compare two different sets of results\n",
    "df3 = df1.compare(df2, keep_equal=True)\n",
    "df3"
   ]
  }
 ],
 "metadata": {
  "execution": {
   "allow_errors": true,
   "timeout": 300
  },
  "kernelspec": {
   "display_name": "Python 3 (ipykernel)",
   "language": "python",
   "name": "python3"
  },
  "language_info": {
   "codemirror_mode": {
    "name": "ipython",
    "version": 3
   },
   "file_extension": ".py",
   "mimetype": "text/x-python",
   "name": "python",
   "nbconvert_exporter": "python",
   "pygments_lexer": "ipython3",
   "version": "3.11.6"
  }
 },
 "nbformat": 4,
 "nbformat_minor": 5
}
