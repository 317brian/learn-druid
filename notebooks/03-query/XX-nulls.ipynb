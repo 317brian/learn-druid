{
 "cells": [
  {
   "cell_type": "markdown",
   "id": "0cb3b009-ebde-4d56-9d59-a028d66d8309",
   "metadata": {},
   "source": [
    "# (Result) by (action) using (feature)\n",
    "<!--\n",
    "  ~ Licensed to the Apache Software Foundation (ASF) under one\n",
    "  ~ or more contributor license agreements.  See the NOTICE file\n",
    "  ~ distributed with this work for additional information\n",
    "  ~ regarding copyright ownership.  The ASF licenses this file\n",
    "  ~ to you under the Apache License, Version 2.0 (the\n",
    "  ~ \"License\"); you may not use this file except in compliance\n",
    "  ~ with the License.  You may obtain a copy of the License at\n",
    "  ~\n",
    "  ~   http://www.apache.org/licenses/LICENSE-2.0\n",
    "  ~\n",
    "  ~ Unless required by applicable law or agreed to in writing,\n",
    "  ~ software distributed under the License is distributed on an\n",
    "  ~ \"AS IS\" BASIS, WITHOUT WARRANTIES OR CONDITIONS OF ANY\n",
    "  ~ KIND, either express or implied.  See the License for the\n",
    "  ~ specific language governing permissions and limitations\n",
    "  ~ under the License.\n",
    "  -->\n",
    "\n",
    "Introductory paragraph - for example:\n",
    "\n",
    "This tutorial demonstrates how to work with [feature](link to feature doc). In this tutorial you perform the following tasks:\n",
    "\n",
    "- Task 1\n",
    "- Task 2\n",
    "- Task 3\n",
    "- etc"
   ]
  },
  {
   "cell_type": "markdown",
   "id": "bbdbf6ad-ca7b-40f5-8ca3-1070f4a3ee42",
   "metadata": {},
   "source": [
    "## Prerequisites\n",
    "\n",
    "This tutorial works with Druid XX.0.0 or later.\n",
    "\n",
    "#### Run with Docker\n",
    "\n",
    "Launch this tutorial and all prerequisites using the `druid-jupyter` profile of the Docker Compose file for Jupyter-based Druid tutorials. For more information, see the Learn Druid repository [readme](https://github.com/implydata/learn-druid)."
   ]
  },
  {
   "cell_type": "markdown",
   "id": "5007a243-b81a-4601-8f57-5b14940abbff",
   "metadata": {},
   "source": [
    "## Initialization\n",
    "\n",
    "The following cells set up the notebook and learning environment ready for use.\n",
    "\n",
    "### Set up and connect to the learning environment\n",
    "\n",
    "Run the next cell to set up the Druid Python client's connection to Apache Druid.\n",
    "\n",
    "If successful, the Druid version number will be shown in the output."
   ]
  },
  {
   "cell_type": "code",
   "execution_count": null,
   "id": "c1ec783b-df3f-4168-9be2-cdc6ad3e33c2",
   "metadata": {},
   "outputs": [],
   "source": [
    "import druidapi\n",
    "import os\n",
    "\n",
    "if 'DRUID_HOST' not in os.environ.keys():\n",
    "    druid_host=f\"http://localhost:8888\"\n",
    "else:\n",
    "    druid_host=f\"http://{os.environ['DRUID_HOST']}:8888\"\n",
    "    \n",
    "print(f\"Opening a connection to {druid_host}.\")\n",
    "druid = druidapi.jupyter_client(druid_host)\n",
    "\n",
    "display = druid.display\n",
    "sql_client = druid.sql\n",
    "status_client = druid.status\n",
    "status_client.version"
   ]
  },
  {
   "cell_type": "markdown",
   "id": "472589e4-1026-4b3b-bb79-eedabb2b44c4",
   "metadata": {},
   "source": [
    "### Load example data\n",
    "\n",
    "Run the following cell to create a table called `example-koalas-null`. Notice {the use of X as a timestamp | only required columns are ingested | WHERE / expressions / GROUP BY are front-loaded | partitions on X period and clusters by Y}.\n",
    "\n",
    "When completed, you'll see a description of the final table.\n",
    "\n",
    "> During ingestion, NULL values are recorded differently based on whether [SQL-compatible NULL handling](https://druid.apache.org/docs/latest/querying/sql-data-types#null-values) is on. Read more in the [handling null values](https://druid.apache.org/docs/latest/design/segments/#handling-null-values) documentation. As this notebook presumes the use of Druid 28.0.0 and above, which uses this mode by default, string columns that are truly NULL are stored as a NULL, rather than an empty string, while NULLs in numeric data will be stored as true NULL rather than a zero."
   ]
  },
  {
   "cell_type": "code",
   "execution_count": null,
   "id": "f52a94fb-d2e4-403f-ab10-84d3af7bf2c8",
   "metadata": {},
   "outputs": [],
   "source": [
    "sql='''\n",
    "REPLACE INTO \"example-koalas-null\" OVERWRITE ALL\n",
    "WITH \"ext\" AS (SELECT *\n",
    "FROM TABLE(\n",
    "  EXTERN(\n",
    "    '{\"type\":\"http\",\"uris\":[\"https://static.imply.io/example-data/kttm-v2/kttm-v2-2019-08-25.json.gz\"]}',\n",
    "    '{\"type\":\"json\"}'\n",
    "  )\n",
    ") EXTEND (\"timestamp\" VARCHAR, \"agent_category\" VARCHAR, \"agent_type\" VARCHAR, \"browser\" VARCHAR, \"browser_version\" VARCHAR, \"city\" VARCHAR, \"continent\" VARCHAR, \"country\" VARCHAR, \"version\" VARCHAR, \"event_type\" VARCHAR, \"event_subtype\" VARCHAR, \"loaded_image\" VARCHAR, \"adblock_list\" VARCHAR, \"forwarded_for\" VARCHAR, \"language\" VARCHAR, \"number\" VARCHAR, \"os\" VARCHAR, \"path\" VARCHAR, \"platform\" VARCHAR, \"referrer\" VARCHAR, \"referrer_host\" VARCHAR, \"region\" VARCHAR, \"remote_address\" VARCHAR, \"screen\" VARCHAR, \"session\" VARCHAR, \"session_length\" BIGINT, \"timezone\" VARCHAR, \"timezone_offset\" VARCHAR, \"window\" VARCHAR))\n",
    "SELECT\n",
    "  TIME_PARSE(\"timestamp\") AS \"__time\",\n",
    "  \"referrer\",\n",
    "  CASE WHEN \"referrer\" = 'Direct' THEN NULL\n",
    "    ELSE \"referrer\" END AS \"referrer-null\",\n",
    "  \"loaded_image\",\n",
    "  \"event_type\",\n",
    "  \"event_subtype\",\n",
    "  CASE WHEN (\"event_type\" = 'PercentClear' AND \"event_subtype\" = '') THEN 0 ELSE \"event_subtype\" END AS \"event_subtype-zeroed\",\n",
    "  \"session\",\n",
    "  \"session_length\",\n",
    "  CASE WHEN (\"timezone\" = 'EDT') THEN \"session_length\" ELSE NULL END AS \"session_length-EDTonly\",\n",
    "  \"platform\",\n",
    "  \"agent_category\",\n",
    "  \"continent\",\n",
    "  \"language\",\n",
    "  \"timezone\",\n",
    "  CASE WHEN \"timezone\" = 'N/A' THEN NULL\n",
    "    ELSE \"timezone\"\n",
    "    END AS \"timezone-null\"\n",
    "FROM \"ext\"\n",
    "PARTITIONED BY DAY\n",
    "'''\n",
    "\n",
    "display.run_task(sql)\n",
    "sql_client.wait_until_ready('example-koalas-null')\n",
    "display.table('example-koalas-null')"
   ]
  },
  {
   "cell_type": "markdown",
   "id": "6c991063-8966-4331-8fbc-d8592a5eada3",
   "metadata": {},
   "source": [
    "## A note on NULL handling\n",
    "\n",
    "There are two modes for [NULL-handling](https://druid.apache.org/docs/latest/querying/sql-data-types#null-values) in Apache Druid. Define what mode to use by setting the `druid.generic.useDefaultValueForNull` runtime property.\n",
    "\n",
    "This notebook presumes that this setting is `false`, which is the default since Apache Druid 28.0.0."
   ]
  },
  {
   "cell_type": "markdown",
   "id": "c26404d1-31b9-4392-94f0-b074030216fd",
   "metadata": {},
   "source": [
    "## Testing for NULL\n",
    "\n",
    "During ingestion, a new dimension, `referrer-null` was created. A CASE statement was applied to the incoming `referrer` so that anything recorded as \"Direct\" is instead stored as a NULL.\n",
    "\n",
    "Run the following cell to see how the original data (`referrer`) has been mapped to a NULL in `referrer-null`."
   ]
  },
  {
   "cell_type": "code",
   "execution_count": null,
   "id": "6a18fd98-c7c5-42b2-8089-425b6dd8ca89",
   "metadata": {},
   "outputs": [],
   "source": [
    "sql='''\n",
    "SELECT\n",
    "  COUNT(*) FILTER (WHERE \"referrer\" = 'Direct') AS \"referrer\",\n",
    "  COUNT(*) FILTER (WHERE \"referrer-null\" IS NULL) AS \"referrer-null\"\n",
    "FROM \"example-koalas-null\"\n",
    "'''\n",
    "\n",
    "display.sql(sql)"
   ]
  },
  {
   "cell_type": "code",
   "execution_count": null,
   "id": "286c9c1a-53ab-46b4-934b-05a34cc3e33a",
   "metadata": {},
   "outputs": [],
   "source": [
    "A second CASE statement during ingestion "
   ]
  },
  {
   "cell_type": "code",
   "execution_count": null,
   "id": "f74c28f6-ac0d-404d-a586-5eb7f3b65b90",
   "metadata": {},
   "outputs": [],
   "source": [
    "sql='''\n",
    "SELECT\n",
    "  COUNT(*) FILTER (WHERE \"event_subtype\" = '') AS \"event_subtype\",\n",
    "  COUNT(*) FILTER (WHERE \"event_subtype-null\" IS NULL) AS \"event_subtype-null\"\n",
    "FROM \"example-koalas-null\"\n",
    "'''\n",
    "\n",
    "display.sql(sql)"
   ]
  },
  {
   "cell_type": "markdown",
   "id": "1b6c9b88-837d-4c80-a28d-36184ba63355",
   "metadata": {},
   "source": [
    "In the source data, `PercentClear`-type events are recorded as people interact with an image on the site. `event_subtype` then records a percentage clear, from zero through to 100 percent.\n",
    "\n",
    "However, in the source data, zero values are empty, instead of containing a true zero.\n",
    "\n",
    "The following CASE statement therefore checks for empty values and replaces it with a true zero at ingestion time. Notice how Druid is careful not to intepret an empty string in the source data as equivalent to NULL.\n",
    "\n",
    "```sql\n",
    "CASE WHEN (\"event_type\" = 'PercentClear' AND \"event_subtype\" = '') THEN 0 ELSE \"event_subtype\" END AS \"event_subtype-zeroed\"\n",
    "```\n",
    "\n",
    "Run the following cell to see how this shows up in the data."
   ]
  },
  {
   "cell_type": "code",
   "execution_count": null,
   "id": "96303995-0948-487f-9e2d-a7b40dbf5bad",
   "metadata": {},
   "outputs": [],
   "source": [
    "sql='''\n",
    "SELECT\n",
    "  CONCAT(\"event_subtype-zeroed\",'%') AS \"Percentage Cleared\",\n",
    "  COUNT(*) AS \"events\"\n",
    "FROM \"example-koalas-null\"\n",
    "WHERE \"event_type\" = 'PercentClear'\n",
    "GROUP BY \"event_subtype-zeroed\"\n",
    "ORDER BY CAST(\"event_subtype-zeroed\" AS DOUBLE)\n",
    "'''\n",
    "\n",
    "display.sql(sql)"
   ]
  },
  {
   "cell_type": "markdown",
   "id": "af9ba1be-d25c-4b29-80e4-a10e50338039",
   "metadata": {},
   "source": [
    "## Conditions\n",
    "\n",
    "Use NVL and COALESCE to return another value when the expression is NULL.\n",
    "\n",
    "> `COALESCE(col1, col2)` always returns `col1` when SQL-compatible NULL-handling is off since empty strings and NULL are considered equivallent. Read more in the [NULL-handling](https://druid.apache.org/docs/latest/querying/sql-data-types/#null-values) documentation.\n",
    "\n",
    "A CASE statement in the ingestion SQL outputs a field `example-koalas-null`, translating any incoming value of \"N/A\" to a true NULL.\n",
    "\n",
    "Run the following cell to see examples of these functions being used."
   ]
  },
  {
   "cell_type": "code",
   "execution_count": null,
   "id": "6b837d39-8a17-45fc-b7cb-9639ea1b7573",
   "metadata": {},
   "outputs": [],
   "source": [
    "sql='''\n",
    "SELECT COALESCE(\"timezone-null\",'UTC') AS \"timezone\",\n",
    "COUNT(*) AS \"events\"\n",
    "FROM \"example-koalas-null\"\n",
    "GROUP BY 1\n",
    "HAVING COUNT(*) > 5000\n",
    "'''\n",
    "\n",
    "display.sql(sql)"
   ]
  },
  {
   "cell_type": "markdown",
   "id": "75b4071d-ec5c-43cd-b381-f54f0fb5a171",
   "metadata": {},
   "source": [
    "Notice that in the ingestion SQL statement, `session_length-null` is output as a NULL when the `session_length` is zero."
   ]
  },
  {
   "cell_type": "code",
   "execution_count": null,
   "id": "c0f38bf8-c396-47ab-96af-23ecd07589fe",
   "metadata": {},
   "outputs": [],
   "source": [
    "sql='''\n",
    "SELECT COUNT(*)\n",
    "FROM \"example-koalas-null\"\n",
    "WHERE \"session_length-null\" IS NULL\n",
    "'''\n",
    "\n",
    "display.sql(sql)"
   ]
  },
  {
   "cell_type": "markdown",
   "id": "08c4a5fc-a4e8-451e-917a-4f9c851b1bd7",
   "metadata": {},
   "source": [
    "## Boolean operators\n",
    "\n",
    "Use the `||` and `&&` operators in a query as a shorthand for OR and AND respectively.\n",
    "\n",
    "> Apache Druid uses SQL-compatible mode for boolean operators. Read more about how to turn [strict boolean behaviour](https://druid.apache.org/docs/latest/misc/math-expr/#logical-operator-modes) on or off in coniguration through `druid.expressions.useStrictBooleans`.\n",
    "\n",
    "* The first two results are considered TRUE.\n",
    "* The remaining calculations return NULL."
   ]
  },
  {
   "cell_type": "code",
   "execution_count": null,
   "id": "f3805cb6-b20b-4bfb-8885-4b210cf5c67f",
   "metadata": {},
   "outputs": [],
   "source": [
    "\n",
    "SELECT\n",
    "true || null,\n",
    "null || true,\n",
    "false || null,\n",
    "null || false,\n",
    "null || null\n",
    "FROM x\n"
   ]
  },
  {
   "cell_type": "markdown",
   "id": "1afae770-ae5f-4b5f-bcea-c86665a22ccd",
   "metadata": {},
   "source": [
    "Run the next cell for examples of the AND operator.\n",
    "\n",
    "* The first calculation returns TRUE as both functions return TRUE.\n",
    "* The next two calculations return FALSE.\n",
    "* The remaining three return NULL."
   ]
  },
  {
   "cell_type": "code",
   "execution_count": null,
   "id": "1f69bb99-db57-4d0e-8c71-1e19e8985b08",
   "metadata": {},
   "outputs": [],
   "source": [
    "\n",
    "SELECT\n",
    "true && true,\n",
    "false && null,\n",
    "null && false,\n",
    "true && null,\n",
    "null && true,\n",
    "null && null\n",
    "FROM x\n"
   ]
  },
  {
   "cell_type": "markdown",
   "id": "4249aa3b-8996-4c5e-a673-8f53419f8fa5",
   "metadata": {},
   "source": [
    "The following cell shows a query where data is being [intepreted as NULL](https://druid.apache.org/docs/latest/misc/math-expr/#logical-operator-modes) according to non-SQL-compatible NULL-handling behavior."
   ]
  },
  {
   "cell_type": "code",
   "execution_count": null,
   "id": "c179286d-4bd2-4bad-ac21-9daec90c96d7",
   "metadata": {},
   "outputs": [],
   "source": [
    "SELECT\n",
    "100 && 11,\n",
    "0.7 || 0.3,\n",
    "100 && 0,\n",
    "'troo' && 'true',\n",
    "'troo' || 'true'\n",
    "FROM X"
   ]
  },
  {
   "cell_type": "markdown",
   "id": "45b8582e-6bb7-466f-8002-08a061e83fbc",
   "metadata": {},
   "source": [
    "## Scalar functions\n",
    "\n",
    "In the following SQL, some simple string scalar functions are used to output a number of new values.\n",
    "\n",
    "Run the cell to see how a NULL value affects results."
   ]
  },
  {
   "cell_type": "code",
   "execution_count": null,
   "id": "71aed22f-98f5-44f0-9201-f211086440b4",
   "metadata": {},
   "outputs": [],
   "source": [
    "sql='''\n",
    "SELECT\n",
    "  CONCAT(\"timezone-null\",' timezone') AS \"timezone\",\n",
    "  LENGTH(\"timezone-null\") AS \"length\",\n",
    "  REPLACE(\"timezone-null\",'T',' timezone') AS \"easyToRead\",\n",
    "  REVERSE(\"timezone-null\") AS \"backwards\",\n",
    "  COUNT(*) AS \"events\"\n",
    "FROM \"example-koalas-null\"\n",
    "GROUP BY 1, 2, 3, 4\n",
    "HAVING COUNT(*) > 5000\n",
    "'''\n",
    "\n",
    "display.sql(sql)"
   ]
  },
  {
   "cell_type": "markdown",
   "id": "009de2f3-20ea-468e-a975-bc046fa213d3",
   "metadata": {},
   "source": [
    "## Aggregations\n",
    "\n",
    "Run the following cell to see how COUNT operations on specific columns that contain NULL values are treated.\n",
    "\n",
    "* A total number of rows is output as `totalRows`.\n",
    "* A count of all rows with a NULL `timezone-null` is made and output as `nullRows`.\n",
    "* A count is made of the number of rows where `timezone-null` contains a non-value, output as `nonNullRows`.\n",
    "* The NULL and non-NULL row counts are added together, showing they total `totalRows`.\n",
    "\n",
    "> When SQL-compatible NULL-handling is not on, rows containing either an empty string or a NULL are excluded as they are considered equivallent. Read more in the [NULL-handling](https://druid.apache.org/docs/latest/querying/sql-data-types/#null-values) documentation."
   ]
  },
  {
   "cell_type": "code",
   "execution_count": null,
   "id": "859ba529-446c-43b2-9c7f-5fedc2f00216",
   "metadata": {},
   "outputs": [],
   "source": [
    "sql='''\n",
    "SELECT\n",
    "  COUNT(*) AS \"totalRows\",\n",
    "  COUNT(*) FILTER (WHERE \"timezone-null\" IS NULL) AS \"nullRows\",\n",
    "  COUNT(\"timezone-null\") AS \"nonNullRows\",\n",
    "  COUNT(*) FILTER (WHERE \"timezone-null\" IS NULL) + COUNT(\"timezone-null\") AS \"totalRows-2\"\n",
    "FROM \"example-koalas-null\"\n",
    "'''\n",
    "\n",
    "display.sql(sql)"
   ]
  },
  {
   "cell_type": "markdown",
   "id": "e3d0178b-f556-488a-9618-3245e7434e64",
   "metadata": {},
   "source": [
    "The next cell shows that NULL values are not included in COUNT DISTINCT operations."
   ]
  },
  {
   "cell_type": "code",
   "execution_count": null,
   "id": "b757242f-0206-4e4e-952e-9e4b84cc546b",
   "metadata": {},
   "outputs": [],
   "source": [
    "sql='''\n",
    "SELECT\n",
    "  COUNT(DISTINCT \"timezone-null\") AS \"distinctValues\",\n",
    "  COUNT(DISTINCT \"timezone-null\") FILTER (WHERE \"timezone-null\" IS NOT NULL) AS \"distinctNonNullValues\",\n",
    "  COUNT(DISTINCT \"timezone-null\") FILTER (WHERE \"timezone-null\" IS NULL) AS \"distinctNullValues\"\n",
    "FROM \"example-koalas-null\"\n",
    "'''\n",
    "\n",
    "display.sql(sql)"
   ]
  },
  {
   "cell_type": "markdown",
   "id": "68ed9442-e399-43dd-8be6-0ab75d1cc7af",
   "metadata": {},
   "source": [
    "The following query shows how NULLs are separated out during a GROUP BY operation."
   ]
  },
  {
   "cell_type": "code",
   "execution_count": null,
   "id": "cffdbbf5-3a3d-4821-81d9-0a47d48026b4",
   "metadata": {},
   "outputs": [],
   "source": [
    "sql='''\n",
    "SELECT\n",
    "  \"timezone-null\",\n",
    "  COUNT(*) AS \"totalEvents\",\n",
    "  SUM(\"session_length\") AS \"totalSessionLength\",\n",
    "  STRING_FORMAT('%.3f',AVG(\"session_length\")) AS \"avgSessionLength\",\n",
    "  MAX(\"session_length\") AS \"maxSessionLength\",\n",
    "  MIN(\"session_length\") AS \"minSessionLength\"\n",
    "FROM \"example-koalas-null\"\n",
    "GROUP BY 1\n",
    "HAVING COUNT(*) > 1000\n",
    "'''\n",
    "\n",
    "display.sql(sql)"
   ]
  },
  {
   "cell_type": "markdown",
   "id": "731de75b-4a90-428c-9664-688a3eb52e27",
   "metadata": {},
   "source": [
    "The `session_length-EDTonly` dimension only contains a session length in seconds when the timezone is EDT, otherwise it contains NULL.\n",
    "\n",
    "Run the following SQL to see that NULLs are ignored when aggregations are calculated, giving a match to the EDT row from the results above.\n",
    "\n",
    "* `totalEvents` is the complete number of rows in the data.\n",
    "* `totalEventsEDT` has been added to show the number of events that are known to have been recorded in the EDT timezone.\n",
    "* The remaining functions specifically reference the `session_length-EDTonly` dimension."
   ]
  },
  {
   "cell_type": "code",
   "execution_count": null,
   "id": "988474f2-c429-4e90-be62-c571b04b1b8e",
   "metadata": {},
   "outputs": [],
   "source": [
    "sql='''\n",
    "SELECT\n",
    "  COUNT(*) AS \"totalEvents\",\n",
    "  COUNT(*) FILTER (WHERE \"timezone-null\" = 'EDT') AS \"totalEventsEDT\",\n",
    "  SUM(\"session_length-EDTonly\") AS \"totalSessionLength\",\n",
    "  STRING_FORMAT('%.3f',AVG(\"session_length-EDTonly\")) AS \"avgSessionLength\",\n",
    "  MAX(\"session_length-EDTonly\") AS \"maxSessionLength\",\n",
    "  MIN(\"session_length-EDTonly\") AS \"minSessionLength\"\n",
    "FROM \"example-koalas-null\"\n",
    "'''\n",
    "\n",
    "display.sql(sql)"
   ]
  },
  {
   "cell_type": "markdown",
   "id": "e72f1955-7294-471e-afbf-e1dcafe38868",
   "metadata": {},
   "source": [
    "In the following SQL are some aggregation functions that [return NULL](https://druid.apache.org/docs/latest/querying/sql-aggregations/) by default.\n",
    "\n",
    "> The default returned value depends on whether SQL-compatible NULL-handling is on. This can lead to some unexpected behavior Read more in the [NULL-handling](https://druid.apache.org/docs/latest/querying/sql-data-types/#null-values) documentation on how to switch between modes."
   ]
  },
  {
   "cell_type": "code",
   "execution_count": null,
   "id": "229edaa2-2679-450b-a21c-eb919b23d36d",
   "metadata": {},
   "outputs": [],
   "source": [
    "sql='''\n",
    "SELECT\n",
    "  SUM(something),\n",
    "  MIN(),\n",
    "  MAX(),\n",
    "  AVG()\n",
    "'''\n",
    "\n",
    "display.sql(sql)"
   ]
  },
  {
   "cell_type": "markdown",
   "id": "b65d63a7-fdba-4107-96b7-940da296e959",
   "metadata": {},
   "source": [
    "## Arrays\n",
    "\n",
    "Use the dedicated [array functions](https://druid.apache.org/docs/latest/querying/sql-array-functions) to work with arrays.\n",
    "\n",
    "In the following SQL, this function returns NULL if a value cannot be found in the ARRAY (out of range) or if it cannot be found.\n",
    "\n",
    "> When SQL-compatible NULL-handling is not being used, the returned value would be -1. Read more [here](https://druid.apache.org/docs/latest/querying/sql-array-functions)."
   ]
  },
  {
   "cell_type": "code",
   "execution_count": null,
   "id": "a7b96359-0156-4a56-8e39-f5ab6a2d5bfc",
   "metadata": {},
   "outputs": [],
   "source": [
    "SELECT\n",
    "\n",
    "ARRAY_OFFSET(array, 5)\n",
    "ARRAY_OFFSET_OF(array, thing)"
   ]
  },
  {
   "cell_type": "markdown",
   "id": "e4a84d50-82cc-44db-ac8a-e3136c3a59d1",
   "metadata": {},
   "source": [
    "Run the following cell to see [how UNNEST handles NULL values](https://druid.apache.org/docs/latest/querying/sql/#unnest).\n",
    "\n",
    "Notice that a record corresponding to each NULL is returned, rather then being removing duplicates."
   ]
  },
  {
   "cell_type": "markdown",
   "id": "44738d6d-cec2-40ad-aaba-998c758c63f4",
   "metadata": {},
   "source": [
    "## Clean up\n",
    "\n",
    "Run the following cell to remove the XXX used in this notebook from the database."
   ]
  },
  {
   "cell_type": "code",
   "execution_count": null,
   "id": "8082b545-ba7f-4ede-bb6e-2a6dd62ba0d8",
   "metadata": {},
   "outputs": [],
   "source": [
    "druid.datasources.drop(\"example-koalas-null\")"
   ]
  },
  {
   "cell_type": "markdown",
   "id": "54b8d5fe-ba85-4b5b-9669-0dd47dfbccd1",
   "metadata": {},
   "source": [
    "## Summary\n",
    "\n",
    "* You learned this\n",
    "* Remember this\n",
    "\n",
    "## Learn more\n",
    "\n",
    "* Read the documentation on:\n",
    "  * Enabling and disabling [SQL-compatible NULL handling](https://druid.apache.org/docs/latest/querying/sql-data-types#null-values) using `druid.generic.useDefaultValueForNull`\n",
    "  * How Druid stores [NULL during ingestion](https://druid.apache.org/docs/latest/design/segments#handling-null-values)\n",
    "  * The default returned value for different [aggregations](https://druid.apache.org/docs/latest/querying/sql-aggregations/)\n",
    "  * [Logical operator](https://druid.apache.org/docs/latest/misc/math-expr/#logical-operator-modes) modes\n",
    "* If you tend to use native rather than SQL queries, read about the [NULL filter](https://druid.apache.org/docs/latest/querying/filters#null-filter) in the documentation.\n",
    "* See the [table of default values](https://druid.apache.org/docs/latest/querying/sql-data-types/#standard-types) stored during ingestion when SQL-compatible NULL-handling is not turned on\n",
    "* Follow the [notebook on GROUP BY](./01-groupby.ipynb) to see how NULL appears in [GROUPING SETS](https://druid.apache.org/docs/latest/querying/sql/#group-by)\n",
    "* Try out other scalar functions with NULL - check out the dedicated notebooks on [datetime](./07-functions-datetime.ipynb), [string](./08-functions-strings.ipynb), and [IP address](./10-functions-ip.ipynb) functions for examples."
   ]
  },
  {
   "cell_type": "code",
   "execution_count": null,
   "id": "ca4d3362-b1a4-47a4-a782-9773c216b3ba",
   "metadata": {},
   "outputs": [],
   "source": [
    "# STANDARD CODE BLOCKS\n",
    "\n",
    "# When just wanting to display some SQL results\n",
    "display.sql(sql)\n",
    "\n",
    "# When ingesting data:\n",
    "display.run_task(sql)\n",
    "sql_client.wait_until_ready('example-koalas-null')\n",
    "display.table('example-koalas-null')\n",
    "\n",
    "# When you want to make an EXPLAIN look pretty\n",
    "print(json.dumps(json.loads(sql_client.explain_sql(sql)['PLAN']), indent=2))\n",
    "\n",
    "# When you want a simple plot\n",
    "df = pd.DataFrame(sql_client.sql(sql))\n",
    "df.plot(x='x-axis', y='y-axis', marker='o')\n",
    "plt.xticks(rotation=45, ha='right')\n",
    "plt.gca().get_legend().remove()\n",
    "plt.show()\n",
    "\n",
    "# When you want to add some query context parameters\n",
    "req = sql_client.sql_request(sql)\n",
    "req.add_context(\"useApproximateTopN\", \"false\")\n",
    "resp = sql_client.sql_query(req)\n",
    "\n",
    "# When you want to compare two different sets of results\n",
    "df3 = df1.compare(df2, keep_equal=True)\n",
    "df3"
   ]
  }
 ],
 "metadata": {
  "execution": {
   "allow_errors": true,
   "timeout": 300
  },
  "kernelspec": {
   "display_name": "Python 3 (ipykernel)",
   "language": "python",
   "name": "python3"
  },
  "language_info": {
   "codemirror_mode": {
    "name": "ipython",
    "version": 3
   },
   "file_extension": ".py",
   "mimetype": "text/x-python",
   "name": "python",
   "nbconvert_exporter": "python",
   "pygments_lexer": "ipython3",
   "version": "3.11.6"
  }
 },
 "nbformat": 4,
 "nbformat_minor": 5
}
