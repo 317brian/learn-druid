{
 "cells": [
  {
   "cell_type": "markdown",
   "id": "0cb3b009-ebde-4d56-9d59-a028d66d8309",
   "metadata": {},
   "source": [
    "# Work with string data using scalar functions\n",
    "<!--\n",
    "  ~ Licensed to the Apache Software Foundation (ASF) under one\n",
    "  ~ or more contributor license agreements.  See the NOTICE file\n",
    "  ~ distributed with this work for additional information\n",
    "  ~ regarding copyright ownership.  The ASF licenses this file\n",
    "  ~ to you under the Apache License, Version 2.0 (the\n",
    "  ~ \"License\"); you may not use this file except in compliance\n",
    "  ~ with the License.  You may obtain a copy of the License at\n",
    "  ~\n",
    "  ~   http://www.apache.org/licenses/LICENSE-2.0\n",
    "  ~\n",
    "  ~ Unless required by applicable law or agreed to in writing,\n",
    "  ~ software distributed under the License is distributed on an\n",
    "  ~ \"AS IS\" BASIS, WITHOUT WARRANTIES OR CONDITIONS OF ANY\n",
    "  ~ KIND, either express or implied.  See the License for the\n",
    "  ~ specific language governing permissions and limitations\n",
    "  ~ under the License.\n",
    "  -->\n",
    "\n",
    "Introductory paragraph - for example:\n",
    "\n",
    "This tutorial demonstrates how to work with [feature](link to feature doc). In this tutorial you perform the following tasks:\n",
    "\n",
    "- Task 1\n",
    "- Task 2\n",
    "- Task 3\n",
    "- etc"
   ]
  },
  {
   "cell_type": "markdown",
   "id": "bbdbf6ad-ca7b-40f5-8ca3-1070f4a3ee42",
   "metadata": {},
   "source": [
    "## Prerequisites\n",
    "\n",
    "This tutorial works with Druid 27.0.0 or later.\n",
    "\n",
    "Launch this tutorial and all prerequisites using the `druid-jupyter` profile of the Docker Compose file for Jupyter-based Druid tutorials. For more information, see [Docker for Jupyter Notebook tutorials](https://druid.apache.org/docs/latest/tutorials/tutorial-jupyter-docker.html)."
   ]
  },
  {
   "cell_type": "markdown",
   "id": "5007a243-b81a-4601-8f57-5b14940abbff",
   "metadata": {},
   "source": [
    "## Initialization\n",
    "\n",
    "The following cells set up the notebook and learning environment ready for use.\n",
    "\n",
    "### Set up and connect to the learning environment\n",
    "\n",
    "Run the next cell to set up the Druid Python client's connection to Apache Druid.\n",
    "\n",
    "If successful, the Druid version number will be shown in the output."
   ]
  },
  {
   "cell_type": "code",
   "execution_count": null,
   "id": "c1ec783b-df3f-4168-9be2-cdc6ad3e33c2",
   "metadata": {},
   "outputs": [],
   "source": [
    "import druidapi\n",
    "import os\n",
    "\n",
    "if 'DRUID_HOST' not in os.environ.keys():\n",
    "    druid_host=f\"http://localhost:8888\"\n",
    "else:\n",
    "    druid_host=f\"http://{os.environ['DRUID_HOST']}:8888\"\n",
    "    \n",
    "print(f\"Opening a connection to {druid_host}.\")\n",
    "druid = druidapi.jupyter_client(druid_host)\n",
    "\n",
    "display = druid.display\n",
    "sql_client = druid.sql\n",
    "status_client = druid.status\n",
    "\n",
    "status_client.version"
   ]
  },
  {
   "cell_type": "markdown",
   "id": "472589e4-1026-4b3b-bb79-eedabb2b44c4",
   "metadata": {},
   "source": [
    "### Load example data\n",
    "\n",
    "Run the following cell to create a table called `example-koalas-strings`. Notice {the use of X as a timestamp | only required columns are ingested | WHERE / expressions / GROUP BY are front-loaded | partitions on X period and clusters by Y}.\n",
    "\n",
    "When completed, you'll see a description of the final table."
   ]
  },
  {
   "cell_type": "code",
   "execution_count": null,
   "id": "f52a94fb-d2e4-403f-ab10-84d3af7bf2c8",
   "metadata": {},
   "outputs": [],
   "source": [
    "sql='''\n",
    "REPLACE INTO \"example-koalas-strings\" OVERWRITE ALL\n",
    "WITH \"ext\" AS (SELECT *\n",
    "FROM TABLE(\n",
    "  EXTERN(\n",
    "    '{\"type\":\"http\",\"uris\":[\"https://static.imply.io/example-data/kttm-v2/kttm-v2-2019-08-25.json.gz\"]}',\n",
    "    '{\"type\":\"json\"}'\n",
    "  )\n",
    ") EXTEND (\"timestamp\" VARCHAR, \"agent_category\" VARCHAR, \"agent_type\" VARCHAR, \"browser\" VARCHAR, \"browser_version\" VARCHAR, \"city\" VARCHAR, \"continent\" VARCHAR, \"country\" VARCHAR, \"version\" VARCHAR, \"event_type\" VARCHAR, \"event_subtype\" VARCHAR, \"loaded_image\" VARCHAR, \"adblock_list\" VARCHAR, \"forwarded_for\" VARCHAR, \"language\" VARCHAR, \"number\" VARCHAR, \"os\" VARCHAR, \"path\" VARCHAR, \"platform\" VARCHAR, \"referrer\" VARCHAR, \"referrer_host\" VARCHAR, \"region\" VARCHAR, \"remote_address\" VARCHAR, \"screen\" VARCHAR, \"session\" VARCHAR, \"session_length\" BIGINT, \"timezone\" VARCHAR, \"timezone_offset\" VARCHAR, \"window\" VARCHAR))\n",
    "SELECT\n",
    "  TIME_PARSE(\"timestamp\") AS \"__time\",\n",
    "  \"agent_category\",\n",
    "  \"agent_type\",\n",
    "  \"browser\",\n",
    "  \"browser_version\",\n",
    "  \"city\",\n",
    "  \"continent\",\n",
    "  \"country\",\n",
    "  \"version\",\n",
    "  \"event_type\",\n",
    "  \"event_subtype\",\n",
    "  \"loaded_image\",\n",
    "  \"adblock_list\",\n",
    "  \"forwarded_for\",\n",
    "  MV_TO_ARRAY(\"language\") AS \"language\",\n",
    "  \"number\",\n",
    "  \"os\",\n",
    "  \"path\",\n",
    "  \"platform\",\n",
    "  \"referrer\",\n",
    "  \"referrer_host\",\n",
    "  \"region\",\n",
    "  \"remote_address\",\n",
    "  \"screen\",\n",
    "  \"session\",\n",
    "  \"session_length\",\n",
    "  \"timezone\",\n",
    "  \"timezone_offset\",\n",
    "  \"window\"\n",
    "FROM \"ext\"\n",
    "PARTITIONED BY DAY\n",
    "'''\n",
    "\n",
    "display.run_task(sql)\n",
    "sql_client.wait_until_ready('example-koalas-strings')\n",
    "display.table('example-koalas-strings')"
   ]
  },
  {
   "cell_type": "markdown",
   "id": "9c3d6b39-6551-4b2a-bdfb-9606aa92c853",
   "metadata": {},
   "source": [
    "<!-- Include these cells if you need additional Python modules -->\n",
    "\n",
    "### Import additional modules\n",
    "\n",
    "Run the following cell to import additional Python modules that you will use to X, Y, Z."
   ]
  },
  {
   "cell_type": "code",
   "execution_count": null,
   "id": "dc4c2524-0eba-4bc6-84ed-da3a25aa5fbe",
   "metadata": {},
   "outputs": [],
   "source": [
    "# Add your modules here, remembering to align this with the prerequisites section\n",
    "\n",
    "import json\n",
    "import matplotlib\n",
    "import matplotlib.pyplot as plt\n",
    "import pandas as pd"
   ]
  },
  {
   "cell_type": "code",
   "execution_count": null,
   "id": "97d9f63b-a436-4eeb-ad7a-23b77c2ad968",
   "metadata": {},
   "outputs": [],
   "source": [
    "## Find things in a string"
   ]
  },
  {
   "cell_type": "code",
   "execution_count": null,
   "id": "6bd9d739-41e3-42a5-a276-5269cec20a6a",
   "metadata": {},
   "outputs": [],
   "source": [
    "Run the next cell to find any row in the table with a Google referrer."
   ]
  },
  {
   "cell_type": "code",
   "execution_count": null,
   "id": "b9abf5a4-e9a3-408e-ae40-05fb85057849",
   "metadata": {},
   "outputs": [],
   "source": [
    "'''sql\n",
    "\n",
    "'''\n",
    "\n",
    "display.sql(sql)\n",
    "\n",
    "\n",
    "\n",
    "POSITION / STRPOS"
   ]
  },
  {
   "cell_type": "code",
   "execution_count": null,
   "id": "82733c7b-f7a4-4e64-805d-be194f3b9ae5",
   "metadata": {},
   "outputs": [],
   "source": [
    "REGEXP_LIKE"
   ]
  },
  {
   "cell_type": "code",
   "execution_count": null,
   "id": "fa976c8d-92c0-479a-aa38-f324baefeab1",
   "metadata": {},
   "outputs": [],
   "source": [
    "CONTAINS_STRING"
   ]
  },
  {
   "cell_type": "code",
   "execution_count": null,
   "id": "1d03cea9-b8fb-4192-960e-9a464c2df687",
   "metadata": {
    "jupyter": {
     "source_hidden": true
    }
   },
   "outputs": [],
   "source": [
    "ICONTAINS_STRING"
   ]
  },
  {
   "cell_type": "code",
   "execution_count": null,
   "id": "06a6bf63-c7f3-4c86-b5e2-bb2a52dafbfc",
   "metadata": {},
   "outputs": [],
   "source": [
    "## Manipulate values\n"
   ]
  },
  {
   "cell_type": "code",
   "execution_count": null,
   "id": "ecec8ab3-6649-4196-ac43-c536e8f14b84",
   "metadata": {},
   "outputs": [],
   "source": [
    "UPPER / LOWER"
   ]
  },
  {
   "cell_type": "code",
   "execution_count": null,
   "id": "cc210403-de95-4479-9ec2-b3647da32865",
   "metadata": {},
   "outputs": [],
   "source": [
    "STRING_FORMAT"
   ]
  },
  {
   "cell_type": "code",
   "execution_count": null,
   "id": "06fea80a-e47e-4ea0-97c0-91d974a851fe",
   "metadata": {},
   "outputs": [],
   "source": [
    "TRIM"
   ]
  },
  {
   "cell_type": "code",
   "execution_count": null,
   "id": "ab37f6a9-651e-494b-8799-0ed9a266e1bc",
   "metadata": {},
   "outputs": [],
   "source": [
    "REVERSE"
   ]
  },
  {
   "cell_type": "code",
   "execution_count": null,
   "id": "2c38df43-522c-4d57-9b58-1e0ce9201a22",
   "metadata": {},
   "outputs": [],
   "source": [
    "## Add things to a string"
   ]
  },
  {
   "cell_type": "code",
   "execution_count": null,
   "id": "2e7434d0-b2e6-4c5d-bd06-0c262aaec8c0",
   "metadata": {},
   "outputs": [],
   "source": [
    "CONCAT / TEXTCAT"
   ]
  },
  {
   "cell_type": "code",
   "execution_count": null,
   "id": "92c53277-f080-4179-b544-9cb5b47a0d8a",
   "metadata": {},
   "outputs": [],
   "source": [
    "REGEXP_REPLACE"
   ]
  },
  {
   "cell_type": "code",
   "execution_count": null,
   "id": "d521db13-f8bd-4670-9f7e-9081acbd858d",
   "metadata": {},
   "outputs": [],
   "source": [
    "REPLACE"
   ]
  },
  {
   "cell_type": "code",
   "execution_count": null,
   "id": "3b7dae57-d90b-4b81-99f1-b1736f659372",
   "metadata": {},
   "outputs": [],
   "source": [
    "REPEAT"
   ]
  },
  {
   "cell_type": "code",
   "execution_count": null,
   "id": "56de2152-322e-4c4e-a3b4-ef32e7b5556e",
   "metadata": {},
   "outputs": [],
   "source": [
    "LPAD"
   ]
  },
  {
   "cell_type": "code",
   "execution_count": null,
   "id": "12f964bf-64b6-487a-ac07-3e9b557c9798",
   "metadata": {},
   "outputs": [],
   "source": [
    "RPAD"
   ]
  },
  {
   "cell_type": "code",
   "execution_count": null,
   "id": "f392e580-1123-4f67-a5eb-30fcfd635654",
   "metadata": {},
   "outputs": [],
   "source": [
    "## Get bits out of a string"
   ]
  },
  {
   "cell_type": "markdown",
   "id": "69fa2986-de0e-4c75-a703-9d5d30fe83c9",
   "metadata": {},
   "source": [
    "The next cell uses the `POSITION`, `RIGHT`, and `LEFT` functions to find the horizontal and vertical screen size of the user."
   ]
  },
  {
   "cell_type": "code",
   "execution_count": null,
   "id": "dacdd522-f472-4f48-8f28-6720bca58a5a",
   "metadata": {},
   "outputs": [],
   "source": [
    "sql='''\n",
    "SELECT\n",
    "  LEFT(\"screen\",POSITION('x' in \"screen\")-1) AS \"x-size\",\n",
    "  RIGHT(\"screen\",LENGTH(\"screen\")-POSITION('x' in \"screen\")) AS \"y-size\"\n",
    "FROM \"example-koalas-strings\"\n",
    "WHERE TIME_IN_INTERVAL(__time,'2019-08-25T14/PT1H')\n",
    "LIMIT 10\n",
    "'''\n",
    "\n",
    "display.sql(sql)"
   ]
  },
  {
   "cell_type": "code",
   "execution_count": null,
   "id": "de8a6387-43d0-4a26-9545-e5c669be6251",
   "metadata": {},
   "outputs": [],
   "source": [
    "Alternatively, we might use a regular expression."
   ]
  },
  {
   "cell_type": "code",
   "execution_count": null,
   "id": "2261df6a-d2ab-4677-873a-0ae67e5e5bfa",
   "metadata": {},
   "outputs": [],
   "source": [
    "sql='''\n",
    "SELECT\n",
    "  TIME_FLOOR(\"__time\",'PT1H') AS \"interval\",\n",
    "  AVG(REGEXP_EXTRACT(\"screen\",'([0-9]*)x([0-9]*)',1)) AS \"x-size-average\",\n",
    "  AVG(REGEXP_EXTRACT(\"screen\",'([0-9]*)x([0-9]*)',2)) AS \"y-size-average\"\n",
    "FROM \"example-koalas-strings\"\n",
    "WHERE TIME_IN_INTERVAL(__time,'2019-08-25T0/PT12H')\n",
    "GROUP BY 1\n",
    "'''\n",
    "\n",
    "display.sql(sql)\n"
   ]
  },
  {
   "cell_type": "markdown",
   "id": "a9e3cbc7-b4b5-43d2-ace4-198b7b60ae6f",
   "metadata": {},
   "source": [
    "Run the following query to return only the filename from the image Url in the data."
   ]
  },
  {
   "cell_type": "code",
   "execution_count": null,
   "id": "4633cdf5-b4dc-4d65-8b8a-47df223aae7b",
   "metadata": {},
   "outputs": [],
   "source": [
    "sql='''\n",
    "SELECT\n",
    "  REGEXP_EXTRACT(\"loaded_image\",'[^/\\\\&\\?]+\\.\\w{3,4}(?=([\\?&].*$|$))') AS \"filename\",\n",
    "  COUNT(*) AS \"events\"\n",
    "FROM \"example-koalas-strings\"\n",
    "WHERE TIME_IN_INTERVAL(__time,'2019-08-25T14/PT1H')\n",
    "GROUP BY 1\n",
    "'''\n",
    "\n",
    "df = pd.DataFrame(sql_client.sql(sql))\n",
    "df.plot.barh(x='filename', y='events')\n",
    "plt.show()"
   ]
  },
  {
   "cell_type": "markdown",
   "id": "ac5198d5-4191-4fbf-aeb6-463c45d7fec5",
   "metadata": {},
   "source": [
    "The next cell contains a SQL statement that uses a regular expression with multiple matches."
   ]
  },
  {
   "cell_type": "code",
   "execution_count": null,
   "id": "acab084b-ffdf-4529-86c8-d6a83223d48f",
   "metadata": {},
   "outputs": [],
   "source": [
    "sql='''\n",
    "SELECT\n",
    "  REGEXP_EXTRACT(\"loaded_image\",'^(([^:/?#]+):)?(//([^/?#]*))?([^?#]*)(\\?([^#]*))?(#(.*))?',2) AS \"scheme\",\n",
    "  REGEXP_EXTRACT(\"loaded_image\",'^(([^:/?#]+):)?(//([^/?#]*))?([^?#]*)(\\?([^#]*))?(#(.*))?',5) AS \"path\",\n",
    "  COUNT(DISTINCT \"browser\") AS \"events\"\n",
    "FROM \"example-koalas-strings\"\n",
    "WHERE TIME_IN_INTERVAL(__time,'2019-08-25T14/PT1H')\n",
    "GROUP BY 1, 2\n",
    "'''\n",
    "\n",
    "df = pd.DataFrame(sql_client.sql(sql))\n",
    "df_group=df.groupby(['path','scheme']).sum().unstack()\n",
    "df_group.plot.bar(stacked=\"true\")\n",
    "plt.xticks(rotation=45, ha='right')\n",
    "plt.show()"
   ]
  },
  {
   "cell_type": "code",
   "execution_count": null,
   "id": "8cd502e9-eb73-4832-a802-7216789e7110",
   "metadata": {},
   "outputs": [],
   "source": [
    "SUBSTRING"
   ]
  },
  {
   "cell_type": "markdown",
   "id": "44738d6d-cec2-40ad-aaba-998c758c63f4",
   "metadata": {},
   "source": [
    "## Clean up\n",
    "\n",
    "Run the following cell to remove the XXX used in this notebook from the database."
   ]
  },
  {
   "cell_type": "code",
   "execution_count": null,
   "id": "8082b545-ba7f-4ede-bb6e-2a6dd62ba0d8",
   "metadata": {},
   "outputs": [],
   "source": [
    "druid.datasources.drop(\"example-koalas-strings\")"
   ]
  },
  {
   "cell_type": "markdown",
   "id": "54b8d5fe-ba85-4b5b-9669-0dd47dfbccd1",
   "metadata": {},
   "source": [
    "## Summary\n",
    "\n",
    "* You learned this\n",
    "* Remember this\n",
    "\n",
    "## Learn more\n",
    "\n",
    "* Try this out on your own data\n",
    "* Solve for problem X that is't covered here\n",
    "* Read docs pages\n",
    "* Watch or read something cool from the community\n",
    "* Do some exploratory stuff on your own"
   ]
  },
  {
   "cell_type": "code",
   "execution_count": null,
   "id": "ca4d3362-b1a4-47a4-a782-9773c216b3ba",
   "metadata": {},
   "outputs": [],
   "source": [
    "# STANDARD CODE BLOCKS\n",
    "\n",
    "# When just wanting to display some SQL results\n",
    "display.sql(sql)\n",
    "\n",
    "# When ingesting data:\n",
    "display.run_task(sql)\n",
    "sql_client.wait_until_ready('example-koalas-strings')\n",
    "display.table('example-koalas-strings')\n",
    "\n",
    "# When you want to make an EXPLAIN look pretty\n",
    "print(json.dumps(json.loads(sql_client.explain_sql(sql)['PLAN']), indent=2))\n",
    "\n",
    "# When you want a simple plot\n",
    "df = pd.DataFrame(sql_client.sql(sql))\n",
    "df.plot(x='x-axis', y='y-axis', marker='o')\n",
    "plt.xticks(rotation=45, ha='right')\n",
    "plt.gca().get_legend().remove()\n",
    "plt.show()\n",
    "\n",
    "# When you want to add some query context parameters\n",
    "req = sql_client.sql_request(sql)\n",
    "req.add_context(\"useApproximateTopN\", \"false\")\n",
    "resp = sql_client.sql_query(req)\n",
    "\n",
    "# When you want to compare two different sets of results\n",
    "df3 = df1.compare(df2, keep_equal=True)\n",
    "df3"
   ]
  }
 ],
 "metadata": {
  "execution": {
   "allow_errors": true,
   "timeout": 300
  },
  "kernelspec": {
   "display_name": "Python 3 (ipykernel)",
   "language": "python",
   "name": "python3"
  },
  "language_info": {
   "codemirror_mode": {
    "name": "ipython",
    "version": 3
   },
   "file_extension": ".py",
   "mimetype": "text/x-python",
   "name": "python",
   "nbconvert_exporter": "python",
   "pygments_lexer": "ipython3",
   "version": "3.11.5"
  }
 },
 "nbformat": 4,
 "nbformat_minor": 5
}
