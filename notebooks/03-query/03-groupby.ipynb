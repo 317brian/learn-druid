{
 "cells": [
  {
   "cell_type": "markdown",
   "id": "0cb3b009-ebde-4d56-9d59-a028d66d8309",
   "metadata": {},
   "source": [
    "# Aggregating results by using GROUP BY\n",
    "<!--\n",
    "  ~ Licensed to the Apache Software Foundation (ASF) under one\n",
    "  ~ or more contributor license agreements.  See the NOTICE file\n",
    "  ~ distributed with this work for additional information\n",
    "  ~ regarding copyright ownership.  The ASF licenses this file\n",
    "  ~ to you under the Apache License, Version 2.0 (the\n",
    "  ~ \"License\"); you may not use this file except in compliance\n",
    "  ~ with the License.  You may obtain a copy of the License at\n",
    "  ~\n",
    "  ~   http://www.apache.org/licenses/LICENSE-2.0\n",
    "  ~\n",
    "  ~ Unless required by applicable law or agreed to in writing,\n",
    "  ~ software distributed under the License is distributed on an\n",
    "  ~ \"AS IS\" BASIS, WITHOUT WARRANTIES OR CONDITIONS OF ANY\n",
    "  ~ KIND, either express or implied.  See the License for the\n",
    "  ~ specific language governing permissions and limitations\n",
    "  ~ under the License.\n",
    "  -->\n",
    "\n",
    "This tutorial demonstrates how to work with [GROUP BY](https://druid.apache.org/docs/27.0.0/querying/sql#group-by) to aggregate rows and produce metrics from underlying measures at query time and during ingestion."
   ]
  },
  {
   "cell_type": "markdown",
   "id": "b74aa63d-3d21-472d-8ade-8573ef3c50cf",
   "metadata": {},
   "source": [
    "## Table of contents\n",
    "\n",
    "- [Prerequisites](#Prerequisites)\n",
    "- [Initalization](#Initalization)\n",
    "- [Next section](#Nextsection)\n",
    "- etc"
   ]
  },
  {
   "cell_type": "markdown",
   "id": "bbdbf6ad-ca7b-40f5-8ca3-1070f4a3ee42",
   "metadata": {},
   "source": [
    "## Prerequisites\n",
    "\n",
    "This tutorial works with Druid 27.0.0 or later.\n",
    "\n",
    "#### Run with Docker\n",
    "\n",
    "<!-- Profiles are:\n",
    "`druid-jupyter` - just Jupyter and Druid\n",
    "`all-services` - includes Jupyter, Druid, and Kafka\n",
    " -->\n",
    "\n",
    "Launch this tutorial and all prerequisites using the `druid-jupyter` profile of the Docker Compose file for Jupyter-based Druid tutorials. For more information, see [Docker for Jupyter Notebook tutorials](https://druid.apache.org/docs/latest/tutorials/tutorial-jupyter-docker.html).\n",
    "   \n",
    "#### Run without Docker\n",
    "\n",
    "If you do not use the Docker Compose environment, you need the following:\n",
    "\n",
    "* A running Apache Druid instance, with a `DRUID_HOST` local environment variable containing the server name of your Druid router\n",
    "* [druidapi](https://github.com/apache/druid/blob/master/examples/quickstart/jupyter-notebooks/druidapi/README.md), a Python client for Apache Druid. Follow the instructions in the Install section of the README file.\n",
    "\n",
    " <!-- Remove as needed -->\n",
    "* A running Apache Kafka instance, with a `KAFKA_HOST` local environment variable containing the broker server name.\n",
    "* [matplotlib](https://matplotlib.org/), a library for creating visualizations in Python.\n",
    "* [pandas](https://pandas.pydata.org/), a data analysis and manipulation tool."
   ]
  },
  {
   "cell_type": "markdown",
   "id": "5007a243-b81a-4601-8f57-5b14940abbff",
   "metadata": {},
   "source": [
    "### Initialization\n",
    "\n",
    "Run the next cell to set up the Druid Python client's connection to Apache Druid.\n",
    "\n",
    "If successful, the Druid version number will be shown in the output."
   ]
  },
  {
   "cell_type": "code",
   "execution_count": null,
   "id": "c1ec783b-df3f-4168-9be2-cdc6ad3e33c2",
   "metadata": {},
   "outputs": [],
   "source": [
    "import druidapi\n",
    "import os\n",
    "\n",
    "if 'DRUID_HOST' not in os.environ.keys():\n",
    "    druid_host=f\"http://localhost:8888\"\n",
    "else:\n",
    "    druid_host=f\"http://{os.environ['DRUID_HOST']}:8888\"\n",
    "    \n",
    "print(f\"Opening a connection to {druid_host}.\")\n",
    "druid = druidapi.jupyter_client(druid_host)\n",
    "\n",
    "display = druid.display\n",
    "sql_client = druid.sql\n",
    "status_client = druid.status\n",
    "\n",
    "status_client.version"
   ]
  },
  {
   "cell_type": "markdown",
   "id": "472589e4-1026-4b3b-bb79-eedabb2b44c4",
   "metadata": {},
   "source": [
    "<!-- Include these cells if you're relying on someone ingesting example data through the console -->\n",
    "\n",
    "### Load example data\n",
    "\n",
    "Once your Druid environment is up and running, ingest the sample data for this tutorial.\n",
    "\n",
    "Run the following cell to create a table called `example-koalas-groupby`. Notice {the use of X as a timestamp | only required columns are ingested | WHERE / expressions / GROUP BY are front-loaded | partitions on X period and clusters by Y}.\n",
    "\n",
    "When completed, you'll see a description of the final table.\n",
    "\n",
    "<!--\n",
    "\n",
    "Replace `example-dataset-notebook` with a unique table name for this notebook.\n",
    "\n",
    "- Always prefix your table name with `example-`\n",
    "- If using the standard example datasets, use the following standard values for `dataset`:\n",
    "\n",
    "    wikipedia       wikipedia\n",
    "    koalas          KoalasToTheMax one day\n",
    "    koalanest       KoalasToTheMax one day (nested)\n",
    "    nyctaxi3        NYC Taxi cabs (3 files)\n",
    "    nyctaxi         NYC Taxi cabs (all files)\n",
    "    flights         FlightCarrierOnTime (1 month)\n",
    "\n",
    "-->\n",
    "\n",
    "Monitor the ingestion task process in the Druid console."
   ]
  },
  {
   "cell_type": "code",
   "execution_count": null,
   "id": "f52a94fb-d2e4-403f-ab10-84d3af7bf2c8",
   "metadata": {},
   "outputs": [],
   "source": [
    "sql='''\n",
    "REPLACE INTO \"example-koalas-groupby\" OVERWRITE ALL\n",
    "WITH \"ext\" AS (SELECT *\n",
    "FROM TABLE(\n",
    "  EXTERN(\n",
    "    '{\"type\":\"http\",\"uris\":[\"https://static.imply.io/example-data/kttm-v2/kttm-v2-2019-08-25.json.gz\"]}',\n",
    "    '{\"type\":\"json\"}'\n",
    "  )\n",
    ") EXTEND (\"timestamp\" VARCHAR, \"agent_category\" VARCHAR, \"agent_type\" VARCHAR, \"browser\" VARCHAR, \"browser_version\" VARCHAR, \"city\" VARCHAR, \"continent\" VARCHAR, \"country\" VARCHAR, \"version\" VARCHAR, \"event_type\" VARCHAR, \"event_subtype\" VARCHAR, \"loaded_image\" VARCHAR, \"adblock_list\" VARCHAR, \"forwarded_for\" VARCHAR, \"language\" VARCHAR, \"number\" VARCHAR, \"os\" VARCHAR, \"path\" VARCHAR, \"platform\" VARCHAR, \"referrer\" VARCHAR, \"referrer_host\" VARCHAR, \"region\" VARCHAR, \"remote_address\" VARCHAR, \"screen\" VARCHAR, \"session\" VARCHAR, \"session_length\" BIGINT, \"timezone\" VARCHAR, \"timezone_offset\" VARCHAR, \"window\" VARCHAR))\n",
    "SELECT\n",
    "  TIME_PARSE(\"timestamp\") AS \"__time\",\n",
    "  \"agent_category\",\n",
    "  \"agent_type\",\n",
    "  \"browser\",\n",
    "  \"browser_version\",\n",
    "  \"city\",\n",
    "  \"continent\",\n",
    "  \"country\",\n",
    "  \"version\",\n",
    "  \"event_type\",\n",
    "  \"event_subtype\",\n",
    "  \"loaded_image\",\n",
    "  \"adblock_list\",\n",
    "  \"forwarded_for\",\n",
    "  MV_TO_ARRAY(\"language\") AS \"language\",\n",
    "  \"number\",\n",
    "  \"os\",\n",
    "  \"path\",\n",
    "  \"platform\",\n",
    "  \"referrer\",\n",
    "  \"referrer_host\",\n",
    "  \"region\",\n",
    "  \"remote_address\",\n",
    "  \"screen\",\n",
    "  \"session\",\n",
    "  \"session_length\",\n",
    "  \"timezone\",\n",
    "  \"timezone_offset\",\n",
    "  \"window\"\n",
    "FROM \"ext\"\n",
    "PARTITIONED BY DAY\n",
    "'''\n",
    "\n",
    "sql_client.run_task(sql)\n",
    "sql_client.wait_until_ready('example-koalas-groupby')\n",
    "display.table('example-koalas-groupby')"
   ]
  },
  {
   "cell_type": "markdown",
   "id": "9c3d6b39-6551-4b2a-bdfb-9606aa92c853",
   "metadata": {},
   "source": [
    "<!-- Include these cells if you need additional Python modules -->\n",
    "\n",
    "Finally, run the following cell to import additional Python modules that you will use to X, Y, Z."
   ]
  },
  {
   "cell_type": "code",
   "execution_count": null,
   "id": "dc4c2524-0eba-4bc6-84ed-da3a25aa5fbe",
   "metadata": {},
   "outputs": [],
   "source": [
    "# Add your modules here, remembering to align this with the prerequisites section\n",
    "\n",
    "import json\n",
    "import matplotlib\n",
    "import matplotlib.pyplot as plt\n",
    "import pandas as pd"
   ]
  },
  {
   "cell_type": "markdown",
   "id": "637868b6-cf53-47e8-b842-30d5dd1f8fa8",
   "metadata": {},
   "source": [
    "## Understanding `GROUP BY`\n",
    "\n",
    "You can combine rows of common values in your result set by using the `GROUP BY` clause. When the row are aggregated, you can optionally produce aggregations like sums and averages from values in the underlying measures in your `TABLE`.\n",
    "\n",
    "While `WHERE` filters the source rows, the `HAVING` clause filters the result set by refering to those calculated aggregations.\n",
    "\n",
    "In this section, you'll run some `GROUP BY` statements on the sample dataset that show `GROUP BY` and `HAVING` in action."
   ]
  },
  {
   "cell_type": "markdown",
   "id": "50c81661-7440-49bc-b91f-9539779f327c",
   "metadata": {},
   "source": [
    "Run the following cell to generate a table of results from the example dataset.\n",
    "\n",
    "The `GROUP BY` combines data from the raw data with common a `browser`, and generates the average, maximum, and minimum time taken to complete a level.\n",
    "\n",
    "The `WHERE` clause uses a `TIME_IN_INTERVAL` function to ensure we only retrieve rows for a specific time period - good practice for all Druid queries. In this case, only events between 10am and 6pm on the 25th August 2019 are included."
   ]
  },
  {
   "cell_type": "code",
   "execution_count": null,
   "id": "d89e19c1-a4de-4f76-84d8-de3e16544f26",
   "metadata": {},
   "outputs": [],
   "source": [
    "sql='''\n",
    "SELECT\n",
    "  \"loaded_image\",\n",
    "  avg(session_length) AS \"timetakenms_average\",\n",
    "  max(session_length) AS \"timetakenms_max\",\n",
    "  min(session_length) AS \"timetakenms_min\",\n",
    "  count(session_length) AS \"count\"\n",
    "FROM \"example-koalas-groupby\"\n",
    "WHERE TIME_IN_INTERVAL(\"__time\", '2019-08-25T10:00:00/2019-08-25T18:00:00')\n",
    "GROUP BY 1\n",
    "'''\n",
    "\n",
    "display.sql(sql)"
   ]
  },
  {
   "cell_type": "code",
   "execution_count": null,
   "id": "59a99218-634e-47fc-beaf-e0ec8293379a",
   "metadata": {},
   "outputs": [],
   "source": []
  },
  {
   "cell_type": "code",
   "execution_count": null,
   "id": "7ed888e2-e6d2-46d2-9d14-85911e500b64",
   "metadata": {},
   "outputs": [],
   "source": [
    "CUBE\n",
    "GROUPING SETS\n",
    "GROUP BY ALL ~ NOT ALL"
   ]
  },
  {
   "cell_type": "code",
   "execution_count": null,
   "id": "48c7724f-60b8-4b95-bd7b-7a788390edd6",
   "metadata": {},
   "outputs": [],
   "source": []
  },
  {
   "cell_type": "code",
   "execution_count": null,
   "id": "0b1eb272-51fc-4b32-aef0-1b617f65b79b",
   "metadata": {},
   "outputs": [],
   "source": []
  },
  {
   "cell_type": "code",
   "execution_count": null,
   "id": "b66968e7-ea1e-476e-b907-1aafe7be7764",
   "metadata": {},
   "outputs": [],
   "source": []
  },
  {
   "cell_type": "code",
   "execution_count": null,
   "id": "df36137a-679b-44ef-8382-119e1e9555ab",
   "metadata": {},
   "outputs": [],
   "source": []
  },
  {
   "cell_type": "code",
   "execution_count": null,
   "id": "a3f261c8-4af4-40a3-b3a1-119339f35aea",
   "metadata": {},
   "outputs": [],
   "source": []
  },
  {
   "cell_type": "markdown",
   "id": "2dd3c695-b1a4-4c6c-99f7-9ae1b3c6f574",
   "metadata": {},
   "source": [
    "## Functions on dimensions in the `GROUP BY` clause\n",
    "\n",
    "### Apply a function to the grouped dimension\n",
    "\n",
    "A function can be applied to the raw data as part of a query. This makes it possible to carry out operations on the dimensions that are used in a `GROUP BY` operation before the results are calculated.\n",
    "\n",
    "Run the cell below, where a regular expression has been applied to the `loaded_image` data to extract only the filename by using [`REGEXP_EXTRACT`](https://druid.apache.org/docs/latest/querying/sql-scalar#string-functions).\n",
    "\n",
    "The results of this expression are then used in the `GROUP BY`, providing a results table that only contains the filename."
   ]
  },
  {
   "cell_type": "code",
   "execution_count": null,
   "id": "f6b50fb9-8b38-438d-9327-da777c8f6d67",
   "metadata": {},
   "outputs": [],
   "source": [
    "sql='''\n",
    "SELECT\n",
    "  REGEXP_EXTRACT(\"loaded_image\",'([a-zA-Z0-9\\s_\\\\.\\-\\(\\):])+(.jpg)$') AS \"loaded_image_filename\",\n",
    "  avg(session_length) AS \"timetakenms_average\",\n",
    "  max(session_length) AS \"timetakenms_max\",\n",
    "  min(session_length) AS \"timetakenms_min\",\n",
    "  count(session_length) AS \"count\"\n",
    "FROM \"example-koalas-groupby\"\n",
    "WHERE TIME_IN_INTERVAL(\"__time\", '2019-08-25T10:00:00/2019-08-25T18:00:00')\n",
    "GROUP BY 1\n",
    "ORDER BY 2 DESC\n",
    "'''\n",
    "\n",
    "display.sql(sql)"
   ]
  },
  {
   "cell_type": "markdown",
   "id": "7ffb72df-fb05-4334-9c33-eb797f237a07",
   "metadata": {},
   "source": [
    "### Applying functions to the time dimension\n",
    "\n",
    "The SQL in the cell applies a time function, [`TIME_EXTRACT`](https://druid.apache.org/docs/27.0.0/querying/sql-functions#time_extract), to extract the `HOUR` from the underlying data.\n",
    "\n",
    "Notice that the `WHERE` clause ensures that only events on the 25th August are used.\n",
    "\n",
    "Run the next cell to store the results in a Pandas dataframe and produce a histogram."
   ]
  },
  {
   "cell_type": "code",
   "execution_count": null,
   "id": "6237e10e-bc66-4cae-97d1-97dc77d5e629",
   "metadata": {},
   "outputs": [],
   "source": [
    "sql='''\n",
    "SELECT\n",
    "  TIME_EXTRACT(\"__time\", 'HOUR') AS \"time\",\n",
    "  count(*) AS \"count\"\n",
    "FROM \"example-koalas-groupby\"\n",
    "WHERE TIME_IN_INTERVAL(\"__time\", '2019-08-25T00:00:00/2019-08-26T00:00:00')\n",
    "GROUP BY 1\n",
    "'''\n",
    "\n",
    "df = pd.DataFrame(sql_client.sql(sql))\n",
    "df.plot.bar(x='time', y='count')\n",
    "plt.show()"
   ]
  },
  {
   "cell_type": "markdown",
   "id": "f3e15f38-cbd1-4cfd-ad45-db09c9fe9e54",
   "metadata": {},
   "source": [
    "The function can be applied in two ways - one where timezones are specified, and one without.\n",
    "\n",
    "Run this cell to see how this function works."
   ]
  },
  {
   "cell_type": "code",
   "execution_count": null,
   "id": "5270337b-2b07-4bb1-aa1e-6b5da5f752e0",
   "metadata": {},
   "outputs": [],
   "source": [
    "sql='''\n",
    "SELECT\n",
    "  TIME_EXTRACT(\"__time\", 'HOUR', 'America/Los_Angeles') AS \"time_LA\",\n",
    "  TIME_EXTRACT(\"__time\", 'HOUR') AS \"time\",\n",
    "  TIME_EXTRACT(\"__time\", 'HOUR', 'Europe/Copenhagen') AS \"time_Cop\",\n",
    "  TIME_EXTRACT(\"__time\", 'HOUR', 'Asia/Shanghai') AS \"time_Sha\",\n",
    "  count(*) AS \"count\"\n",
    "FROM \"example-koalas-groupby\"\n",
    "WHERE TIME_IN_INTERVAL(\"__time\", '2019-08-25T00:00:00/2019-08-26T00:00:00')\n",
    "GROUP BY 1,2,3,4\n",
    "ORDER BY 2 ASC\n",
    "'''\n",
    "\n",
    "display.sql(sql)"
   ]
  },
  {
   "cell_type": "markdown",
   "id": "66b08db9-b63f-45cb-9ac2-18d4cf6eedad",
   "metadata": {},
   "source": [
    "For timecharts, the `TIME_FLOOR` function is particularly useful.\n",
    "\n",
    "The [`TIME_FLOOR`](https://druid.apache.org/docs/latest/querying/sql-functions#time_floor) function is used against `__time` to return only the date and hour for each timestamp in the source data. The result of this is then passed to the `STRING_FORMAT` function to apply string formatting.\n",
    "\n",
    "The [`TIME_IN_INTERVAL`](https://druid.apache.org/docs/27.0.0/querying/sql-functions#time_in_interval) ensures the result set only contains results for events on the 25th August 2019.\n",
    "\n",
    "Two aggregates are calculated - the number of sessions (`count`) and the sum total length of all sessions (`timetakenms`).\n",
    "\n",
    "The results of this query are stored in a dataframe and then plotted into a timechart of the period."
   ]
  },
  {
   "cell_type": "code",
   "execution_count": null,
   "id": "309ca6b7-638f-4fed-9f56-facb4ea78046",
   "metadata": {},
   "outputs": [],
   "source": [
    "sql='''\n",
    "SELECT\n",
    "  STRING_FORMAT('%tR',TIME_FLOOR(\"__time\", 'PT1H')) AS \"time\",\n",
    "  count(*) AS \"count\",\n",
    "  sum(session_length) AS \"timetakenms\"\n",
    "FROM \"example-koalas-groupby\"\n",
    "WHERE TIME_IN_INTERVAL(\"__time\", '2019-08-25T00:00:00/2019-08-26T00:00:00')\n",
    "GROUP BY 1\n",
    "'''\n",
    "\n",
    "df = pd.DataFrame(sql_client.sql(sql))\n",
    "\n",
    "fig, ax = plt.subplots()\n",
    "\n",
    "df.plot(x = 'time', y = 'count', ax = ax) \n",
    "df.plot(x = 'time', y = 'timetakenms', ax = ax, secondary_y = True) \n",
    "plt.show()"
   ]
  },
  {
   "cell_type": "markdown",
   "id": "119a2dd6-456d-471d-a7d8-a87ae632b69e",
   "metadata": {},
   "source": [
    "## Filtering with `GROUP BY`\n",
    "\n",
    "While the `WHERE` clause filters rows from the source data that are used in your query, `HAVING` filters the final result set.\n",
    "\n",
    "In this section, see how these two mechanisms for filtering data can be used with `GROUP BY` queries."
   ]
  },
  {
   "cell_type": "markdown",
   "id": "9c7a2672-89fc-478d-b108-7a98d5ea12f4",
   "metadata": {},
   "source": [
    "### Filtering with `WHERE` and `GROUP BY`\n",
    "\n",
    "You may have noticed that the results of one of the queries above included rows where no filename could be found in the source data.\n",
    "\n",
    "To prevent this from happening, we might add a `LIKE` function in the `WHERE` clause to ensure source rows for the query contain a JPG image in the `loaded_image`."
   ]
  },
  {
   "cell_type": "code",
   "execution_count": null,
   "id": "7c7415f5-1e97-4d2a-9b80-631d18eba8eb",
   "metadata": {},
   "outputs": [],
   "source": [
    "sql='''\n",
    "SELECT\n",
    "  REGEXP_EXTRACT(\"loaded_image\",'([a-zA-Z0-9\\s_\\\\.\\-\\(\\):])+(.jpg)$') AS \"loaded_image_filename\",\n",
    "  avg(session_length) AS \"timetakenms_average\",\n",
    "  max(session_length) AS \"timetakenms_max\",\n",
    "  min(session_length) AS \"timetakenms_min\",\n",
    "  count(session_length) AS \"count\"\n",
    "FROM \"example-koalas-groupby\"\n",
    "WHERE TIME_IN_INTERVAL(\"__time\", '2019-08-25T10:00:00/2019-08-25T18:00:00')\n",
    "AND \"loaded_image\" LIKE '%jpg'\n",
    "GROUP BY 1\n",
    "ORDER BY 2 DESC\n",
    "'''\n",
    "\n",
    "display.sql(sql)"
   ]
  },
  {
   "cell_type": "markdown",
   "id": "8fb00f09-93a3-4a4d-9c35-6af3b30f1e59",
   "metadata": {},
   "source": [
    "### Filter with `HAVING` and `GROUP BY`\n",
    "\n",
    "A `WHERE` clause only filters source data. Since the `loaded_image_filename` dimension is calculated, we cannot use `WHERE` to filter the result set. This SQL, for example, would be illegal:\n",
    "\n",
    "```sql\n",
    "WHERE \"loaded_image_filename\" = 'koalas2.jpg'\n",
    "```\n",
    "\n",
    "The `HAVING` clause filters the final result set, allowing filters to be created that address calculated columns directly.\n",
    "\n",
    "In the following SQL, the calculated column, `loaded_image_filename`, is used in the `HAVING` clause to remove any empty results, an alternative approach to the `WHERE` filter above.\n",
    "\n",
    "Running this cell will show that the results match. Remember, however, that the `WHERE`-based query is far more efficient than this new query as it draws fewer rows out of the source `TABLE`. In this alternative form, filtering happens very late in query execution."
   ]
  },
  {
   "cell_type": "code",
   "execution_count": null,
   "id": "6efa3a7d-dedd-4492-b38e-c7b3e2175bd8",
   "metadata": {},
   "outputs": [],
   "source": [
    "sql='''\n",
    "SELECT\n",
    "  REGEXP_EXTRACT(\"loaded_image\",'([a-zA-Z0-9\\s_\\\\.\\-\\(\\):])+(.jpg)$') AS \"loaded_image_filename\",\n",
    "  avg(session_length) AS \"timetakenms_average\",\n",
    "  max(session_length) AS \"timetakenms_max\",\n",
    "  min(session_length) AS \"timetakenms_min\",\n",
    "  count(session_length) AS \"count\"\n",
    "FROM \"example-koalas-groupby\"\n",
    "WHERE TIME_IN_INTERVAL(\"__time\", '2019-08-25T10:00:00/2019-08-25T18:00:00')\n",
    "GROUP BY 1\n",
    "HAVING \"loaded_image_filename\" IS NOT NULL\n",
    "ORDER BY 2 DESC\n",
    "'''\n",
    "\n",
    "display.sql(sql)"
   ]
  },
  {
   "cell_type": "markdown",
   "id": "56b0391f-4716-42bf-9e02-e0af92475f25",
   "metadata": {},
   "source": [
    "A more common use of `HAVING` is to filter results based on the output of aggregate functions.\n",
    "\n",
    "Run the following cell to see the list of images where, after the average session length was calculated, it was found that a particular image took over 300000 milliseconds (300 seconds) to complete on average."
   ]
  },
  {
   "cell_type": "code",
   "execution_count": null,
   "id": "fa67e865-4b02-4733-a21e-ea59324a840c",
   "metadata": {
    "tags": []
   },
   "outputs": [],
   "source": [
    "sql='''\n",
    "SELECT\n",
    "  REGEXP_EXTRACT(\"loaded_image\",'([a-zA-Z0-9\\s_\\\\.\\-\\(\\):])+(.jpg)$') AS \"loaded_image_filename\",\n",
    "  avg(session_length) AS \"timetakenms_average\",\n",
    "  max(session_length) AS \"timetakenms_max\",\n",
    "  min(session_length) AS \"timetakenms_min\",\n",
    "  count(session_length) AS \"count\"\n",
    "FROM \"example-koalas-groupby\"\n",
    "WHERE TIME_IN_INTERVAL(\"__time\", '2019-08-25T10:00:00/2019-08-25T18:00:00')\n",
    "AND \"loaded_image\" LIKE '%jpg'\n",
    "GROUP BY 1\n",
    "HAVING \"timetakenms_average\" > 300000\n",
    "ORDER BY 2 DESC\n",
    "'''\n",
    "\n",
    "display.sql(sql)"
   ]
  },
  {
   "cell_type": "markdown",
   "id": "1b6c9b88-837d-4c80-a28d-36184ba63355",
   "metadata": {},
   "source": [
    "## Types of `GROUP BY` execution\n",
    "\n",
    "There are several execution engines might being used for `GROUP BY` operations. `EXPLAIN PLAN` shows specifically which will be used for each type of query.\n",
    "\n",
    "In this section, see `EXPLAIN PLAN` results for some `GROUP BY` queries."
   ]
  },
  {
   "cell_type": "markdown",
   "id": "75560c6b-a979-4fdc-bfcb-0e68bc8c43f1",
   "metadata": {},
   "source": [
    "### The `timeseries` engine\n",
    "\n",
    "The following cell contains a `GROUP BY` query that matches the [requirements](https://druid.apache.org/docs/latest/querying/sql-translation#query-types) for the [`timeseries`](https://druid.apache.org/docs/27.0.0/querying/timeseriesquery) execution.\n",
    "\n",
    "Run the following cell to see the `EXPLAIN PLAN` for the query, noting that the `queryType` is `timeseries`."
   ]
  },
  {
   "cell_type": "code",
   "execution_count": null,
   "id": "d6784a75-6b9b-49a3-9465-31820a1af0e2",
   "metadata": {},
   "outputs": [],
   "source": [
    "sql='''\n",
    "SELECT\n",
    "  TIME_FLOOR(\"__time\", 'PT1H') AS \"time\",\n",
    "  count(*) AS \"count\",\n",
    "  sum(session_length) AS \"timetakenms\"\n",
    "FROM \"example-koalas-groupby\"\n",
    "WHERE TIME_IN_INTERVAL(\"__time\", '2019-08-25T00:00:00/2019-08-26T00:00:00')\n",
    "GROUP BY 1\n",
    "'''\n",
    "\n",
    "print(json.dumps(json.loads(sql_client.explain_sql(sql)['PLAN']), indent=2))"
   ]
  },
  {
   "cell_type": "markdown",
   "id": "4eaf8095-b136-4242-aa3f-906d129bba96",
   "metadata": {},
   "source": [
    "### The `groupby` engine\n",
    "\n",
    "Review then run the SQL in the cell below.\n",
    "\n",
    "This `GROUP BY` query additionally groups rows by the operating system (`os`), leading Druid to use the `groupby` query type.\n",
    "\n",
    "Run the cell to retrieve an `EXPLAIN PLAN` for the query above. Notice that the `queryType` is `groupBy`. This indicates that Druid is using the [`groupby`](https://druid.apache.org/docs/latest/querying/groupbyquery) execution engine."
   ]
  },
  {
   "cell_type": "code",
   "execution_count": null,
   "id": "067fc1af-927b-48a8-98f3-485d3959dd99",
   "metadata": {},
   "outputs": [],
   "source": [
    "sql='''\n",
    "SELECT\n",
    "  TIME_FLOOR(\"__time\", 'PT1H') AS \"__time_by_hour\",\n",
    "  \"os\",\n",
    "  count(*) AS \"count\",\n",
    "  sum(session_length) AS \"timetakenms\"\n",
    "FROM \"example-koalas-groupby\"\n",
    "WHERE TIME_IN_INTERVAL(\"__time\", '2019-08-25T04:00:00/2019-08-25T06:00:00')\n",
    "GROUP BY 1,2\n",
    "'''\n",
    "\n",
    "print(json.dumps(json.loads(sql_client.explain_sql(sql)['PLAN']), indent=2))"
   ]
  },
  {
   "cell_type": "markdown",
   "id": "ee7e79d9-796c-432d-8211-8564a1a3e851",
   "metadata": {},
   "source": [
    "### The `topN` engine\n",
    "\n",
    "The `TopN` execution pattern applies approximation to `GROUP BY` results.\n",
    "\n",
    "Try the [TopN](02-approx-ranking.ipynb) notebook on using approximation with `GROUP BY` queries."
   ]
  },
  {
   "cell_type": "markdown",
   "id": "b4e751b2-7521-40a7-bccf-d54ffb82586b",
   "metadata": {},
   "source": [
    "## Cleanup\n",
    "\n",
    "Run the following cell to drop the table."
   ]
  },
  {
   "cell_type": "code",
   "execution_count": null,
   "id": "b97ca650-73dc-42c6-bb5f-5bc22ffbe424",
   "metadata": {},
   "outputs": [],
   "source": [
    "druid.datasources.drop(\"example-koalas-groupby\")"
   ]
  },
  {
   "cell_type": "markdown",
   "id": "54b8d5fe-ba85-4b5b-9669-0dd47dfbccd1",
   "metadata": {},
   "source": [
    "## Summary\n",
    "\n",
    "* You learned this\n",
    "* Remember this\n",
    "\n",
    "## Go further\n",
    "\n",
    "* Try this out on your own data\n",
    "* Solve for problem X that is't covered here\n",
    "\n",
    "## Learn more\n",
    "\n",
    "* Review the available [aggregation functions](https://druid.apache.org/docs/latest/querying/sql-aggregations)\n",
    "* Read more about the [groupby](https://druid.apache.org/docs/latest/querying/groupbyquery) execution engine.\n",
    "* Find out [when each type of query mode is used](https://druid.apache.org/docs/latest/querying/sql-translation#query-types) from the documentation.\n",
    "* Take a [look at](https://www.novixys.com/blog/java-string-format-examples/#31_Date_and_Time_Formatting) other `STRING_FORMAT` options\n",
    "* Try the [TopN](02-approx-ranking.ipynb) notebook on using approximation with `GROUP BY` queries.\n",
    "* Review the list `timezones`[https://www.joda.org/joda-time/timezones.html]."
   ]
  },
  {
   "cell_type": "code",
   "execution_count": null,
   "id": "ca4d3362-b1a4-47a4-a782-9773c216b3ba",
   "metadata": {},
   "outputs": [],
   "source": [
    "# STANDARD CODE BLOCKS\n",
    "\n",
    "# When just wanting to display some SQL results\n",
    "display.sql(sql)\n",
    "\n",
    "# When ingesting data:\n",
    "sql_client.run_task(sql)\n",
    "sql_client.wait_until_ready('wikipedia-en')\n",
    "display.table('wikipedia-en')\n",
    "\n",
    "# When you want to make an EXPLAIN look pretty\n",
    "print(json.dumps(json.loads(sql_client.explain_sql(sql)['PLAN']), indent=2))\n",
    "\n",
    "# When you want a simple plot\n",
    "df = pd.DataFrame(sql_client.sql(sql))\n",
    "df.plot(x='Tail_Number', y='Flights', marker='o')\n",
    "plt.xticks(rotation=45, ha='right')\n",
    "plt.gca().get_legend().remove()\n",
    "plt.show()\n",
    "\n",
    "# When you want to add some query context parameters\n",
    "req = sql_client.sql_request(sql)\n",
    "req.add_context(\"useApproximateTopN\", \"false\")\n",
    "resp = sql_client.sql_query(req)\n",
    "\n",
    "# When you want to compare two different sets of results\n",
    "df3 = df1.compare(df2, keep_equal=True)\n",
    "df3"
   ]
  }
 ],
 "metadata": {
  "execution": {
   "allow_errors": true,
   "timeout": 300
  },
  "kernelspec": {
   "display_name": "Python 3 (ipykernel)",
   "language": "python",
   "name": "python3"
  },
  "language_info": {
   "codemirror_mode": {
    "name": "ipython",
    "version": 3
   },
   "file_extension": ".py",
   "mimetype": "text/x-python",
   "name": "python",
   "nbconvert_exporter": "python",
   "pygments_lexer": "ipython3",
   "version": "3.10.8"
  }
 },
 "nbformat": 4,
 "nbformat_minor": 5
}
