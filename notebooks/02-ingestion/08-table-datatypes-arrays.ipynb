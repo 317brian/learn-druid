{
 "cells": [
  {
   "cell_type": "markdown",
   "id": "0cb3b009-ebde-4d56-9d59-a028d66d8309",
   "metadata": {},
   "source": [
    "# Array data types in Druid\n",
    "<!--\n",
    "  ~ Licensed to the Apache Software Foundation (ASF) under one\n",
    "  ~ or more contributor license agreements.  See the NOTICE file\n",
    "  ~ distributed with this work for additional information\n",
    "  ~ regarding copyright ownership.  The ASF licenses this file\n",
    "  ~ to you under the Apache License, Version 2.0 (the\n",
    "  ~ \"License\"); you may not use this file except in compliance\n",
    "  ~ with the License.  You may obtain a copy of the License at\n",
    "  ~\n",
    "  ~   http://www.apache.org/licenses/LICENSE-2.0\n",
    "  ~\n",
    "  ~ Unless required by applicable law or agreed to in writing,\n",
    "  ~ software distributed under the License is distributed on an\n",
    "  ~ \"AS IS\" BASIS, WITHOUT WARRANTIES OR CONDITIONS OF ANY\n",
    "  ~ KIND, either express or implied.  See the License for the\n",
    "  ~ specific language governing permissions and limitations\n",
    "  ~ under the License.\n",
    "  -->\n",
    "\n",
    "In this notebook you will find examples of how to work with the array datatype in Druid, constructing them at query time and ingestion time using [scalar](https://druid.apache.org/docs/latest/querying/sql-array-functions) and [aggregation](https://druid.apache.org/docs/latest/querying/sql-aggregations) functions of expanding them with UNNEST."
   ]
  },
  {
   "cell_type": "markdown",
   "id": "bbdbf6ad-ca7b-40f5-8ca3-1070f4a3ee42",
   "metadata": {},
   "source": [
    "## Prerequisites\n",
    "\n",
    "This tutorial works with Druid 28.0.0 or later.\n",
    "\n",
    "#### Run with Docker\n",
    "\n",
    "Launch this tutorial and all prerequisites using the `druid-jupyter` profile of the Docker Compose file for Jupyter-based Druid tutorials. For more information, see the Learn Druid repository [readme](https://github.com/implydata/learn-druid)."
   ]
  },
  {
   "cell_type": "markdown",
   "id": "5007a243-b81a-4601-8f57-5b14940abbff",
   "metadata": {},
   "source": [
    "## Initialization\n",
    "\n",
    "The following cells set up the notebook and learning environment ready for use.\n",
    "\n",
    "Run the next cell to set up the Druid Python client's connection to Apache Druid.\n",
    "\n",
    "If successful, the Druid version number will be shown in the output."
   ]
  },
  {
   "cell_type": "code",
   "execution_count": null,
   "id": "c1ec783b-df3f-4168-9be2-cdc6ad3e33c2",
   "metadata": {},
   "outputs": [],
   "source": [
    "import druidapi\n",
    "import os\n",
    "\n",
    "if 'DRUID_HOST' not in os.environ.keys():\n",
    "    druid_host=f\"http://localhost:8888\"\n",
    "else:\n",
    "    druid_host=f\"http://{os.environ['DRUID_HOST']}:8888\"\n",
    "    \n",
    "print(f\"Opening a connection to {druid_host}.\")\n",
    "druid = druidapi.jupyter_client(druid_host)\n",
    "\n",
    "display = druid.display\n",
    "sql_client = druid.sql\n",
    "status_client = druid.status\n",
    "\n",
    "status_client.version"
   ]
  },
  {
   "cell_type": "markdown",
   "id": "1c234248-f620-433e-af68-cf7c1d9efb12",
   "metadata": {},
   "source": [
    "## Constructing arrays\n",
    "\n",
    "Run the following cell to create a table, `example-koalas-arrays-1`.\n",
    "\n",
    "Only specific source fields are ingested that you will use in later examples.\n",
    "\n",
    "* The `language` field contains [multi-value strings](https://druid.apache.org/docs/latest/querying/sql-data-types#multi-value-strings). In the ingestion, this is  renamed as `language-mvd`.\n",
    "* NULL replaces the value \"N/A\" in the `timezone` field.\n",
    "* A field `percentClear` is added that records specific stages of the user's journey through the website."
   ]
  },
  {
   "cell_type": "code",
   "execution_count": null,
   "id": "69c4885a-70ca-424d-a36d-7fd0e8dbff1b",
   "metadata": {},
   "outputs": [],
   "source": [
    "sql='''\n",
    "REPLACE INTO \"example-koalas-arrays-1\" OVERWRITE ALL\n",
    "WITH \"ext\" AS (SELECT *\n",
    "FROM TABLE(\n",
    "  EXTERN(\n",
    "    '{\"type\":\"http\",\"uris\":[\"https://static.imply.io/example-data/kttm-v2/kttm-v2-2019-08-25.json.gz\"]}',\n",
    "    '{\"type\":\"json\"}'\n",
    "  )\n",
    ") EXTEND (\"timestamp\" VARCHAR, \"agent_category\" VARCHAR, \"agent_type\" VARCHAR, \"browser\" VARCHAR, \"browser_version\" VARCHAR, \"city\" VARCHAR, \"continent\" VARCHAR, \"country\" VARCHAR, \"version\" VARCHAR, \"event_type\" VARCHAR, \"event_subtype\" VARCHAR, \"loaded_image\" VARCHAR, \"adblock_list\" VARCHAR, \"forwarded_for\" VARCHAR, \"language\" VARCHAR, \"number\" VARCHAR, \"os\" VARCHAR, \"path\" VARCHAR, \"platform\" VARCHAR, \"referrer\" VARCHAR, \"referrer_host\" VARCHAR, \"region\" VARCHAR, \"remote_address\" VARCHAR, \"screen\" VARCHAR, \"session\" VARCHAR, \"session_length\" BIGINT, \"timezone\" VARCHAR, \"timezone_offset\" VARCHAR, \"window\" VARCHAR))\n",
    "SELECT\n",
    "  TIME_PARSE(\"timestamp\") AS \"__time\",\n",
    "  CASE WHEN \"timezone\" = 'N/A' THEN NULL ELSE \"timezone\" END AS \"timezone\",\n",
    "  \"browser\",\n",
    "  \"language\" AS \"language-mvd\",\n",
    "  \"session\",\n",
    "  \"session_length\",\n",
    "  CASE WHEN (\"event_type\" = 'PercentClear') THEN\n",
    "    (CASE WHEN (\"event_subtype\" = '') THEN 0 ELSE \"event_subtype\" END)\n",
    "    ELSE NULL END AS \"percentClear\"\n",
    "FROM \"ext\"\n",
    "PARTITIONED BY DAY\n",
    "'''\n",
    "\n",
    "display.run_task(sql)\n",
    "sql_client.wait_until_ready('example-koalas-arrays-1')\n",
    "display.table('example-koalas-arrays-1')"
   ]
  },
  {
   "cell_type": "markdown",
   "id": "d9a62bff-c0b6-43ef-ab56-1aafe674c1ba",
   "metadata": {},
   "source": [
    "### Construct an array with functions\n",
    "\n",
    "The ARRAY constructor creates an array literal. Run the following cell to see an example of this in action.\n",
    "\n",
    "* `staticArray` is a simple array of constants.\n",
    "* The `tags` column contains the browser and timezone of each row."
   ]
  },
  {
   "cell_type": "code",
   "execution_count": null,
   "id": "442c9b54-8c9f-4a8f-b10a-c1f6b6227ca4",
   "metadata": {},
   "outputs": [],
   "source": [
    "sql='''\n",
    "SELECT\n",
    "  ARRAY['en-GB','fr'] AS \"staticArray\",\n",
    "  ARRAY[\"browser\",\"timezone\"] AS \"tags\"\n",
    "FROM \"example-koalas-arrays-1\"\n",
    "WHERE TIME_IN_INTERVAL(\"__time\",'2019-08-25T14/PT2S')\n",
    "'''\n",
    "\n",
    "display.sql(sql)"
   ]
  },
  {
   "cell_type": "markdown",
   "id": "f706a8f3-e16e-42b0-ac7b-3e9c9486c9e9",
   "metadata": {},
   "source": [
    "The example data set contains a set of language tags for each row, stored as a [multi-value string](https://druid.apache.org/docs/latest/querying/sql-data-types#multi-value-strings) in `language-mvd`.\n",
    "\n",
    "In the following cell, an MV_TO_ARRAY function call is added to take the list of language tags and convert it to an array."
   ]
  },
  {
   "cell_type": "code",
   "execution_count": null,
   "id": "3ec353b3-83db-45b2-8ab4-d0a10894b7e9",
   "metadata": {},
   "outputs": [],
   "source": [
    "sql='''\n",
    "SELECT\n",
    "  ARRAY['en-GB','fr'] AS \"staticArray\",\n",
    "  ARRAY[\"browser\",\"timezone\"] AS \"tags\",\n",
    "  MV_TO_ARRAY(\"language-mvd\") AS \"tags-languages\"\n",
    "FROM \"example-koalas-arrays-1\"\n",
    "WHERE TIME_IN_INTERVAL(\"__time\",'2019-08-25T14/PT2S')\n",
    "'''\n",
    "\n",
    "display.sql(sql)"
   ]
  },
  {
   "cell_type": "markdown",
   "id": "b457d4b7-edbf-4c6c-a829-5aabf8f9a5e8",
   "metadata": {},
   "source": [
    "Using ARRAY_CONCAT, two arrays can be concatenated together.\n",
    "\n",
    "Run the next cell to see ARRAY_CONCAT extending the `tags` to also include all the tags from `language-mvd`, and also being used to add an arbritrary array to the original list of browsers."
   ]
  },
  {
   "cell_type": "code",
   "execution_count": null,
   "id": "94eadff8-7799-409a-b9a5-c0741d83e2f7",
   "metadata": {},
   "outputs": [],
   "source": [
    "sql='''\n",
    "SELECT\n",
    "  ARRAY_CONCAT(ARRAY['Chrome','Chrome Mobile'],ARRAY[\"browser\"]) AS \"tags-browsers-withChrome\",\n",
    "  ARRAY_CONCAT(ARRAY[\"browser\",\"timezone\"],MV_TO_ARRAY(\"language-mvd\")) AS \"tags\"\n",
    "FROM \"example-koalas-arrays-1\"\n",
    "WHERE TIME_IN_INTERVAL(\"__time\",'2019-08-25T14/PT2S')\n",
    "'''\n",
    "\n",
    "display.sql(sql)"
   ]
  },
  {
   "cell_type": "markdown",
   "id": "611030ac-c44a-49e0-bec0-507a6b96f714",
   "metadata": {},
   "source": [
    "Using the ARRAY_PREPEND and ARRAY_APPEND functions, elements can be added to an array.\n",
    "\n",
    "Running the following cell results in a number of combinations of the arrays from the previous examples.\n",
    "\n",
    "* ARRAY_PREPEND adds Vogon to the beginning of all language tags\n",
    "* ARRAY_APPEND adds Klingon to the end of all language tags"
   ]
  },
  {
   "cell_type": "code",
   "execution_count": null,
   "id": "42c75201-0e82-4d42-92f3-fa929aedabcc",
   "metadata": {
    "scrolled": true
   },
   "outputs": [],
   "source": [
    "sql='''\n",
    "SELECT\n",
    "  ARRAY_PREPEND('vog',MV_TO_ARRAY(\"language-mvd\")) AS \"everything-is-vogon-poetry\",\n",
    "  ARRAY_APPEND(MV_TO_ARRAY(\"language-mvd\"),'tlh') AS \"everything-is-klingon-opera\"\n",
    "FROM \"example-koalas-arrays-1\"\n",
    "WHERE TIME_IN_INTERVAL(\"__time\",'2019-08-25T14/PT2S')\n",
    "'''\n",
    "\n",
    "display.sql(sql)"
   ]
  },
  {
   "cell_type": "markdown",
   "id": "3accca60-be5f-48e5-9a02-cc05c015b436",
   "metadata": {},
   "source": [
    "### Construct an array with aggregators using GROUP BY\n",
    "\n",
    "Arrays can be constructed from groups of rows by using the aggregators ARRAY_AGG and ARRAY_CONCAT_AGG.\n",
    "\n",
    "In the following cell, a complete list of all browser tags is created in 10-second buckets using a roll-up style query for a minute of the data."
   ]
  },
  {
   "cell_type": "code",
   "execution_count": null,
   "id": "867d5314-40b5-4f89-bdcb-8d00b677def0",
   "metadata": {},
   "outputs": [],
   "source": [
    "sql='''\n",
    "SELECT\n",
    "  TIME_FLOOR(\"__time\",'PT10S') AS \"time-bucket\",\n",
    "  ARRAY_AGG(\"browser\") AS \"tags-browsers\"\n",
    "FROM \"example-koalas-arrays-1\"\n",
    "WHERE TIME_IN_INTERVAL(\"__time\",'2019-08-25T10/PT1M')\n",
    "GROUP BY 1\n",
    "'''\n",
    "\n",
    "display.sql(sql)"
   ]
  },
  {
   "cell_type": "markdown",
   "id": "cdc1261c-bb3a-47e4-9a4e-4f51fc4ce1f7",
   "metadata": {},
   "source": [
    "As the size of the time window increases, more elements will be added to the array as the number of rows to be grouped increases.\n",
    "\n",
    "To illustrate this, in the following cell the time floor has been increased to 1 minute (`PT1M`), and an extra parameter has been added to the ARRAY_AGG function to increase the maximum size to allow for larger arrays to be constructed."
   ]
  },
  {
   "cell_type": "code",
   "execution_count": null,
   "id": "5eada8c3-3e4b-43d7-8a35-7bbf7e0fb352",
   "metadata": {},
   "outputs": [],
   "source": [
    "sql='''\n",
    "SELECT\n",
    "  TIME_FLOOR(\"__time\",'PT1M') AS \"time-bucket\",\n",
    "  ARRAY_AGG(\"browser\", 65535) AS \"tags-browsers\"\n",
    "FROM \"example-koalas-arrays-1\"\n",
    "WHERE TIME_IN_INTERVAL(\"__time\",'2019-08-25T10/PT2M')\n",
    "GROUP BY 1\n",
    "'''\n",
    "\n",
    "display.sql(sql)"
   ]
  },
  {
   "cell_type": "markdown",
   "id": "5ccddfb0-3145-475c-88e5-9e556dfd6598",
   "metadata": {},
   "source": [
    "In order to only return distinct values when the arrays are constructed, the following SQL contains the DISTINCT keyword.\n",
    "\n",
    "This also means that the size parameter can be removed."
   ]
  },
  {
   "cell_type": "code",
   "execution_count": null,
   "id": "2549908b-da51-4efb-8a1b-41e19828e4d2",
   "metadata": {},
   "outputs": [],
   "source": [
    "sql='''\n",
    "SELECT\n",
    "  TIME_FLOOR(\"__time\",'PT1M') AS \"time-bucket\",\n",
    "  ARRAY_AGG(DISTINCT \"browser\") AS \"tags-browsers\"\n",
    "FROM \"example-koalas-arrays-1\"\n",
    "WHERE TIME_IN_INTERVAL(\"__time\",'2019-08-25T10/PT1M')\n",
    "GROUP BY 1\n",
    "'''\n",
    "\n",
    "display.sql(sql)"
   ]
  },
  {
   "cell_type": "markdown",
   "id": "aa651f43-393f-4781-9169-b208c5ec3691",
   "metadata": {},
   "source": [
    "To combine arrays, use the ARRAY_CONCAT_AGG function.\n",
    "\n",
    "In the following example, the `language-mvd` field is parsed as an array for each row. The ARRAY_CONCAT_AGG function comes into play as each group of rows is combined. The DISTINCT clause ensures that, after this aggregation, only the unique values are returned as `tags-language`."
   ]
  },
  {
   "cell_type": "code",
   "execution_count": null,
   "id": "6daa7676-d4d8-4447-82cf-1d31aefe84e3",
   "metadata": {},
   "outputs": [],
   "source": [
    "sql='''\n",
    "SELECT\n",
    "  TIME_FLOOR(\"__time\",'PT1M') AS \"time-bucket\",\n",
    "  ARRAY_CONCAT_AGG(DISTINCT MV_TO_ARRAY(\"language-mvd\")) AS \"tags-languages\"\n",
    "FROM \"example-koalas-arrays-1\"\n",
    "WHERE TIME_IN_INTERVAL(\"__time\",'2019-08-25T10/PT5M')\n",
    "GROUP BY 1\n",
    "'''\n",
    "\n",
    "display.sql(sql)"
   ]
  },
  {
   "cell_type": "markdown",
   "id": "8a4d6f17-6253-41c2-90eb-ec844aee8297",
   "metadata": {},
   "source": [
    "These aggregating functions, ARRAY_AGG and ARRAY_CONCAT_AGG, can be used in combination with the scalar functions from previous examples.\n",
    "\n",
    "In the following cell notice:\n",
    "\n",
    "* Aggregators:\n",
    "  * ARRAY_AGG produces an array of browsers for each group of rows.\n",
    "  * ARRAY_CONCAT_AGG produces a distinct list of languages from the array version of the `language-mvd` data for each group of rows.\n",
    "* Functions:\n",
    "  * ARRAY_CONCAT merges two arrays and produces another array containing all tags.\n",
    "  * ARRAY_APPEND ensures the ubiquitous presence of Vogon poetry by taking the array from above and adding the `vog` element."
   ]
  },
  {
   "cell_type": "code",
   "execution_count": null,
   "id": "4003454a-bf56-446a-902d-ad9b1a40f484",
   "metadata": {},
   "outputs": [],
   "source": [
    "sql='''\n",
    "SELECT\n",
    "  TIME_FLOOR(\"__time\",'PT1M') AS \"time-bucket\",\n",
    "  ARRAY_APPEND(\n",
    "    ARRAY_CONCAT(\n",
    "      ARRAY_AGG(DISTINCT \"browser\"),\n",
    "      ARRAY_CONCAT_AGG(DISTINCT MV_TO_ARRAY(\"language-mvd\"))\n",
    "      ),\n",
    "    'vog') AS \"tags\"\n",
    "FROM \"example-koalas-arrays-1\"\n",
    "WHERE TIME_IN_INTERVAL(\"__time\",'2019-08-25T10/PT5M')\n",
    "GROUP BY 1\n",
    "'''\n",
    "\n",
    "display.sql(sql)"
   ]
  },
  {
   "cell_type": "markdown",
   "id": "d54d197a-a905-4c3b-a75d-4e5f9b84c65f",
   "metadata": {},
   "source": [
    "Arrays can also be constructed to contain objects or indeed other arrays.\n",
    "\n",
    "In the example below, the JSON_OBJECT function is used to produce an object that is then aggregated into an array via a GROUP BY."
   ]
  },
  {
   "cell_type": "code",
   "execution_count": null,
   "id": "31bdb497-8943-44dc-8daf-55ea1abb4074",
   "metadata": {},
   "outputs": [],
   "source": [
    "sql='''\n",
    "SELECT\n",
    "  \"session\",\n",
    "  ARRAY_AGG(JSON_OBJECT(KEY 'PercentClear' VALUE \"percentClear\", KEY 'timestamp' VALUE TIME_FORMAT(\"__time\"))) AS \"journey-object\",\n",
    "  ARRAY_AGG(ARRAY[\"percentClear\", TIME_FORMAT(\"__time\")], 65535) AS \"journey-array\"\n",
    "FROM \"example-koalas-arrays-1\"\n",
    "WHERE TIME_IN_INTERVAL(\"__time\",'2019-08-25T10/PT10S')\n",
    "AND \"percentClear\" IS NOT NULL\n",
    "GROUP BY \"session\"\n",
    "'''\n",
    "\n",
    "display.sql(sql)"
   ]
  },
  {
   "cell_type": "markdown",
   "id": "7582dcdf-7110-4f41-92c1-89856e468951",
   "metadata": {},
   "source": [
    "## Construct an array at ingestion time\n",
    "\n"
   ]
  },
  {
   "cell_type": "markdown",
   "id": "808959c3-c565-48a2-af3a-0360f71d11fa",
   "metadata": {},
   "source": [
    "### Create arrays from existing data\n",
    "\n",
    "Handle arrays in source data using the MV_TO_ARRAY and STRING_TO_ARRAY functions as part of the ingestion SQL statement.\n",
    "\n",
    "Run the following cell to create a new table, `example-koalas-arrays-2`.\n",
    "\n",
    "For each row in the source data:\n",
    "\n",
    "* The timestamp, session, browser, timezone, and session length are ingested as-is into individual dimensions.\n",
    "* The incoming multi-value string dimension is transformed into an array as `tags-languages`.\n",
    "* Two new columns, `journey-percent` and `journey-timestamp` record how far through their journey a visitor was at that point in time.\n",
    "* From these two new column, `journey-array` is constructed, holding a key-value pair of the data.\n",
    "\n",
    "Notice that the `arrayIngestMode` [context parameter](https://druid.apache.org/docs/latest/querying/sql-data-types/#arrays) has been set to `array`."
   ]
  },
  {
   "cell_type": "code",
   "execution_count": null,
   "id": "a047fdbd-8b9d-4acf-95fe-cb62fa59a777",
   "metadata": {},
   "outputs": [],
   "source": [
    "sql='''\n",
    "REPLACE INTO \"example-koalas-arrays-2\" OVERWRITE ALL\n",
    "WITH \"ext\" AS (SELECT *\n",
    "FROM TABLE(\n",
    "  EXTERN(\n",
    "    '{\"type\":\"http\",\"uris\":[\"https://static.imply.io/example-data/kttm-v2/kttm-v2-2019-08-25.json.gz\"]}',\n",
    "    '{\"type\":\"json\"}'\n",
    "  )\n",
    ") EXTEND (\"timestamp\" VARCHAR, \"agent_category\" VARCHAR, \"agent_type\" VARCHAR, \"browser\" VARCHAR, \"browser_version\" VARCHAR, \"city\" VARCHAR, \"continent\" VARCHAR, \"country\" VARCHAR, \"version\" VARCHAR, \"event_type\" VARCHAR, \"event_subtype\" VARCHAR, \"loaded_image\" VARCHAR, \"adblock_list\" VARCHAR, \"forwarded_for\" VARCHAR, \"language\" VARCHAR, \"number\" VARCHAR, \"os\" VARCHAR, \"path\" VARCHAR, \"platform\" VARCHAR, \"referrer\" VARCHAR, \"referrer_host\" VARCHAR, \"region\" VARCHAR, \"remote_address\" VARCHAR, \"screen\" VARCHAR, \"session\" VARCHAR, \"session_length\" BIGINT, \"timezone\" VARCHAR, \"timezone_offset\" VARCHAR, \"window\" VARCHAR))\n",
    "SELECT\n",
    "  TIME_PARSE(\"timestamp\") AS \"__time\",\n",
    "  \"session\",\n",
    "  \"browser\",\n",
    "  \"timezone\",\n",
    "  \"session_length\",\n",
    "  MV_TO_ARRAY(\"language\") AS \"tags-languages\",\n",
    "  CASE WHEN (\"event_type\" = 'PercentClear') THEN\n",
    "    (CASE WHEN\n",
    "      (\"event_subtype\" = '') THEN 0\n",
    "      ELSE CAST(\"event_subtype\" AS DECIMAL)\n",
    "      END)\n",
    "    ELSE NULL END AS \"journey-percent\",\n",
    "  CASE WHEN (\"event_type\" = 'PercentClear') THEN TIME_PARSE(\"timestamp\")\n",
    "    ELSE NULL END AS \"journey-timestamp\",\n",
    "  CASE WHEN (\"event_type\" = 'PercentClear') THEN\n",
    "    (CASE WHEN\n",
    "      (\"event_subtype\" = '') THEN ARRAY[0, TIME_PARSE(\"timestamp\")]\n",
    "      ELSE ARRAY[CAST(\"event_subtype\" AS DECIMAL), TIME_PARSE(\"timestamp\")]\n",
    "      END)\n",
    "    ELSE NULL END AS \"journey-array\"\n",
    "FROM \"ext\"\n",
    "PARTITIONED BY DAY\n",
    "'''\n",
    "\n",
    "req = sql_client.sql_request(sql)\n",
    "req.add_context(\"arrayIngestMode\", \"array\")\n",
    "\n",
    "display.run_task(req)\n",
    "sql_client.wait_until_ready('example-koalas-arrays-2')\n",
    "display.table('example-koalas-arrays-2')"
   ]
  },
  {
   "cell_type": "markdown",
   "id": "0831ca8b-dca7-4454-ba79-721c9dcf03ca",
   "metadata": {},
   "source": [
    "Run the following cell to see a sample of the data.\n",
    "\n",
    "Notice that the `journey-timestamp` is a true secondary timestamp, so is stored as milliseconds since the Unix epoch. In order for all elements of the `journey-array` array be of the same data type, the CAST function has been used on journey stage to ensure it is a DECIMAL."
   ]
  },
  {
   "cell_type": "code",
   "execution_count": null,
   "id": "89666247-feb0-4ca8-b32e-3101f4810c4d",
   "metadata": {},
   "outputs": [],
   "source": [
    "sql='''\n",
    "SELECT *\n",
    "FROM \"example-koalas-arrays-2\"\n",
    "WHERE TIME_IN_INTERVAL(\"__time\",'2019-08-25T10/PT5S')\n",
    "'''\n",
    "\n",
    "display.sql(sql)"
   ]
  },
  {
   "cell_type": "markdown",
   "id": "472589e4-1026-4b3b-bb79-eedabb2b44c4",
   "metadata": {},
   "source": [
    "### Create an array at ingestion time using rollup (GROUP BY)\n",
    "\n",
    "Run the following cell to create a table called `example-koalas-arrays-3`.\n",
    "\n",
    "Note the addition of the `finalizeAggregations` parameter as part of this request."
   ]
  },
  {
   "cell_type": "code",
   "execution_count": null,
   "id": "f52a94fb-d2e4-403f-ab10-84d3af7bf2c8",
   "metadata": {},
   "outputs": [],
   "source": [
    "sql='''\n",
    "REPLACE INTO \"example-koalas-arrays-3\" OVERWRITE ALL\n",
    "WITH \"ext\" AS (\n",
    "  SELECT *\n",
    "  FROM TABLE(EXTERN('{\"type\":\"http\",\"uris\":[\"https://static.imply.io/example-data/kttm-v2/kttm-v2-2019-08-25.json.gz\"]}', '{\"type\":\"json\"}')) EXTEND (\"timestamp\" VARCHAR, \"agent_category\" VARCHAR, \"agent_type\" VARCHAR, \"browser\" VARCHAR, \"browser_version\" VARCHAR, \"city\" VARCHAR, \"continent\" VARCHAR, \"country\" VARCHAR, \"version\" VARCHAR, \"event_type\" VARCHAR, \"event_subtype\" VARCHAR, \"loaded_image\" VARCHAR, \"adblock_list\" VARCHAR, \"forwarded_for\" VARCHAR, \"language\" VARCHAR, \"number\" VARCHAR, \"os\" VARCHAR, \"path\" VARCHAR, \"platform\" VARCHAR, \"referrer\" VARCHAR, \"referrer_host\" VARCHAR, \"region\" VARCHAR, \"remote_address\" VARCHAR, \"screen\" VARCHAR, \"session\" VARCHAR, \"session_length\" BIGINT, \"timezone\" VARCHAR, \"timezone_offset\" VARCHAR, \"window\" VARCHAR)\n",
    ")\n",
    "SELECT\n",
    "  TIME_FLOOR(TIME_PARSE(\"timestamp\"), 'PT5S') AS \"__time\",\n",
    "  \"session\",\n",
    "  ARRAY_AGG(DISTINCT \"browser\", 65535) AS \"tags-browsers\",\n",
    "  ARRAY_AGG(DISTINCT CASE WHEN \"timezone\" = 'N/A' THEN NULL ELSE \"timezone\" END, 65535) AS \"tags-timezones\",\n",
    "  ARRAY_CONCAT_AGG(DISTINCT MV_TO_ARRAY(\"language\"), 65535) AS \"tags-languages\",\n",
    "  ARRAY_CONCAT_AGG(\n",
    "    CASE WHEN (\"event_type\" = 'PercentClear') THEN (\n",
    "      CASE WHEN (\"event_subtype\" = '') THEN ARRAY[0, TIME_PARSE(\"timestamp\")]\n",
    "      ELSE ARRAY[CAST(\"event_subtype\" AS DECIMAL), TIME_PARSE(\"timestamp\")]\n",
    "      END)\n",
    "    ELSE NULL END, 65535) AS \"journey-array\"\n",
    "FROM \"ext\"\n",
    "GROUP BY 1, 2\n",
    "PARTITIONED BY DAY\n",
    "'''\n",
    "\n",
    "req = sql_client.sql_request(sql)\n",
    "req.add_context(\"arrayIngestMode\", \"array\")\n",
    "req.add_context(\"finalizeAggregations\", \"true\")\n",
    "\n",
    "display.run_task(req)\n",
    "sql_client.wait_until_ready('example-koalas-arrays-3')\n",
    "display.table('example-koalas-arrays-3')"
   ]
  },
  {
   "cell_type": "code",
   "execution_count": null,
   "id": "2b5b6d89-911c-4749-bdfe-1a1587f552cc",
   "metadata": {},
   "outputs": [],
   "source": [
    "sql='''\n",
    "SELECT *\n",
    "FROM \"example-koalas-arrays-3\"\n",
    "WHERE TIME_IN_INTERVAL(\"__time\",'2019-08-25T10/PT5S')\n",
    "'''\n",
    "\n",
    "display.sql(sql)"
   ]
  },
  {
   "cell_type": "markdown",
   "id": "7a1be37f-37d7-49bb-af84-58c8e9c68e13",
   "metadata": {},
   "source": [
    "## Determine array size\n",
    "\n",
    "By using ARRAY_LENGTH it's possible to count the number of elements in the array.\n",
    "\n",
    "In the next cell, a query returns the average number of languages over a particular time period."
   ]
  },
  {
   "cell_type": "code",
   "execution_count": null,
   "id": "af2e8e43-32de-4b1d-9085-62a7919d7da5",
   "metadata": {},
   "outputs": [],
   "source": [
    "sql='''\n",
    "SELECT\n",
    "  TIME_FLOOR(\"__time\",'PT15M') AS \"period\",\n",
    "  AVG(ARRAY_LENGTH(\"language-array\")) AS \"average_languages\"\n",
    "FROM \"example-koalas-arrays-2\"\n",
    "WHERE TIME_IN_INTERVAL(\"__time\",'2019-08-25T10/PT1H')\n",
    "GROUP BY 1\n",
    "'''\n",
    "\n",
    "display.sql(sql)"
   ]
  },
  {
   "cell_type": "markdown",
   "id": "06b889eb-0408-4a3a-965a-d852f18682fd",
   "metadata": {},
   "source": [
    "## Filter results using arrays\n",
    "\n",
    "The ARRAY_CONTAINS function tests for the presence of either an element or another array.\n",
    "\n",
    "Run the following cell to determine how many visitors completed 20%, 50%, and 90% of their journey within a day of recorded site traffic. To achieve this, FILTER (WHERE) is appended to the COUNT function, and ARRAY_CONTAINS is used to test for a specific array element.\n",
    "\n",
    "An additional filter in the WHERE clause narrows down the rows for the calculation to French _and_ British English visitors. This uses the ARRAY_CONTAINS function against another array, seeking out rows that contain both values in the second array."
   ]
  },
  {
   "cell_type": "code",
   "execution_count": null,
   "id": "a25b4c16-d08f-4686-9543-9fbefc3b8adb",
   "metadata": {},
   "outputs": [],
   "source": [
    "sql='''\n",
    "SELECT\n",
    "  TIME_FLOOR(\"__time\",'PT1H') AS \"period\",\n",
    "  COUNT(*) FILTER (WHERE ARRAY_CONTAINS(\"clear-kv\",'20')) AS \"passed-20\",\n",
    "  COUNT(*) FILTER (WHERE ARRAY_CONTAINS(\"clear-kv\",'50')) AS \"passed-50\",\n",
    "  COUNT(*) FILTER (WHERE ARRAY_CONTAINS(\"clear-kv\",'90')) AS \"passed-90\"\n",
    "FROM \"example-koalas-arrays-2\"\n",
    "WHERE TIME_IN_INTERVAL(\"__time\",'2019-08-25/P1D')\n",
    "AND ARRAY_CONTAINS(\"language-array\",ARRAY['en-GB','fr-FR'])\n",
    "GROUP BY 1\n",
    "'''\n",
    "\n",
    "display.sql(sql)"
   ]
  },
  {
   "cell_type": "markdown",
   "id": "7f92fcfb-608f-47e7-ade5-1e029099470d",
   "metadata": {},
   "source": [
    "The variation below uses ARRAY_OVERLAP. This time, results include French _or_ British English visitors."
   ]
  },
  {
   "cell_type": "code",
   "execution_count": null,
   "id": "ecabebed-3535-41c3-8a8e-152450814d7e",
   "metadata": {},
   "outputs": [],
   "source": [
    "sql='''\n",
    "SELECT\n",
    "  TIME_FLOOR(\"__time\",'PT1H') AS \"period\",\n",
    "  COUNT(*) FILTER (WHERE ARRAY_CONTAINS(\"clear-kv\",'20')) AS \"passed-20\",\n",
    "  COUNT(*) FILTER (WHERE ARRAY_CONTAINS(\"clear-kv\",'50')) AS \"passed-50\",\n",
    "  COUNT(*) FILTER (WHERE ARRAY_CONTAINS(\"clear-kv\",'90')) AS \"passed-90\"\n",
    "FROM \"example-koalas-arrays-2\"\n",
    "WHERE TIME_IN_INTERVAL(\"__time\",'2019-08-25/P1D')\n",
    "AND ARRAY_OVERLAP(\"language-array\",ARRAY['en-GB','fr-FR'])\n",
    "GROUP BY 1\n",
    "'''\n",
    "\n",
    "display.sql(sql)"
   ]
  },
  {
   "cell_type": "markdown",
   "id": "38de8372-f716-4392-b1bb-6390831bfb5b",
   "metadata": {},
   "source": [
    "## Find elements in an array\n",
    "\n",
    "ARRAY_ORDINAL and ARRAY_OFFSET return values from specific positions in the array.\n",
    "\n",
    "In the SQL below, the timestamps of all events where a visitor reached 10% through their journey are returned."
   ]
  },
  {
   "cell_type": "code",
   "execution_count": null,
   "id": "cdba48a5-40ef-4bb4-9629-cd448c8b2cf3",
   "metadata": {},
   "outputs": [],
   "source": [
    "sql='''\n",
    "SELECT\n",
    "  ARRAY_ORDINAL(\"clear-kv\",2) AS \"timestamp\"\n",
    "FROM \"example-koalas-arrays-2\"\n",
    "WHERE TIME_IN_INTERVAL(\"__time\",'2019-08-25T04/PT5S')\n",
    "AND ARRAY_ORDINAL(\"clear-kv\",1) = 10\n",
    "'''\n",
    "\n",
    "display.sql(sql)"
   ]
  },
  {
   "cell_type": "markdown",
   "id": "69e4787d-b774-4766-bf28-f0b052bff15e",
   "metadata": {},
   "source": [
    "By constructing an array from `clear-kv` on a per-session basis using ARRAY_AGG, it's possible to build up a visitors journey during a specific period of data.\n",
    "\n",
    "The following cells build up an advanced query that will return the maximum time taken for visitors to complete three key stages: zero to 25, 25 to 50, 50 to 75, and 75 to 95.\n",
    "\n",
    "The first query builds a view of all the journey points on a session-by-session basis. Two arrays are constructed: `clear-percent-array` and `clear-percent-timestamp`. In effect, the first array acts as an index to the second array, giving the time when that stage in the journey was reached.\n",
    "\n",
    "This information is stored in a temporary table, `journey-snapshot`.\n",
    "\n",
    "Run the cell below to see a sample of this result set.\n",
    "\n",
    "Note that the timestamp array contains secondary timestamps, and as such are represented as milliseconds since the Unix epoch."
   ]
  },
  {
   "cell_type": "code",
   "execution_count": null,
   "id": "c963c977-ad6c-417a-9ae9-95b1bc63f43a",
   "metadata": {},
   "outputs": [],
   "source": [
    "sql='''\n",
    "WITH \"journey-snapshot\" AS (\n",
    "SELECT\n",
    "   \"session\",\n",
    "   ARRAY_AGG(\"clear-percent\", 5120) AS \"clear-percent-array\",\n",
    "   ARRAY_AGG(\"clear-timestamp\", 5120) AS \"clear-timestamp-array\"\n",
    "FROM \"example-koalas-arrays-2\"\n",
    "WHERE TIME_IN_INTERVAL(\"__time\",'2019-08-25T04/PT5S')\n",
    "AND \"clear-kv\" IS NOT NULL\n",
    "GROUP BY \"session\"\n",
    ")\n",
    "\n",
    "SELECT\n",
    "  *\n",
    "FROM \"journey-snapshot\"\n",
    "'''\n",
    "\n",
    "display.sql(sql)"
   ]
  },
  {
   "cell_type": "markdown",
   "id": "330c65ab-3a62-4c6d-9efd-8925392afd9f",
   "metadata": {},
   "source": [
    "The next cell uses these arrays with ARRAY_ORDINAL_OF and ARRAY_ORDINAL.\n",
    "\n",
    "First, ARRAY_ORDINAL_OF attempts to return the position of a zero-percent clear event in the array.\n",
    "\n",
    "```sql\n",
    "ARRAY_ORDINAL_OF(\"clear-percent-array\",'0')\n",
    "```\n",
    "\n",
    "This position is then used in ARRAY_ORDINAL on the `clear-timestamp-array` to find the timestamp.\n",
    "\n",
    "```sql\n",
    "ARRAY_ORDINAL(\"clear-timestamp-array\", ... )\n",
    "```\n",
    "\n",
    "The result of this function call is wrapped in MILLIS_TO_TIMESTAMP so that a proper timestamp is returned in results.\n",
    "\n",
    "Each of these sets of functions is wrapped in a CASE statement to catch situations where the source data, `journey-snapshot`, does not contain an event with the percent-clear event we are looking for.\n",
    "\n",
    "Run the cell below to see a sample."
   ]
  },
  {
   "cell_type": "code",
   "execution_count": null,
   "id": "dc4a041c-d2e4-47b4-91bc-92020d4e5679",
   "metadata": {},
   "outputs": [],
   "source": [
    "sql='''\n",
    "WITH \"journey-snapshot\" AS (\n",
    "SELECT\n",
    "   \"session\",\n",
    "   ARRAY_AGG(\"clear-percent\", 5120) AS \"clear-percent-array\",\n",
    "   ARRAY_AGG(\"clear-timestamp\", 5120) AS \"clear-timestamp-array\"\n",
    "FROM \"example-koalas-arrays-2\"\n",
    "WHERE TIME_IN_INTERVAL(\"__time\",'2019-08-25T4/PT5S')\n",
    "AND \"clear-kv\" IS NOT NULL\n",
    "GROUP BY \"session\"\n",
    ")\n",
    "\n",
    "SELECT\n",
    "  \"session\",\n",
    "  CASE WHEN\n",
    "    ARRAY_ORDINAL_OF(\"clear-percent-array\",'0') > 0\n",
    "      THEN MILLIS_TO_TIMESTAMP(ARRAY_ORDINAL(\"clear-timestamp-array\",ARRAY_ORDINAL_OF(\"clear-percent-array\",'0')))\n",
    "      ELSE NULL END AS \"time-0\",\n",
    "  CASE WHEN\n",
    "    ARRAY_ORDINAL_OF(\"clear-percent-array\",'25') > 0\n",
    "      THEN MILLIS_TO_TIMESTAMP(ARRAY_ORDINAL(\"clear-timestamp-array\",ARRAY_ORDINAL_OF(\"clear-percent-array\",'25')))\n",
    "      ELSE NULL END AS \"time-25\",\n",
    "  CASE WHEN\n",
    "    ARRAY_ORDINAL_OF(\"clear-percent-array\",'50') > 0\n",
    "      THEN MILLIS_TO_TIMESTAMP(ARRAY_ORDINAL(\"clear-timestamp-array\",ARRAY_ORDINAL_OF(\"clear-percent-array\",'50')))\n",
    "      ELSE NULL END AS \"time-50\",\n",
    "  CASE WHEN\n",
    "    ARRAY_ORDINAL_OF(\"clear-percent-array\",'75') > 0\n",
    "      THEN MILLIS_TO_TIMESTAMP(ARRAY_ORDINAL(\"clear-timestamp-array\",ARRAY_ORDINAL_OF(\"clear-percent-array\",'75')))\n",
    "      ELSE NULL END AS \"time-75\",\n",
    "  CASE WHEN\n",
    "    ARRAY_ORDINAL_OF(\"clear-percent-array\",'95') > 0\n",
    "      THEN MILLIS_TO_TIMESTAMP(ARRAY_ORDINAL(\"clear-timestamp-array\",ARRAY_ORDINAL_OF(\"clear-percent-array\",'95')))\n",
    "      ELSE NULL END AS \"time-95\"\n",
    "FROM \"journey-snapshot\"\n",
    "'''\n",
    "\n",
    "display.sql(sql)"
   ]
  },
  {
   "cell_type": "markdown",
   "id": "3d62bfe2-6c06-4d46-88fd-7418fc44799e",
   "metadata": {},
   "source": [
    "This query is now wrapped up into another temporary table, `journey-timestamps`.\n",
    "\n",
    "A final SQL statement then addresses that table.\n",
    "\n",
    "* The temporary table, `journey-timestamps`, is JOINed to the original table, `example-koalas-arrays-2`.\n",
    "* TIMESTAMPDIFF calculates the number of seconds between each of the timestamps and returns them as `to25`, `to50`, and so on.\n",
    "* MAX is wrapped around TIMESTAMPDIFF to return the longest period of time.\n",
    "* GROUP BY gives statistics per `browser`.\n",
    "\n",
    "> When you run this cell, the `journey-snapshot` table will cover a longer period. Depending on the amount of memory you have available for your learning environment, you may need to reduce the time period in the TIME_IN_INTERVAL filter from `PT6H` to something smaller, like `PT1H` for just one hour."
   ]
  },
  {
   "cell_type": "code",
   "execution_count": null,
   "id": "52f7df7b-2b27-41aa-a4be-21380aea4b88",
   "metadata": {},
   "outputs": [],
   "source": [
    "sql='''\n",
    "WITH \"journey-snapshot\" AS (\n",
    "SELECT\n",
    "   \"session\",\n",
    "   ARRAY_AGG(\"clear-percent\", 5120) AS \"clear-percent-array\",\n",
    "   ARRAY_AGG(\"clear-timestamp\", 5120) AS \"clear-timestamp-array\"\n",
    "FROM \"example-koalas-arrays-2\"\n",
    "WHERE TIME_IN_INTERVAL(\"__time\",'2019-08-25T4/PT6H')\n",
    "AND \"clear-kv\" IS NOT NULL\n",
    "GROUP BY \"session\"\n",
    "),\n",
    "\n",
    "\"journey-timestamps\" AS (\n",
    "SELECT\n",
    "  \"session\",\n",
    "  CASE WHEN\n",
    "    ARRAY_ORDINAL_OF(\"clear-percent-array\",'0') > 0\n",
    "      THEN MILLIS_TO_TIMESTAMP(ARRAY_ORDINAL(\"clear-timestamp-array\",ARRAY_ORDINAL_OF(\"clear-percent-array\",'0')))\n",
    "      ELSE NULL END AS \"time-0\",\n",
    "  CASE WHEN\n",
    "    ARRAY_ORDINAL_OF(\"clear-percent-array\",'25') > 0\n",
    "      THEN MILLIS_TO_TIMESTAMP(ARRAY_ORDINAL(\"clear-timestamp-array\",ARRAY_ORDINAL_OF(\"clear-percent-array\",'25')))\n",
    "      ELSE NULL END AS \"time-25\",\n",
    "  CASE WHEN\n",
    "    ARRAY_ORDINAL_OF(\"clear-percent-array\",'50') > 0\n",
    "      THEN MILLIS_TO_TIMESTAMP(ARRAY_ORDINAL(\"clear-timestamp-array\",ARRAY_ORDINAL_OF(\"clear-percent-array\",'50')))\n",
    "      ELSE NULL END AS \"time-50\",\n",
    "  CASE WHEN\n",
    "    ARRAY_ORDINAL_OF(\"clear-percent-array\",'75') > 0\n",
    "      THEN MILLIS_TO_TIMESTAMP(ARRAY_ORDINAL(\"clear-timestamp-array\",ARRAY_ORDINAL_OF(\"clear-percent-array\",'75')))\n",
    "      ELSE NULL END AS \"time-75\",\n",
    "  CASE WHEN\n",
    "    ARRAY_ORDINAL_OF(\"clear-percent-array\",'95') > 0\n",
    "      THEN MILLIS_TO_TIMESTAMP(ARRAY_ORDINAL(\"clear-timestamp-array\",ARRAY_ORDINAL_OF(\"clear-percent-array\",'95')))\n",
    "      ELSE NULL END AS \"time-95\"\n",
    "FROM \"journey-snapshot\"\n",
    ")\n",
    "\n",
    "SELECT\n",
    "  t.\"browser\",\n",
    "  MAX(TIMESTAMPDIFF(SECOND,\"time-0\",\"time-25\")) AS \"to25\",\n",
    "  MAX(TIMESTAMPDIFF(SECOND,\"time-25\",\"time-50\")) AS \"to50\",\n",
    "  MAX(TIMESTAMPDIFF(SECOND,\"time-50\",\"time-75\")) AS \"to75\",\n",
    "  MAX(TIMESTAMPDIFF(SECOND,\"time-75\",\"time-95\")) AS \"to95\"\n",
    "FROM \"example-koalas-arrays-2\" t\n",
    "LEFT JOIN \"journey-timestamps\" jt ON jt.\"session\" = t.\"session\"\n",
    "GROUP BY 1\n",
    "'''\n",
    "\n",
    "display.sql(sql)"
   ]
  },
  {
   "cell_type": "markdown",
   "id": "df813d07-6221-4e22-85fc-30da439e1b01",
   "metadata": {},
   "source": [
    "## Join to an array with UNNEST\n",
    "\n",
    "By using the UNNEST, an array can be expanded to a temporary table that can then be joined to another datasource.\n",
    "\n",
    "Recall that `language-array` contains an array of language codes."
   ]
  },
  {
   "cell_type": "code",
   "execution_count": null,
   "id": "33e87c69-d860-45b1-8d95-0999ba9a4bba",
   "metadata": {},
   "outputs": [],
   "source": [
    "sql='''\n",
    "SELECT\n",
    "  \"language-array\",\n",
    "  \"browser\",\n",
    "  \"session_length\"\n",
    "FROM \"example-koalas-arrays-2\"\n",
    "WHERE TIME_IN_INTERVAL(\"__time\",'2019-08-25T4/PT2S')\n",
    "'''\n",
    "\n",
    "display.sql(sql)"
   ]
  },
  {
   "cell_type": "markdown",
   "id": "1bfd9e9b-a65d-4021-8051-3f8c4a12d470",
   "metadata": {},
   "source": [
    "To return a row for each language for each `browser` and each `session_length`, use UNNEST with a JOIN.\n",
    "\n",
    "Run the following cell to see this in action."
   ]
  },
  {
   "cell_type": "code",
   "execution_count": null,
   "id": "4b1a6332-1041-4a3c-9f71-cf97fe69e4a1",
   "metadata": {},
   "outputs": [],
   "source": [
    "sql='''\n",
    "SELECT\n",
    "  la.\"language\",\n",
    "  \"browser\",\n",
    "  \"session_length\"\n",
    "FROM \"example-koalas-arrays-2\"\n",
    "CROSS JOIN UNNEST(\"language-array\") AS la(\"language\")\n",
    "WHERE TIME_IN_INTERVAL(\"__time\",'2019-08-25T4/PT2S')\n",
    "'''\n",
    "\n",
    "display.sql(sql)"
   ]
  },
  {
   "cell_type": "markdown",
   "id": "fbf1a378-4fab-4925-abc0-79509f140abe",
   "metadata": {},
   "source": [
    "This data can then be used in a GROUP BY to generate metrics on a per-language basis."
   ]
  },
  {
   "cell_type": "code",
   "execution_count": null,
   "id": "14d08f8d-81a5-4656-ad32-d4ac8fcf35af",
   "metadata": {},
   "outputs": [],
   "source": [
    "sql='''\n",
    "SELECT\n",
    "  la.\"language\",\n",
    "  MIN(\"session_length\") AS \"shortest-session\",\n",
    "  MAX(\"session_length\") AS \"longest-session\",\n",
    "  COUNT(DISTINCT \"session\") AS \"unique-sessions\"\n",
    "FROM \"example-koalas-arrays-2\"\n",
    "CROSS JOIN UNNEST(\"language-array\") AS la(\"language\")\n",
    "WHERE TIME_IN_INTERVAL(\"__time\",'2019-08-25T4/PT2S')\n",
    "GROUP BY 1\n",
    "'''\n",
    "\n",
    "display.sql(sql)"
   ]
  },
  {
   "cell_type": "markdown",
   "id": "44738d6d-cec2-40ad-aaba-998c758c63f4",
   "metadata": {},
   "source": [
    "## Clean up\n",
    "\n",
    "Run the following cell to remove the tables used in this notebook from the database."
   ]
  },
  {
   "cell_type": "code",
   "execution_count": null,
   "id": "8082b545-ba7f-4ede-bb6e-2a6dd62ba0d8",
   "metadata": {},
   "outputs": [],
   "source": [
    "druid.datasources.drop(\"example-koalas-arrays-1\")\n",
    "druid.datasources.drop(\"example-koalas-arrays-2\")\n",
    "druid.datasources.drop(\"example-koalas-arrays-3\")"
   ]
  },
  {
   "cell_type": "markdown",
   "id": "54b8d5fe-ba85-4b5b-9669-0dd47dfbccd1",
   "metadata": {},
   "source": [
    "## Summary\n",
    "\n",
    "* Arrays can be created in a number of ways, including by conversion from delimited and multi-value strings.\n",
    "* The UNNEST function, together with a JOIN, allows for arrays to be expanded into individual rows.\n",
    "* Scalar array functions allow for items to be found and added.\n",
    "\n",
    "## Learn more\n",
    "\n",
    "* Read more about arrays on the [SQL data types](https://druid.apache.org/docs/latest/querying/sql-data-types/#arrays) page in the official documentation.\n",
    "* See the full documentation on [scalar](https://druid.apache.org/docs/latest/querying/sql-array-functions) and [aggregation](https://druid.apache.org/docs/latest/querying/sql-aggregations) array functions\n",
    "* Check out the [official tutorial on UNNEST](https://druid.apache.org/docs/latest/tutorials/tutorial-unnest-arrays) with arrays "
   ]
  },
  {
   "cell_type": "code",
   "execution_count": null,
   "id": "b915b18f-e80b-4760-8eac-46cdd7b95174",
   "metadata": {},
   "outputs": [],
   "source": []
  }
 ],
 "metadata": {
  "execution": {
   "allow_errors": true,
   "timeout": 300
  },
  "kernelspec": {
   "display_name": "Python 3 (ipykernel)",
   "language": "python",
   "name": "python3"
  },
  "language_info": {
   "codemirror_mode": {
    "name": "ipython",
    "version": 3
   },
   "file_extension": ".py",
   "mimetype": "text/x-python",
   "name": "python",
   "nbconvert_exporter": "python",
   "pygments_lexer": "ipython3",
   "version": "3.11.6"
  }
 },
 "nbformat": 4,
 "nbformat_minor": 5
}
