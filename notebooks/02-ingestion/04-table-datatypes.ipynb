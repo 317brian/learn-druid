{
 "cells": [
  {
   "cell_type": "markdown",
   "id": "0cb3b009-ebde-4d56-9d59-a028d66d8309",
   "metadata": {},
   "source": [
    "# Data types in Druid\n",
    "<!--\n",
    "  ~ Licensed to the Apache Software Foundation (ASF) under one\n",
    "  ~ or more contributor license agreements.  See the NOTICE file\n",
    "  ~ distributed with this work for additional information\n",
    "  ~ regarding copyright ownership.  The ASF licenses this file\n",
    "  ~ to you under the Apache License, Version 2.0 (the\n",
    "  ~ \"License\"); you may not use this file except in compliance\n",
    "  ~ with the License.  You may obtain a copy of the License at\n",
    "  ~\n",
    "  ~   http://www.apache.org/licenses/LICENSE-2.0\n",
    "  ~\n",
    "  ~ Unless required by applicable law or agreed to in writing,\n",
    "  ~ software distributed under the License is distributed on an\n",
    "  ~ \"AS IS\" BASIS, WITHOUT WARRANTIES OR CONDITIONS OF ANY\n",
    "  ~ KIND, either express or implied.  See the License for the\n",
    "  ~ specific language governing permissions and limitations\n",
    "  ~ under the License.\n",
    "  -->\n",
    "\n",
    "Introductory paragraph - for example:\n",
    "\n",
    "This tutorial demonstrates how to work with [feature](link to feature doc). In this tutorial you perform the following tasks:\n",
    "\n",
    "- Task 1\n",
    "- Task 2\n",
    "- Task 3\n",
    "- etc"
   ]
  },
  {
   "cell_type": "markdown",
   "id": "bbdbf6ad-ca7b-40f5-8ca3-1070f4a3ee42",
   "metadata": {},
   "source": [
    "## Prerequisites\n",
    "\n",
    "This tutorial works with Druid 27.0.0 or later.\n",
    "\n",
    "#### Run with Docker\n",
    "\n",
    "Launch this tutorial and all prerequisites using the `druid-jupyter` profile of the Docker Compose file for Jupyter-based Druid tutorials. For more information, see the Learn Druid repository [readme](https://github.com/implydata/learn-druid).\n",
    "   "
   ]
  },
  {
   "cell_type": "markdown",
   "id": "5007a243-b81a-4601-8f57-5b14940abbff",
   "metadata": {},
   "source": [
    "## Initialization\n",
    "\n",
    "The following cells set up the notebook and learning environment ready for use.\n",
    "\n",
    "### Set up and connect to the learning environment\n",
    "\n",
    "Run the next cell to set up the Druid Python client's connection to Apache Druid.\n",
    "\n",
    "If successful, the Druid version number will be shown in the output."
   ]
  },
  {
   "cell_type": "code",
   "execution_count": null,
   "id": "c1ec783b-df3f-4168-9be2-cdc6ad3e33c2",
   "metadata": {},
   "outputs": [],
   "source": [
    "import druidapi\n",
    "import os\n",
    "\n",
    "if 'DRUID_HOST' not in os.environ.keys():\n",
    "    druid_host=f\"http://localhost:8888\"\n",
    "else:\n",
    "    druid_host=f\"http://{os.environ['DRUID_HOST']}:8888\"\n",
    "    \n",
    "print(f\"Opening a connection to {druid_host}.\")\n",
    "druid = druidapi.jupyter_client(druid_host)\n",
    "\n",
    "display = druid.display\n",
    "sql_client = druid.sql\n",
    "status_client = druid.status\n",
    "\n",
    "status_client.version"
   ]
  },
  {
   "cell_type": "markdown",
   "id": "472589e4-1026-4b3b-bb79-eedabb2b44c4",
   "metadata": {},
   "source": [
    "### Load example data\n",
    "\n",
    "Run the following cell to create a table called `example-flights-cast`.\n",
    "\n",
    "Notice that the statement is specific about the columns to ingest based on is needed for this notebook, and that [Apache Datasketches are generated](../02-ingestion/03-generating-sketches.ipynb) as part of the process as well as some aggregates.\n",
    "\n",
    "When completed, you'll see a description of the final table."
   ]
  },
  {
   "cell_type": "code",
   "execution_count": null,
   "id": "cf6ed270-7d96-4704-b519-1ba5b4519c43",
   "metadata": {},
   "outputs": [],
   "source": [
    "sql='''\n",
    "REPLACE INTO \"example-flights-cast\" OVERWRITE ALL\n",
    "WITH \"ext\" AS (SELECT *\n",
    "FROM TABLE(\n",
    "  EXTERN(\n",
    "    '{\"type\":\"http\",\"uris\":[\"https://static.imply.io/example-data/flight_on_time/flights/On_Time_Reporting_Carrier_On_Time_Performance_(1987_present)_2005_11.csv.zip\"]}',\n",
    "    '{\"type\":\"csv\",\"findColumnsFromHeader\":true}'\n",
    "  )\n",
    ") EXTEND (\"depaturetime\" VARCHAR, \"arrivalime\" VARCHAR, \"Year\" BIGINT, \"Quarter\" BIGINT, \"Month\" BIGINT, \"DayofMonth\" BIGINT, \"DayOfWeek\" BIGINT, \"FlightDate\" VARCHAR, \"Reporting_Airline\" VARCHAR, \"DOT_ID_Reporting_Airline\" BIGINT, \"IATA_CODE_Reporting_Airline\" VARCHAR, \"Tail_Number\" VARCHAR, \"Flight_Number_Reporting_Airline\" BIGINT, \"OriginAirportID\" BIGINT, \"OriginAirportSeqID\" BIGINT, \"OriginCityMarketID\" BIGINT, \"Origin\" VARCHAR, \"OriginCityName\" VARCHAR, \"OriginState\" VARCHAR, \"OriginStateFips\" BIGINT, \"OriginStateName\" VARCHAR, \"OriginWac\" BIGINT, \"DestAirportID\" BIGINT, \"DestAirportSeqID\" BIGINT, \"DestCityMarketID\" BIGINT, \"Dest\" VARCHAR, \"DestCityName\" VARCHAR, \"DestState\" VARCHAR, \"DestStateFips\" BIGINT, \"DestStateName\" VARCHAR, \"DestWac\" BIGINT, \"CRSDepTime\" BIGINT, \"DepTime\" BIGINT, \"DepDelay\" BIGINT, \"DepDelayMinutes\" BIGINT, \"DepDel15\" BIGINT, \"DepartureDelayGroups\" BIGINT, \"DepTimeBlk\" VARCHAR, \"TaxiOut\" BIGINT, \"WheelsOff\" BIGINT, \"WheelsOn\" BIGINT, \"TaxiIn\" BIGINT, \"CRSArrTime\" BIGINT, \"ArrTime\" BIGINT, \"ArrDelay\" BIGINT, \"ArrDelayMinutes\" BIGINT, \"ArrDel15\" BIGINT, \"ArrivalDelayGroups\" BIGINT, \"ArrTimeBlk\" VARCHAR, \"Cancelled\" BIGINT, \"CancellationCode\" VARCHAR, \"Diverted\" BIGINT, \"CRSElapsedTime\" BIGINT, \"ActualElapsedTime\" BIGINT, \"AirTime\" BIGINT, \"Flights\" BIGINT, \"Distance\" BIGINT, \"DistanceGroup\" BIGINT, \"CarrierDelay\" BIGINT, \"WeatherDelay\" BIGINT, \"NASDelay\" BIGINT, \"SecurityDelay\" BIGINT, \"LateAircraftDelay\" BIGINT, \"FirstDepTime\" VARCHAR, \"TotalAddGTime\" VARCHAR, \"LongestAddGTime\" VARCHAR, \"DivAirportLandings\" VARCHAR, \"DivReachedDest\" VARCHAR, \"DivActualElapsedTime\" VARCHAR, \"DivArrDelay\" VARCHAR, \"DivDistance\" VARCHAR, \"Div1Airport\" VARCHAR, \"Div1AirportID\" VARCHAR, \"Div1AirportSeqID\" VARCHAR, \"Div1WheelsOn\" VARCHAR, \"Div1TotalGTime\" VARCHAR, \"Div1LongestGTime\" VARCHAR, \"Div1WheelsOff\" VARCHAR, \"Div1TailNum\" VARCHAR, \"Div2Airport\" VARCHAR, \"Div2AirportID\" VARCHAR, \"Div2AirportSeqID\" VARCHAR, \"Div2WheelsOn\" VARCHAR, \"Div2TotalGTime\" VARCHAR, \"Div2LongestGTime\" VARCHAR, \"Div2WheelsOff\" VARCHAR, \"Div2TailNum\" VARCHAR, \"Div3Airport\" VARCHAR, \"Div3AirportID\" VARCHAR, \"Div3AirportSeqID\" VARCHAR, \"Div3WheelsOn\" VARCHAR, \"Div3TotalGTime\" VARCHAR, \"Div3LongestGTime\" VARCHAR, \"Div3WheelsOff\" VARCHAR, \"Div3TailNum\" VARCHAR, \"Div4Airport\" VARCHAR, \"Div4AirportID\" VARCHAR, \"Div4AirportSeqID\" VARCHAR, \"Div4WheelsOn\" VARCHAR, \"Div4TotalGTime\" VARCHAR, \"Div4LongestGTime\" VARCHAR, \"Div4WheelsOff\" VARCHAR, \"Div4TailNum\" VARCHAR, \"Div5Airport\" VARCHAR, \"Div5AirportID\" VARCHAR, \"Div5AirportSeqID\" VARCHAR, \"Div5WheelsOn\" VARCHAR, \"Div5TotalGTime\" VARCHAR, \"Div5LongestGTime\" VARCHAR, \"Div5WheelsOff\" VARCHAR, \"Div5TailNum\" VARCHAR, \"Unnamed: 109\" VARCHAR))\n",
    "SELECT\n",
    "  TIME_PARSE(\"depaturetime\") AS \"__time\",\n",
    "  TIME_PARSE(\"arrivalime\") AS \"__time_arrival\",\n",
    "  \"Year\",\n",
    "  \"Reporting_Airline\",\n",
    "  \"Origin\",\n",
    "  CASE WHEN \"Origin\" = 'SFO' THEN true ELSE false END AS \"isSilicon\",\n",
    "  \"Dest\",\n",
    "  \"Distance\"\n",
    "FROM \"ext\"\n",
    "WHERE \"arrivalime\" <> 0\n",
    "AND \"depaturetime\" <> 0\n",
    "PARTITIONED BY DAY\n",
    "'''\n",
    "\n",
    "display.run_task(sql)\n",
    "sql_client.wait_until_ready('example-flights-cast')\n",
    "display.table('example-flights-cast')"
   ]
  },
  {
   "cell_type": "markdown",
   "id": "9c3d6b39-6551-4b2a-bdfb-9606aa92c853",
   "metadata": {},
   "source": [
    "### Import additional modules\n",
    "\n",
    "Run the following cell to import additional Python modules that you will use to X, Y, Z."
   ]
  },
  {
   "cell_type": "code",
   "execution_count": null,
   "id": "dc4c2524-0eba-4bc6-84ed-da3a25aa5fbe",
   "metadata": {},
   "outputs": [],
   "source": [
    "import json"
   ]
  },
  {
   "cell_type": "markdown",
   "id": "2d177966-9d87-4ef9-9e20-b76fbc6463ed",
   "metadata": {},
   "source": [
    "## Use SYS to look at data types\n",
    "\n",
    "At the end of the ingestion above, you ran the following function to bring up a simple description of the TABLE:"
   ]
  },
  {
   "cell_type": "code",
   "execution_count": null,
   "id": "f4c5c2a9-97d2-4cce-85cd-a0bb389c63ff",
   "metadata": {},
   "outputs": [],
   "source": [
    "display.table('example-flights-cast')"
   ]
  },
  {
   "cell_type": "markdown",
   "id": "889be0da-36ec-4510-876a-c7c040355b37",
   "metadata": {},
   "source": [
    "For more detail, use the `INFORMATION_SCHEMA` schema's `COLUMNS` table.\n",
    "\n",
    "Run the following query, showing further information about the underlying structure of the table."
   ]
  },
  {
   "cell_type": "code",
   "execution_count": null,
   "id": "3a375431-92a0-42d3-901f-434060e9ff57",
   "metadata": {},
   "outputs": [],
   "source": [
    "sql='''\n",
    "SELECT\n",
    "  \"COLUMN_NAME\",\n",
    "  \"ORDINAL_POSITION\",\n",
    "  \"DATA_TYPE\",\n",
    "  \"NUMERIC_PRECISION\",\n",
    "  \"NUMERIC_PRECISION_RADIX\",\n",
    "  \"DATETIME_PRECISION\",\n",
    "  \"CHARACTER_SET_NAME\",\n",
    "  \"JDBC_TYPE\"\n",
    "FROM \"INFORMATION_SCHEMA\".\"COLUMNS\"\n",
    "WHERE \"TABLE_NAME\" = 'example-flights-cast'\n",
    "'''\n",
    "\n",
    "display.sql(sql)"
   ]
  },
  {
   "cell_type": "markdown",
   "id": "db0b419f-8de5-4ee4-8b2a-fcf4551af932",
   "metadata": {},
   "source": [
    "The type shown in the `DATA_TYPE` column is used in Druid SQL. As shown in [documentation](https://druid.apache.org/docs/latest/querying/sql-data-types), data is stored inside a segement using a fundamental data type:\n",
    "\n",
    "* [Numbers](#numbers) (e.g. TIMESTAMP, BOOLEAN, DOUBLE, FLOAT, LONG)\n",
    "* [Strings](#strings) (e.g. STRING)\n",
    "* [Arrays](#arrays) (ARRAY)\n",
    "* [Other](#other) (COMPLEX)\n",
    "\n",
    "Before going further in this notebook, take a moment to use the [documentation](https://druid.apache.org/docs/latest/querying/sql-data-types#standard-types) to understand how each `DATA_TYPE` in the `example-flights-cast` TABLE maps to an internal Druid runtime type."
   ]
  },
  {
   "cell_type": "markdown",
   "id": "018e3239-7276-4236-bf6e-b63194ad5957",
   "metadata": {},
   "source": [
    "## Numbers\n",
    "\n",
    "Timestamps, booleans, and numeric data as stored as LONG or DOUBLE inside segments.\n",
    "\n",
    "This section of the notebook contains examples of conversion between these and other types."
   ]
  },
  {
   "cell_type": "markdown",
   "id": "f4ef1de0-d230-4969-a3f7-8473ddab48d2",
   "metadata": {},
   "source": [
    "### Timestamps\n",
    "\n",
    "Review the SQL statement above used to create the TABLE.\n",
    "\n",
    "```sql\n",
    "  TIME_PARSE(\"depaturetime\") AS \"__time\",\n",
    "  TIME_PARSE(\"arrivalime\") AS \"__time_arrival\",\n",
    "```\n",
    "\n",
    "The `__time` column has been recognised internally as a true TIMESTAMP, whereas `__time_arrival` has been stored as a BIGINT.\n",
    "\n",
    "To use this as a true timestamp with timestamp functions, it must therefore be CAST to a TIMESTAMP.\n",
    "\n",
    "Run the following two cells to see two different approaches to this: one using MILLIS_TO_TIMESTAMP function, and one using a CAST."
   ]
  },
  {
   "cell_type": "code",
   "execution_count": null,
   "id": "80418b6b-fb40-46d7-8eac-879342d33712",
   "metadata": {},
   "outputs": [],
   "source": [
    "sql='''\n",
    "SELECT\n",
    "  TIME_FLOOR(MILLIS_TO_TIMESTAMP(\"__time_arrival\"),'P1D') AS \"day\",\n",
    "  AVG(TIMESTAMPDIFF(SECOND, \"__time\", NVL(MILLIS_TO_TIMESTAMP(\"__time_arrival\"),\"__time\"))) AS \"averageFlightLength_s\"\n",
    "FROM \"example-flights-cast\"\n",
    "WHERE TIME_IN_INTERVAL(\"__time\",'2005-11-01/P7D')\n",
    "GROUP BY 1\n",
    "'''\n",
    "\n",
    "display.sql(sql)"
   ]
  },
  {
   "cell_type": "code",
   "execution_count": null,
   "id": "f9d7d1ba-38a6-4065-b7a4-f8c9b184b443",
   "metadata": {},
   "outputs": [],
   "source": [
    "sql='''\n",
    "SELECT\n",
    "  TIME_FLOOR(CAST(\"__time_arrival\" AS TIMESTAMP),'P1D') AS \"day\",\n",
    "  AVG(TIMESTAMPDIFF(SECOND, \"__time\", NVL(MILLIS_TO_TIMESTAMP(\"__time_arrival\"),\"__time\"))) AS \"averageSpeed\"\n",
    "FROM \"example-flights-cast\"\n",
    "WHERE TIME_IN_INTERVAL(\"__time\",'2005-11-01/P7D')\n",
    "GROUP BY 1\n",
    "'''\n",
    "\n",
    "display.sql(sql)"
   ]
  },
  {
   "cell_type": "markdown",
   "id": "c99b46a5-3d31-410a-849f-31f67dc7ec8b",
   "metadata": {},
   "source": [
    "A CAST from string-types to TIMESTAMP expects standard SQL date time formatting. Other [functions](https://druid.apache.org/docs/latest/querying/sql-scalar#date-and-time-functions) support different formats."
   ]
  },
  {
   "cell_type": "code",
   "execution_count": null,
   "id": "2faf4fd3-70ce-4ff5-a83f-92c90f22617d",
   "metadata": {},
   "outputs": [],
   "source": [
    "sql='''\n",
    "SELECT CAST('2000-01-02 03:04:05' AS TIMESTAMP) AS \"castFromSqlString\"\n",
    "FROM \"example-flights-cast\"\n",
    "LIMIT 1\n",
    "'''\n",
    "\n",
    "display.sql(sql)"
   ]
  },
  {
   "cell_type": "markdown",
   "id": "4f42e716-592a-42aa-bfa2-d743f963983f",
   "metadata": {},
   "source": [
    "Run the following cell to see a CAST from TIMESTAMP to a string, as well as an example of the TIME_FORMAT function to create the same output.\n",
    "\n",
    "For more examples of TIME_FORMAT check out the [dedicated notebook](../03-query/07-functions-datetime.ipynb) on datetime functions."
   ]
  },
  {
   "cell_type": "code",
   "execution_count": null,
   "id": "f2cbad55-b547-42e1-8713-6e1f6144c1b2",
   "metadata": {},
   "outputs": [],
   "source": [
    "sql='''\n",
    "SELECT\n",
    "    CAST(\"__time\" AS VARCHAR) AS \"__time_VARCHAR\",\n",
    "    TIME_FORMAT(__time, 'YYYY-MM-dd hh:mm:ss') AS \"__time_FORMAT\"\n",
    "FROM \"example-flights-cast\"\n",
    "WHERE TIME_IN_INTERVAL(\"__time\",'2005-11-08/PT10M')\n",
    "'''\n",
    "\n",
    "display.sql(sql)"
   ]
  },
  {
   "cell_type": "markdown",
   "id": "4989fba9-8d24-4ea3-9124-d94d2d9173cd",
   "metadata": {},
   "source": [
    "### Booleans\n",
    "\n",
    "In the ingestion SQL, the following CASE statement output either true or false:\n",
    "\n",
    "```sql\n",
    "CASE WHEN \"Origin\" = 'SFO' THEN true ELSE false END AS \"isSilicon\",\n",
    "```\n",
    "\n",
    "Run the cell below to see how this plays out in a SQL statement:"
   ]
  },
  {
   "cell_type": "code",
   "execution_count": null,
   "id": "08d7fa41-7647-4624-a226-533982840dd9",
   "metadata": {},
   "outputs": [],
   "source": [
    "sql='''\n",
    "SELECT\n",
    "  \"isSilicon\",\n",
    "  COUNT(*) AS \"flights\"\n",
    "FROM \"example-flights-cast\"\n",
    "WHERE TIME_IN_INTERVAL(\"__time\",'2005-11-08/P7D')\n",
    "GROUP BY 1\n",
    "'''\n",
    "\n",
    "display.sql(sql)"
   ]
  },
  {
   "cell_type": "markdown",
   "id": "f726077e-b10f-4cf2-af47-df9ca89d9cc9",
   "metadata": {},
   "source": [
    "The results you see reflect the base internal type for this column: BIGINT.\n",
    "\n",
    "CASTs ensure Druid applies the configured [strict boolean behaviour](https://druid.apache.org/docs/latest/querying/sql-data-types#boolean-logic), impacting how Druid vectorizes [operations](https://druid.apache.org/docs/latest/misc/math-expr/#vectorization-support) queries, and how it [handles logical operations](https://druid.apache.org/docs/latest/misc/math-expr/#logical-operator-modes) - particulary important when controlling how NULLs are handled.\n",
    "\n",
    "Run the following cell to see examples of how CAST enables you to treat this data in a true boolean fashion."
   ]
  },
  {
   "cell_type": "code",
   "execution_count": null,
   "id": "ac6e0797-b59f-4195-81ce-dbae404f961c",
   "metadata": {},
   "outputs": [],
   "source": [
    "sql='''\n",
    "SELECT\n",
    "  CAST(\"isSilicon\" AS BOOLEAN) AS \"isSilicon-LONG\",\n",
    "  CAST(\"Distance\" AS BOOLEAN) AS \"isDistant-BIGINT\",\n",
    "  COUNT(*) AS \"flights\"\n",
    "FROM \"example-flights-cast\"\n",
    "WHERE TIME_IN_INTERVAL(\"__time\",'2005-11-08/P7D')\n",
    "GROUP BY \"isSilicon\", CAST(\"Distance\" AS BOOLEAN)\n",
    "'''\n",
    "\n",
    "display.sql(sql)"
   ]
  },
  {
   "cell_type": "markdown",
   "id": "9d0f7a48-a809-490f-9ccb-0ddda2a117a6",
   "metadata": {},
   "source": [
    "Notice that, in the query above, `Distance` was CAST to a BOOLEAN in the GROUP BY clause. Because of the way Druid determines whether something is true of false, this resulted in only two emitted rows, rather than rows being emitted for every possible value of `Distance` in the source data.\n",
    "\n",
    "The following cell shows examples of how CAST handles STRING-to-BOOLEAN conversion:"
   ]
  },
  {
   "cell_type": "code",
   "execution_count": null,
   "id": "9f84871c-3f39-4f1f-a34c-3ecb386d5ea3",
   "metadata": {},
   "outputs": [],
   "source": [
    "sql='''\n",
    "SELECT\n",
    "  CAST('I am a string' AS BOOLEAN) AS \"isStringy-STRING\",\n",
    "  CAST('true' AS BOOLEAN) AS \"isTrulyString-STRING\",\n",
    "  CAST('' AS BOOLEAN) AS \"isNotStringy-STRING\",\n",
    "  CAST('false' AS BOOLEAN) AS \"isStillNotStringy-STRING\"\n",
    "FROM \"example-flights-cast\"\n",
    "LIMIT 1\n",
    "'''\n",
    "\n",
    "display.sql(sql)"
   ]
  },
  {
   "cell_type": "markdown",
   "id": "c39c64bf-5cd2-4ac2-af70-019f35859771",
   "metadata": {},
   "source": [
    "Review the SQL in the following INSERT statement. It includes a specific CAST to BOOLEAN of the CASE condition.\n",
    "\n",
    "What do you suspect the `DATA_TYPE` will be?"
   ]
  },
  {
   "cell_type": "code",
   "execution_count": null,
   "id": "b16e4286-f8cf-4faf-8624-01c87158fba4",
   "metadata": {},
   "outputs": [],
   "source": [
    "sql='''\n",
    "REPLACE INTO \"example-flights-cast\" OVERWRITE ALL\n",
    "WITH \"ext\" AS (SELECT *\n",
    "FROM TABLE(\n",
    "  EXTERN(\n",
    "    '{\"type\":\"http\",\"uris\":[\"https://static.imply.io/example-data/flight_on_time/flights/On_Time_Reporting_Carrier_On_Time_Performance_(1987_present)_2005_11.csv.zip\"]}',\n",
    "    '{\"type\":\"csv\",\"findColumnsFromHeader\":true}'\n",
    "  )\n",
    ") EXTEND (\"depaturetime\" VARCHAR, \"arrivalime\" VARCHAR, \"Year\" BIGINT, \"Quarter\" BIGINT, \"Month\" BIGINT, \"DayofMonth\" BIGINT, \"DayOfWeek\" BIGINT, \"FlightDate\" VARCHAR, \"Reporting_Airline\" VARCHAR, \"DOT_ID_Reporting_Airline\" BIGINT, \"IATA_CODE_Reporting_Airline\" VARCHAR, \"Tail_Number\" VARCHAR, \"Flight_Number_Reporting_Airline\" BIGINT, \"OriginAirportID\" BIGINT, \"OriginAirportSeqID\" BIGINT, \"OriginCityMarketID\" BIGINT, \"Origin\" VARCHAR, \"OriginCityName\" VARCHAR, \"OriginState\" VARCHAR, \"OriginStateFips\" BIGINT, \"OriginStateName\" VARCHAR, \"OriginWac\" BIGINT, \"DestAirportID\" BIGINT, \"DestAirportSeqID\" BIGINT, \"DestCityMarketID\" BIGINT, \"Dest\" VARCHAR, \"DestCityName\" VARCHAR, \"DestState\" VARCHAR, \"DestStateFips\" BIGINT, \"DestStateName\" VARCHAR, \"DestWac\" BIGINT, \"CRSDepTime\" BIGINT, \"DepTime\" BIGINT, \"DepDelay\" BIGINT, \"DepDelayMinutes\" BIGINT, \"DepDel15\" BIGINT, \"DepartureDelayGroups\" BIGINT, \"DepTimeBlk\" VARCHAR, \"TaxiOut\" BIGINT, \"WheelsOff\" BIGINT, \"WheelsOn\" BIGINT, \"TaxiIn\" BIGINT, \"CRSArrTime\" BIGINT, \"ArrTime\" BIGINT, \"ArrDelay\" BIGINT, \"ArrDelayMinutes\" BIGINT, \"ArrDel15\" BIGINT, \"ArrivalDelayGroups\" BIGINT, \"ArrTimeBlk\" VARCHAR, \"Cancelled\" BIGINT, \"CancellationCode\" VARCHAR, \"Diverted\" BIGINT, \"CRSElapsedTime\" BIGINT, \"ActualElapsedTime\" BIGINT, \"AirTime\" BIGINT, \"Flights\" BIGINT, \"Distance\" BIGINT, \"DistanceGroup\" BIGINT, \"CarrierDelay\" BIGINT, \"WeatherDelay\" BIGINT, \"NASDelay\" BIGINT, \"SecurityDelay\" BIGINT, \"LateAircraftDelay\" BIGINT, \"FirstDepTime\" VARCHAR, \"TotalAddGTime\" VARCHAR, \"LongestAddGTime\" VARCHAR, \"DivAirportLandings\" VARCHAR, \"DivReachedDest\" VARCHAR, \"DivActualElapsedTime\" VARCHAR, \"DivArrDelay\" VARCHAR, \"DivDistance\" VARCHAR, \"Div1Airport\" VARCHAR, \"Div1AirportID\" VARCHAR, \"Div1AirportSeqID\" VARCHAR, \"Div1WheelsOn\" VARCHAR, \"Div1TotalGTime\" VARCHAR, \"Div1LongestGTime\" VARCHAR, \"Div1WheelsOff\" VARCHAR, \"Div1TailNum\" VARCHAR, \"Div2Airport\" VARCHAR, \"Div2AirportID\" VARCHAR, \"Div2AirportSeqID\" VARCHAR, \"Div2WheelsOn\" VARCHAR, \"Div2TotalGTime\" VARCHAR, \"Div2LongestGTime\" VARCHAR, \"Div2WheelsOff\" VARCHAR, \"Div2TailNum\" VARCHAR, \"Div3Airport\" VARCHAR, \"Div3AirportID\" VARCHAR, \"Div3AirportSeqID\" VARCHAR, \"Div3WheelsOn\" VARCHAR, \"Div3TotalGTime\" VARCHAR, \"Div3LongestGTime\" VARCHAR, \"Div3WheelsOff\" VARCHAR, \"Div3TailNum\" VARCHAR, \"Div4Airport\" VARCHAR, \"Div4AirportID\" VARCHAR, \"Div4AirportSeqID\" VARCHAR, \"Div4WheelsOn\" VARCHAR, \"Div4TotalGTime\" VARCHAR, \"Div4LongestGTime\" VARCHAR, \"Div4WheelsOff\" VARCHAR, \"Div4TailNum\" VARCHAR, \"Div5Airport\" VARCHAR, \"Div5AirportID\" VARCHAR, \"Div5AirportSeqID\" VARCHAR, \"Div5WheelsOn\" VARCHAR, \"Div5TotalGTime\" VARCHAR, \"Div5LongestGTime\" VARCHAR, \"Div5WheelsOff\" VARCHAR, \"Div5TailNum\" VARCHAR, \"Unnamed: 109\" VARCHAR))\n",
    "SELECT\n",
    "  TIME_PARSE(\"depaturetime\") AS \"__time\",\n",
    "  TIME_PARSE(\"arrivalime\") AS \"__time_arrival\",\n",
    "  \"Year\",\n",
    "  \"Reporting_Airline\",\n",
    "  \"Origin\",\n",
    "  CAST((CASE WHEN \"Origin\" = 'SFO' THEN true ELSE false END) AS BOOLEAN) AS \"isSilicon\",\n",
    "  \"Dest\",\n",
    "  \"Distance\"\n",
    "FROM \"ext\"\n",
    "WHERE \"arrivalime\" <> 0\n",
    "AND \"depaturetime\" <> 0\n",
    "PARTITIONED BY DAY\n",
    "'''\n",
    "\n",
    "display.run_task(sql)\n",
    "sql_client.wait_until_ready('example-flights-cast')\n",
    "display.table('example-flights-cast')"
   ]
  },
  {
   "cell_type": "markdown",
   "id": "7d04ed26-ad8c-4a5c-bd61-2ef2000d949f",
   "metadata": {},
   "source": [
    "### Numbers\n",
    "\n",
    "Run the following ingestion that contains new calculations:\n",
    "\n",
    "* One adds a field called `Month_Filter` which is a VARCHAR cast of the numeric data in the `Month` source data.\n",
    "* A second parses the two timestamps and emits the time taken in seconds as `timeTaken_seconds`.\n",
    "* A third function applies this same calculation and divides it by distance to produce `speed_1` without casting `Distance`.\n",
    "* A fourth function applies this same calculation but applies a CAST to DOUBLE and emits `speed_2`.\n",
    "* A final fifth function CASTs to FLOAT for `speed_3`."
   ]
  },
  {
   "cell_type": "code",
   "execution_count": null,
   "id": "54de646d-f06e-4390-96b9-c28ba53bd7ae",
   "metadata": {},
   "outputs": [],
   "source": [
    "sql='''\n",
    "REPLACE INTO \"example-flights-cast\" OVERWRITE ALL\n",
    "WITH \"ext\" AS (SELECT *\n",
    "FROM TABLE(\n",
    "  EXTERN(\n",
    "    '{\"type\":\"http\",\"uris\":[\"https://static.imply.io/example-data/flight_on_time/flights/On_Time_Reporting_Carrier_On_Time_Performance_(1987_present)_2005_11.csv.zip\"]}',\n",
    "    '{\"type\":\"csv\",\"findColumnsFromHeader\":true}'\n",
    "  )\n",
    ") EXTEND (\"depaturetime\" VARCHAR, \"arrivalime\" VARCHAR, \"Year\" BIGINT, \"Quarter\" BIGINT, \"Month\" BIGINT, \"DayofMonth\" BIGINT, \"DayOfWeek\" BIGINT, \"FlightDate\" VARCHAR, \"Reporting_Airline\" VARCHAR, \"DOT_ID_Reporting_Airline\" BIGINT, \"IATA_CODE_Reporting_Airline\" VARCHAR, \"Tail_Number\" VARCHAR, \"Flight_Number_Reporting_Airline\" BIGINT, \"OriginAirportID\" BIGINT, \"OriginAirportSeqID\" BIGINT, \"OriginCityMarketID\" BIGINT, \"Origin\" VARCHAR, \"OriginCityName\" VARCHAR, \"OriginState\" VARCHAR, \"OriginStateFips\" BIGINT, \"OriginStateName\" VARCHAR, \"OriginWac\" BIGINT, \"DestAirportID\" BIGINT, \"DestAirportSeqID\" BIGINT, \"DestCityMarketID\" BIGINT, \"Dest\" VARCHAR, \"DestCityName\" VARCHAR, \"DestState\" VARCHAR, \"DestStateFips\" BIGINT, \"DestStateName\" VARCHAR, \"DestWac\" BIGINT, \"CRSDepTime\" BIGINT, \"DepTime\" BIGINT, \"DepDelay\" BIGINT, \"DepDelayMinutes\" BIGINT, \"DepDel15\" BIGINT, \"DepartureDelayGroups\" BIGINT, \"DepTimeBlk\" VARCHAR, \"TaxiOut\" BIGINT, \"WheelsOff\" BIGINT, \"WheelsOn\" BIGINT, \"TaxiIn\" BIGINT, \"CRSArrTime\" BIGINT, \"ArrTime\" BIGINT, \"ArrDelay\" BIGINT, \"ArrDelayMinutes\" BIGINT, \"ArrDel15\" BIGINT, \"ArrivalDelayGroups\" BIGINT, \"ArrTimeBlk\" VARCHAR, \"Cancelled\" BIGINT, \"CancellationCode\" VARCHAR, \"Diverted\" BIGINT, \"CRSElapsedTime\" BIGINT, \"ActualElapsedTime\" BIGINT, \"AirTime\" BIGINT, \"Flights\" BIGINT, \"Distance\" BIGINT, \"DistanceGroup\" BIGINT, \"CarrierDelay\" BIGINT, \"WeatherDelay\" BIGINT, \"NASDelay\" BIGINT, \"SecurityDelay\" BIGINT, \"LateAircraftDelay\" BIGINT, \"FirstDepTime\" VARCHAR, \"TotalAddGTime\" VARCHAR, \"LongestAddGTime\" VARCHAR, \"DivAirportLandings\" VARCHAR, \"DivReachedDest\" VARCHAR, \"DivActualElapsedTime\" VARCHAR, \"DivArrDelay\" VARCHAR, \"DivDistance\" VARCHAR, \"Div1Airport\" VARCHAR, \"Div1AirportID\" VARCHAR, \"Div1AirportSeqID\" VARCHAR, \"Div1WheelsOn\" VARCHAR, \"Div1TotalGTime\" VARCHAR, \"Div1LongestGTime\" VARCHAR, \"Div1WheelsOff\" VARCHAR, \"Div1TailNum\" VARCHAR, \"Div2Airport\" VARCHAR, \"Div2AirportID\" VARCHAR, \"Div2AirportSeqID\" VARCHAR, \"Div2WheelsOn\" VARCHAR, \"Div2TotalGTime\" VARCHAR, \"Div2LongestGTime\" VARCHAR, \"Div2WheelsOff\" VARCHAR, \"Div2TailNum\" VARCHAR, \"Div3Airport\" VARCHAR, \"Div3AirportID\" VARCHAR, \"Div3AirportSeqID\" VARCHAR, \"Div3WheelsOn\" VARCHAR, \"Div3TotalGTime\" VARCHAR, \"Div3LongestGTime\" VARCHAR, \"Div3WheelsOff\" VARCHAR, \"Div3TailNum\" VARCHAR, \"Div4Airport\" VARCHAR, \"Div4AirportID\" VARCHAR, \"Div4AirportSeqID\" VARCHAR, \"Div4WheelsOn\" VARCHAR, \"Div4TotalGTime\" VARCHAR, \"Div4LongestGTime\" VARCHAR, \"Div4WheelsOff\" VARCHAR, \"Div4TailNum\" VARCHAR, \"Div5Airport\" VARCHAR, \"Div5AirportID\" VARCHAR, \"Div5AirportSeqID\" VARCHAR, \"Div5WheelsOn\" VARCHAR, \"Div5TotalGTime\" VARCHAR, \"Div5LongestGTime\" VARCHAR, \"Div5WheelsOff\" VARCHAR, \"Div5TailNum\" VARCHAR, \"Unnamed: 109\" VARCHAR))\n",
    "SELECT\n",
    "  TIME_PARSE(\"depaturetime\") AS \"__time\",\n",
    "  TIME_PARSE(\"arrivalime\") AS \"__time_arrival\",\n",
    "  \"DayofMonth\",\n",
    "  CAST(\"DayofMonth\" AS VARCHAR) AS \"DayofMonth_Filter\",\n",
    "  TIMESTAMPDIFF(SECOND, TIME_PARSE(\"depaturetime\"), NVL(TIME_PARSE(\"arrivalime\"),TIME_PARSE(\"depaturetime\"))) AS \"timeTaken_seconds\",\n",
    "  TIMESTAMPDIFF(SECOND, TIME_PARSE(\"depaturetime\"), NVL(TIME_PARSE(\"arrivalime\"),TIME_PARSE(\"depaturetime\"))) / \"Distance\" AS \"speed_1\",\n",
    "  TIMESTAMPDIFF(SECOND, TIME_PARSE(\"depaturetime\"), NVL(TIME_PARSE(\"arrivalime\"),TIME_PARSE(\"depaturetime\"))) / CAST(\"Distance\" AS DOUBLE) AS \"speed_2\",\n",
    "  TIMESTAMPDIFF(SECOND, TIME_PARSE(\"depaturetime\"), NVL(TIME_PARSE(\"arrivalime\"),TIME_PARSE(\"depaturetime\"))) / CAST(\"Distance\" AS FLOAT) AS \"speed_3\",\n",
    "  \"Reporting_Airline\",\n",
    "  \"Origin\",\n",
    "  CASE WHEN \"Origin\" = 'SFO' THEN true ELSE false END AS \"isSilicon\",\n",
    "  \"Dest\",\n",
    "  \"Distance\"\n",
    "FROM \"ext\"\n",
    "WHERE \"arrivalime\" <> 0\n",
    "AND \"depaturetime\" <> 0\n",
    "PARTITIONED BY DAY\n",
    "'''\n",
    "\n",
    "display.run_task(sql)\n",
    "sql_client.wait_until_ready('example-flights-cast')\n",
    "display.table('example-flights-cast')"
   ]
  },
  {
   "cell_type": "markdown",
   "id": "ea07299d-27e2-407d-8df7-2bee1127d444",
   "metadata": {},
   "source": [
    "Firstly, notice that `DayofMonth_Filter` has been stored as a VARCHAR explicitly because of the CAST function.\n",
    "\n",
    "Since Druid automatically creates [bitmap indexes](https://druid.apache.org/docs/latest/ingestion/ingestion-spec#dimension-objects) for STRING-type columns at ingestion time, it can be useful to create VARCHAR versions of columns that will be used for filtering in addition to any CLUSTERED BY column, especially when that column will never be used for any sort of mathematical calculation.\n",
    "\n",
    "Run the following cell to see an example of a query that makes use of this filtering column."
   ]
  },
  {
   "cell_type": "code",
   "execution_count": null,
   "id": "6a116797-2dfb-4273-a50e-fda337bb3f7e",
   "metadata": {},
   "outputs": [],
   "source": [
    "sql='''\n",
    "SELECT\n",
    "    COUNT(*) FILTER (WHERE \"DayofMonth_Filter\" = '10') AS \"10thDayCount\",\n",
    "    COUNT(*) FILTER (WHERE \"DayofMonth_Filter\" = '9') AS \"9thDayCount\"\n",
    "FROM \"example-flights-cast\"\n",
    "'''\n",
    "\n",
    "display.sql(sql)"
   ]
  },
  {
   "cell_type": "markdown",
   "id": "3a4f215a-7f10-42b8-94f6-6037f161996f",
   "metadata": {},
   "source": [
    "Secondly, notice that only the `speed_2` and `speed_3` columns are recognised as being anything other than BIGINT.\n",
    "\n",
    "In the TABLE, the data therefore differs between `speed_1`, `speed_2`, and `speed_3`."
   ]
  },
  {
   "cell_type": "code",
   "execution_count": null,
   "id": "3397e916-d16c-43c2-aed9-ff9c4b151f6f",
   "metadata": {},
   "outputs": [],
   "source": [
    "sql='''\n",
    "SELECT\n",
    "  \"Origin\",\n",
    "  \"Dest\",\n",
    "  \"speed_1\",\n",
    "  \"speed_2\",\n",
    "  \"speed_3\"\n",
    "FROM \"example-flights-cast\"\n",
    "WHERE TIME_IN_INTERVAL(\"__time\",'2005-11-08/PT15M')\n",
    "'''\n",
    "\n",
    "display.sql(sql)"
   ]
  },
  {
   "cell_type": "markdown",
   "id": "3e7fb5d5-c406-4df1-92d2-41fbe2ad9d9e",
   "metadata": {},
   "source": [
    "## Strings\n",
    "\n",
    "CHAR and VARCHAR data is stored as a string, and can be understood as holding single or [multiple](https://druid.apache.org/docs/latest/querying/sql-data-types#multi-value-strings) values.\n",
    "\n",
    "[Multi-value strings](https://druid.apache.org/docs/latest/querying/multi-value-dimensions) exhibit [special behaviour](https://druid.apache.org/docs/latest/querying/sql-data-types#multi-value-strings-behavior). A full exploration is out of the scope of this notebook.\n",
    "\n",
    "Building on the previous example, run the following cell to see a CAST using an internally stored string to compare with a numeric value:"
   ]
  },
  {
   "cell_type": "code",
   "execution_count": null,
   "id": "615fe582-ca47-4602-a1a6-383a0c4ca2bb",
   "metadata": {},
   "outputs": [],
   "source": [
    "sql='''\n",
    "SELECT\n",
    "    COUNT(*) FILTER (WHERE \"DayofMonth_Filter\" = '10') AS \"10thDayCount\",\n",
    "    COUNT(*) FILTER (WHERE \"DayofMonth_Filter\" = '9') AS \"9thDayCount-1\",\n",
    "    COUNT(*) FILTER (WHERE CAST(\"DayofMonth_Filter\" AS BIGINT) = 9) AS \"9thDayCount-2\",\n",
    "    COUNT(*) FILTER (WHERE CAST(\"DayofMonth_Filter\" AS BIGINT) = 8) AS \"8thDayCount\"\n",
    "FROM \"example-flights-cast\"\n",
    "'''\n",
    "\n",
    "display.sql(sql)"
   ]
  },
  {
   "cell_type": "markdown",
   "id": "a112ea9e-8f83-4adb-869a-498051b854e4",
   "metadata": {},
   "source": [
    "## Arrays\n",
    "\n",
    "[Arrays](https://druid.apache.org/docs/latest/querying/sql-data-types#arrays) are specially recognised in Druid, constructed using appropriate [aggregations](https://druid.apache.org/docs/latest/querying/sql-aggregations) and then worked with using dedicated SQL [functions](https://druid.apache.org/docs/latest/querying/sql-array-functions).\n",
    "\n",
    "A full exploration is out of the scope of this notebook.\n",
    "\n",
    "Rather than using CAST functions, use the [documented functions](https://druid.apache.org/docs/latest/querying/sql-array-functions) to convert between ARRAY and VARCHAR types.\n",
    "\n",
    "Run the following cell.\n",
    "\n",
    "* `origin-array` contains the output of an ARRAY_AGG function, which constructs an ARRAY at query-time from 15-minutes-worth of source data.\n",
    "* The same function is then used with the ARRAY_TO_STRING function to create a comma-separated string, output as `origin-array-string`.\n",
    "* Finally, that function is used inside STRING_TO_ARRAY to convert the string back into an array again as `origin-array-string-array`."
   ]
  },
  {
   "cell_type": "code",
   "execution_count": null,
   "id": "05d02188-bbbf-4691-8024-186970e36198",
   "metadata": {},
   "outputs": [],
   "source": [
    "sql='''\n",
    "SELECT\n",
    "  ARRAY_AGG(DISTINCT \"Origin\") AS \"origin-array\",\n",
    "  ARRAY_TO_STRING(ARRAY_AGG(DISTINCT \"Origin\"),',') AS \"origin-array-string\",\n",
    "  STRING_TO_ARRAY(ARRAY_TO_STRING(ARRAY_AGG(DISTINCT \"Origin\"),','),',') AS \"origin-array-string-array\"\n",
    "FROM \"example-flights-cast\"\n",
    "WHERE TIME_IN_INTERVAL(\"__time\",'2005-11-08/PT15M')\n",
    "'''\n",
    "\n",
    "display.sql(sql)"
   ]
  },
  {
   "cell_type": "markdown",
   "id": "22cf1c05-7fec-4574-88ea-db9844565bfb",
   "metadata": {},
   "source": [
    "## Other\n",
    "\n",
    "Special types of data are stored as COMPLEX or OTHER, including Apache Datasketches.\n",
    "\n",
    "Run the following ingestion to create a table where this type can be seen.\n",
    "\n",
    "For more information on how this cell works, see the dedicated notebook on [generating sketches at ingestion time](./03-generating-sketches.ipynb)."
   ]
  },
  {
   "cell_type": "code",
   "execution_count": null,
   "id": "f52a94fb-d2e4-403f-ab10-84d3af7bf2c8",
   "metadata": {},
   "outputs": [],
   "source": [
    "sql='''\n",
    "REPLACE INTO \"example-flights-cast\" OVERWRITE ALL\n",
    "WITH \"ext\" AS (SELECT *\n",
    "FROM TABLE(\n",
    "  EXTERN(\n",
    "    '{\"type\":\"http\",\"uris\":[\"https://static.imply.io/example-data/flight_on_time/flights/On_Time_Reporting_Carrier_On_Time_Performance_(1987_present)_2005_11.csv.zip\"]}',\n",
    "    '{\"type\":\"csv\",\"findColumnsFromHeader\":true}'\n",
    "  )\n",
    ") EXTEND (\"depaturetime\" VARCHAR, \"arrivalime\" VARCHAR, \"Year\" BIGINT, \"Quarter\" BIGINT, \"Month\" BIGINT, \"DayofMonth\" BIGINT, \"DayOfWeek\" BIGINT, \"FlightDate\" VARCHAR, \"Reporting_Airline\" VARCHAR, \"DOT_ID_Reporting_Airline\" BIGINT, \"IATA_CODE_Reporting_Airline\" VARCHAR, \"Tail_Number\" VARCHAR, \"Flight_Number_Reporting_Airline\" BIGINT, \"OriginAirportID\" BIGINT, \"OriginAirportSeqID\" BIGINT, \"OriginCityMarketID\" BIGINT, \"Origin\" VARCHAR, \"OriginCityName\" VARCHAR, \"OriginState\" VARCHAR, \"OriginStateFips\" BIGINT, \"OriginStateName\" VARCHAR, \"OriginWac\" BIGINT, \"DestAirportID\" BIGINT, \"DestAirportSeqID\" BIGINT, \"DestCityMarketID\" BIGINT, \"Dest\" VARCHAR, \"DestCityName\" VARCHAR, \"DestState\" VARCHAR, \"DestStateFips\" BIGINT, \"DestStateName\" VARCHAR, \"DestWac\" BIGINT, \"CRSDepTime\" BIGINT, \"DepTime\" BIGINT, \"DepDelay\" BIGINT, \"DepDelayMinutes\" BIGINT, \"DepDel15\" BIGINT, \"DepartureDelayGroups\" BIGINT, \"DepTimeBlk\" VARCHAR, \"TaxiOut\" BIGINT, \"WheelsOff\" BIGINT, \"WheelsOn\" BIGINT, \"TaxiIn\" BIGINT, \"CRSArrTime\" BIGINT, \"ArrTime\" BIGINT, \"ArrDelay\" BIGINT, \"ArrDelayMinutes\" BIGINT, \"ArrDel15\" BIGINT, \"ArrivalDelayGroups\" BIGINT, \"ArrTimeBlk\" VARCHAR, \"Cancelled\" BIGINT, \"CancellationCode\" VARCHAR, \"Diverted\" BIGINT, \"CRSElapsedTime\" BIGINT, \"ActualElapsedTime\" BIGINT, \"AirTime\" BIGINT, \"Flights\" BIGINT, \"Distance\" BIGINT, \"DistanceGroup\" BIGINT, \"CarrierDelay\" BIGINT, \"WeatherDelay\" BIGINT, \"NASDelay\" BIGINT, \"SecurityDelay\" BIGINT, \"LateAircraftDelay\" BIGINT, \"FirstDepTime\" VARCHAR, \"TotalAddGTime\" VARCHAR, \"LongestAddGTime\" VARCHAR, \"DivAirportLandings\" VARCHAR, \"DivReachedDest\" VARCHAR, \"DivActualElapsedTime\" VARCHAR, \"DivArrDelay\" VARCHAR, \"DivDistance\" VARCHAR, \"Div1Airport\" VARCHAR, \"Div1AirportID\" VARCHAR, \"Div1AirportSeqID\" VARCHAR, \"Div1WheelsOn\" VARCHAR, \"Div1TotalGTime\" VARCHAR, \"Div1LongestGTime\" VARCHAR, \"Div1WheelsOff\" VARCHAR, \"Div1TailNum\" VARCHAR, \"Div2Airport\" VARCHAR, \"Div2AirportID\" VARCHAR, \"Div2AirportSeqID\" VARCHAR, \"Div2WheelsOn\" VARCHAR, \"Div2TotalGTime\" VARCHAR, \"Div2LongestGTime\" VARCHAR, \"Div2WheelsOff\" VARCHAR, \"Div2TailNum\" VARCHAR, \"Div3Airport\" VARCHAR, \"Div3AirportID\" VARCHAR, \"Div3AirportSeqID\" VARCHAR, \"Div3WheelsOn\" VARCHAR, \"Div3TotalGTime\" VARCHAR, \"Div3LongestGTime\" VARCHAR, \"Div3WheelsOff\" VARCHAR, \"Div3TailNum\" VARCHAR, \"Div4Airport\" VARCHAR, \"Div4AirportID\" VARCHAR, \"Div4AirportSeqID\" VARCHAR, \"Div4WheelsOn\" VARCHAR, \"Div4TotalGTime\" VARCHAR, \"Div4LongestGTime\" VARCHAR, \"Div4WheelsOff\" VARCHAR, \"Div4TailNum\" VARCHAR, \"Div5Airport\" VARCHAR, \"Div5AirportID\" VARCHAR, \"Div5AirportSeqID\" VARCHAR, \"Div5WheelsOn\" VARCHAR, \"Div5TotalGTime\" VARCHAR, \"Div5LongestGTime\" VARCHAR, \"Div5WheelsOff\" VARCHAR, \"Div5TailNum\" VARCHAR, \"Unnamed: 109\" VARCHAR))\n",
    "SELECT\n",
    "  TIME_FLOOR(TIME_PARSE(\"depaturetime\"), 'PT1H') AS \"__time\",\n",
    "  TIME_FLOOR(TIME_PARSE(\"arrivalime\"), 'PT1H') AS \"__arrival_time\",\n",
    "  \"Reporting_Airline\",\n",
    "  DS_HLL(\"Tail_Number\") AS \"Tail_Number_HLL\",\n",
    "  DS_THETA(\"Tail_Number\") AS \"Tail_Number_THETA\"\n",
    "FROM \"ext\"\n",
    "WHERE \"arrivalime\" <> 0\n",
    "AND \"depaturetime\" <> 0\n",
    "GROUP BY 1, 2, 3\n",
    "PARTITIONED BY DAY\n",
    "'''\n",
    "\n",
    "req = sql_client.sql_request(sql)\n",
    "req.add_context(\"finalize\", \"false\")\n",
    "req.add_context(\"finalizeAggregations\", \"false\")\n",
    "\n",
    "display.run_task(req)\n",
    "sql_client.wait_until_ready('example-flights-cast')\n",
    "display.table('example-flights-cast')"
   ]
  },
  {
   "cell_type": "markdown",
   "id": "ea49154a-4661-4e65-9651-bc5f971e215d",
   "metadata": {},
   "source": [
    "Notice that both the sketched columns are recognised as COMPLEX types."
   ]
  },
  {
   "cell_type": "markdown",
   "id": "44738d6d-cec2-40ad-aaba-998c758c63f4",
   "metadata": {},
   "source": [
    "## Clean up\n",
    "\n",
    "Run the following cell to remove the tables that were created by this notebook from the database."
   ]
  },
  {
   "cell_type": "code",
   "execution_count": null,
   "id": "8082b545-ba7f-4ede-bb6e-2a6dd62ba0d8",
   "metadata": {},
   "outputs": [],
   "source": [
    "druid.datasources.drop(\"example-flights-cast\")"
   ]
  },
  {
   "cell_type": "markdown",
   "id": "54b8d5fe-ba85-4b5b-9669-0dd47dfbccd1",
   "metadata": {},
   "source": [
    "## Summary\n",
    "\n",
    "* You learned this\n",
    "* Remember this\n",
    "\n",
    "## Learn more\n",
    "\n",
    "* Try this out on your own data\n",
    "* Solve for problem X that is't covered here\n",
    "* Read docs pages\n",
    "* Watch or read something cool from the community\n",
    "* Do some exploratory stuff on your own"
   ]
  },
  {
   "cell_type": "code",
   "execution_count": null,
   "id": "ca4d3362-b1a4-47a4-a782-9773c216b3ba",
   "metadata": {},
   "outputs": [],
   "source": [
    "# STANDARD CODE BLOCKS\n",
    "\n",
    "# When just wanting to display some SQL results\n",
    "display.sql(sql)\n",
    "\n",
    "# When ingesting data:\n",
    "display.run_task(sql)\n",
    "sql_client.wait_until_ready('example-flights-cast')\n",
    "display.table('example-flights-cast')\n",
    "\n",
    "# When you want to make an EXPLAIN look pretty\n",
    "print(json.dumps(json.loads(sql_client.explain_sql(sql)['PLAN']), indent=2))\n",
    "\n",
    "# When you want a simple plot\n",
    "df = pd.DataFrame(sql_client.sql(sql))\n",
    "df.plot(x='x-axis', y='y-axis', marker='o')\n",
    "plt.xticks(rotation=45, ha='right')\n",
    "plt.gca().get_legend().remove()\n",
    "plt.show()\n",
    "\n",
    "# When you want to add some query context parameters\n",
    "req = sql_client.sql_request(sql)\n",
    "req.add_context(\"useApproximateTopN\", \"false\")\n",
    "resp = sql_client.sql_query(req)\n",
    "\n",
    "# When you want to compare two different sets of results\n",
    "df3 = df1.compare(df2, keep_equal=True)\n",
    "df3"
   ]
  }
 ],
 "metadata": {
  "execution": {
   "allow_errors": true,
   "timeout": 300
  },
  "kernelspec": {
   "display_name": "Python 3 (ipykernel)",
   "language": "python",
   "name": "python3"
  },
  "language_info": {
   "codemirror_mode": {
    "name": "ipython",
    "version": 3
   },
   "file_extension": ".py",
   "mimetype": "text/x-python",
   "name": "python",
   "nbconvert_exporter": "python",
   "pygments_lexer": "ipython3",
   "version": "3.11.5"
  }
 },
 "nbformat": 4,
 "nbformat_minor": 5
}
