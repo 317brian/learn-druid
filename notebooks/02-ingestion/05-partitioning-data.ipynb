{
 "cells": [
  {
   "cell_type": "markdown",
   "id": "0cb3b009-ebde-4d56-9d59-a028d66d8309",
   "metadata": {},
   "source": [
    "# Optimizing Performance using PARTITIONED BY and CLUSTERED BY\n",
    "<!--\n",
    "  ~ Licensed to the Apache Software Foundation (ASF) under one\n",
    "  ~ or more contributor license agreements.  See the NOTICE file\n",
    "  ~ distributed with this work for additional information\n",
    "  ~ regarding copyright ownership.  The ASF licenses this file\n",
    "  ~ to you under the Apache License, Version 2.0 (the\n",
    "  ~ \"License\"); you may not use this file except in compliance\n",
    "  ~ with the License.  You may obtain a copy of the License at\n",
    "  ~\n",
    "  ~   http://www.apache.org/licenses/LICENSE-2.0\n",
    "  ~\n",
    "  ~ Unless required by applicable law or agreed to in writing,\n",
    "  ~ software distributed under the License is distributed on an\n",
    "  ~ \"AS IS\" BASIS, WITHOUT WARRANTIES OR CONDITIONS OF ANY\n",
    "  ~ KIND, either express or implied.  See the License for the\n",
    "  ~ specific language governing permissions and limitations\n",
    "  ~ under the License.\n",
    "  -->\n",
    "\n",
    "This notebook is a review of Apache Druid's data sharding strategy and how it can be used to improve system health and query performance.\n",
    "\n",
    "Apache Druid stores data in Segment files. Druid Segments have a columnar structure designed for high performance analytic queries. Segments are organized into consistent time intervals called the `Segment Granularity` of the table and typically expressed as HOUR, DAY, MONTH, or YEAR. In this notebook we will review how this setting affects the number of segments created during ingestion and the size of those segments. Druid works best when segments are balanced in size and cover approximately 5 million rows each. \n",
    "\n",
    "Pruning is the process of reducing the segment files that need to be inspected in order to resolve a query. To process a query in Druid, all the time chunks that overlap the query's filter condition on the __time column will be inspected. \n",
    "\n",
    "Within is time chunk, segment files can be organized based on another set of columns. In SQL Based ingestion it's specified using a CLUSTERED BY clause. When you use this feature, Druid will organize the segments within a time chuck such that each one covers a range of the values. At query time the Broker can do additional pruning of the segments within a time chunk if the user specifies a filter condition on the clustering columns. \n",
    "\n",
    "Streaming ingestion is inherently different because it is optimized for scalable throughput. Streaming ingestion scales up by adding more tasks. Each task ingests portions of the data from a stream and generates segment files idependently from other tasks. With more parallel tasks, this causes more fragmentation. We will review how compaction tasks are used to merge segments and how compaction can apply a secondary partitioning strategy in order to optimize the data after ingestion.\n"
   ]
  },
  {
   "cell_type": "markdown",
   "id": "bbdbf6ad-ca7b-40f5-8ca3-1070f4a3ee42",
   "metadata": {},
   "source": [
    "## Prerequisites\n",
    "\n",
    "This tutorial works was tested with Druid 27.0.0.\n",
    "\n",
    "#### Run with Docker\n",
    "\n",
    "<!-- Profiles are:\n",
    "`druid-jupyter` - just Jupyter and Druid\n",
    "`all-services` - includes Jupyter, Druid, and Kafka\n",
    " -->\n",
    "\n",
    "Launch this tutorial and all prerequisites using the `all-services` profile of the Docker Compose file for Jupyter-based Druid tutorials. For more information, see [the project on github](https://github.com/implydata/learn-druid).\n",
    "   "
   ]
  },
  {
   "cell_type": "markdown",
   "id": "5007a243-b81a-4601-8f57-5b14940abbff",
   "metadata": {},
   "source": [
    "## Initialization\n",
    "\n",
    "The following cells set up the notebook and learning environment ready for use.\n",
    "\n",
    "### Set up and connect to the learning environment\n",
    "\n",
    "Run the next cell to set up the Druid Python client's connection to Apache Druid.\n",
    "\n",
    "If successful, the Druid version number will be shown in the output."
   ]
  },
  {
   "cell_type": "code",
   "execution_count": 1,
   "id": "c1ec783b-df3f-4168-9be2-cdc6ad3e33c2",
   "metadata": {},
   "outputs": [
    {
     "name": "stdout",
     "output_type": "stream",
     "text": [
      "Opening a connection to http://router:8888.\n"
     ]
    },
    {
     "data": {
      "text/html": [
       "\n",
       "<style>\n",
       "  .druid table {\n",
       "    border: 1px solid black;\n",
       "    border-collapse: collapse;\n",
       "  }\n",
       "\n",
       "  .druid th, .druid td {\n",
       "    padding: 4px 1em ;\n",
       "    text-align: left;\n",
       "  }\n",
       "\n",
       "  td.druid-right, th.druid-right {\n",
       "    text-align: right;\n",
       "  }\n",
       "\n",
       "  td.druid-center, th.druid-center {\n",
       "    text-align: center;\n",
       "  }\n",
       "\n",
       "  .druid .druid-left {\n",
       "    text-align: left;\n",
       "  }\n",
       "\n",
       "  .druid-alert {\n",
       "    font-weight: bold;\n",
       "  }\n",
       "\n",
       "  .druid-error {\n",
       "    color: red;\n",
       "  }\n",
       "</style>\n"
      ],
      "text/plain": [
       "<IPython.core.display.HTML object>"
      ]
     },
     "metadata": {},
     "output_type": "display_data"
    },
    {
     "data": {
      "text/plain": [
       "'27.0.0-SNAPSHOT'"
      ]
     },
     "execution_count": 1,
     "metadata": {},
     "output_type": "execute_result"
    }
   ],
   "source": [
    "import druidapi\n",
    "import os\n",
    "\n",
    "if 'DRUID_HOST' not in os.environ.keys():\n",
    "    druid_host=f\"http://localhost:8888\"\n",
    "else:\n",
    "    druid_host=f\"http://{os.environ['DRUID_HOST']}:8888\"\n",
    "    \n",
    "print(f\"Opening a connection to {druid_host}.\")\n",
    "druid = druidapi.jupyter_client(druid_host)\n",
    "\n",
    "display = druid.display\n",
    "sql_client = druid.sql\n",
    "status_client = druid.status\n",
    "\n",
    "status_client.version"
   ]
  },
  {
   "cell_type": "markdown",
   "id": "2efdbee0-62da-4fd3-84e1-f66b8c0150b3",
   "metadata": {},
   "source": [
    "<!-- Include these cells if your notebook uses Kafka. -->\n",
    "\n",
    "Run the next cell to set up the connection to Apache Kafka."
   ]
  },
  {
   "cell_type": "code",
   "execution_count": 2,
   "id": "c075de81-04c9-4b23-8253-20a15d46252e",
   "metadata": {},
   "outputs": [],
   "source": [
    "if 'KAFKA_HOST' not in os.environ.keys():\n",
    "   kafka_host=f\"http://localhost:9092\"\n",
    "else:\n",
    "    kafka_host=f\"{os.environ['KAFKA_HOST']}:9092\""
   ]
  },
  {
   "cell_type": "markdown",
   "id": "472589e4-1026-4b3b-bb79-eedabb2b44c4",
   "metadata": {},
   "source": [
    "## Time Partitioning\n",
    "\n",
    "Normally, ideal segments contain around 5 million rows, but given that this is all running on a laptop and for fast demonstration purposes, we'll set our \"ideal\" to only 50000 rows.\n",
    "\n",
    "\n",
    "### Too Granular\n",
    "Using a `Segment Granularity` that is too small will render too many segments. The following batch ingestion demonstrates this. It will take about 1 minute to complete:"
   ]
  },
  {
   "cell_type": "code",
   "execution_count": 4,
   "id": "f52a94fb-d2e4-403f-ab10-84d3af7bf2c8",
   "metadata": {},
   "outputs": [
    {
     "name": "stderr",
     "output_type": "stream",
     "text": [
      "Loading data, status:[SUCCESS]: 100%|██████████| 100.0/100.0 [01:05<00:00,  1.52it/s]            \n"
     ]
    },
    {
     "data": {
      "text/html": [
       "<div class=\"druid\"><table>\n",
       "<tr><th>Position</th><th>Name</th><th>Type</th></tr>\n",
       "<tr><td>1</td><td>__time</td><td>TIMESTAMP</td></tr>\n",
       "<tr><td>2</td><td>arrivalime</td><td>VARCHAR</td></tr>\n",
       "<tr><td>3</td><td>Year</td><td>BIGINT</td></tr>\n",
       "<tr><td>4</td><td>Quarter</td><td>BIGINT</td></tr>\n",
       "<tr><td>5</td><td>Month</td><td>BIGINT</td></tr>\n",
       "<tr><td>6</td><td>DayofMonth</td><td>BIGINT</td></tr>\n",
       "<tr><td>7</td><td>DayOfWeek</td><td>BIGINT</td></tr>\n",
       "<tr><td>8</td><td>FlightDate</td><td>VARCHAR</td></tr>\n",
       "<tr><td>9</td><td>Reporting_Airline</td><td>VARCHAR</td></tr>\n",
       "<tr><td>10</td><td>DOT_ID_Reporting_Airline</td><td>BIGINT</td></tr>\n",
       "<tr><td>11</td><td>IATA_CODE_Reporting_Airline</td><td>VARCHAR</td></tr>\n",
       "<tr><td>12</td><td>Tail_Number</td><td>VARCHAR</td></tr>\n",
       "<tr><td>13</td><td>Flight_Number_Reporting_Airline</td><td>BIGINT</td></tr>\n",
       "<tr><td>14</td><td>OriginAirportID</td><td>BIGINT</td></tr>\n",
       "<tr><td>15</td><td>OriginAirportSeqID</td><td>BIGINT</td></tr>\n",
       "<tr><td>16</td><td>OriginCityMarketID</td><td>BIGINT</td></tr>\n",
       "<tr><td>17</td><td>Origin</td><td>VARCHAR</td></tr>\n",
       "<tr><td>18</td><td>OriginCityName</td><td>VARCHAR</td></tr>\n",
       "<tr><td>19</td><td>OriginState</td><td>VARCHAR</td></tr>\n",
       "<tr><td>20</td><td>OriginStateFips</td><td>BIGINT</td></tr>\n",
       "<tr><td>21</td><td>OriginStateName</td><td>VARCHAR</td></tr>\n",
       "<tr><td>22</td><td>OriginWac</td><td>BIGINT</td></tr>\n",
       "<tr><td>23</td><td>DestAirportID</td><td>BIGINT</td></tr>\n",
       "<tr><td>24</td><td>DestAirportSeqID</td><td>BIGINT</td></tr>\n",
       "<tr><td>25</td><td>DestCityMarketID</td><td>BIGINT</td></tr>\n",
       "<tr><td>26</td><td>Dest</td><td>VARCHAR</td></tr>\n",
       "<tr><td>27</td><td>DestCityName</td><td>VARCHAR</td></tr>\n",
       "<tr><td>28</td><td>DestState</td><td>VARCHAR</td></tr>\n",
       "<tr><td>29</td><td>DestStateFips</td><td>BIGINT</td></tr>\n",
       "<tr><td>30</td><td>DestStateName</td><td>VARCHAR</td></tr>\n",
       "<tr><td>31</td><td>DestWac</td><td>BIGINT</td></tr>\n",
       "<tr><td>32</td><td>CRSDepTime</td><td>BIGINT</td></tr>\n",
       "<tr><td>33</td><td>DepTime</td><td>BIGINT</td></tr>\n",
       "<tr><td>34</td><td>DepDelay</td><td>BIGINT</td></tr>\n",
       "<tr><td>35</td><td>DepDelayMinutes</td><td>BIGINT</td></tr>\n",
       "<tr><td>36</td><td>DepDel15</td><td>BIGINT</td></tr>\n",
       "<tr><td>37</td><td>DepartureDelayGroups</td><td>BIGINT</td></tr>\n",
       "<tr><td>38</td><td>DepTimeBlk</td><td>VARCHAR</td></tr>\n",
       "<tr><td>39</td><td>TaxiOut</td><td>BIGINT</td></tr>\n",
       "<tr><td>40</td><td>WheelsOff</td><td>BIGINT</td></tr>\n",
       "<tr><td>41</td><td>WheelsOn</td><td>BIGINT</td></tr>\n",
       "<tr><td>42</td><td>TaxiIn</td><td>BIGINT</td></tr>\n",
       "<tr><td>43</td><td>CRSArrTime</td><td>BIGINT</td></tr>\n",
       "<tr><td>44</td><td>ArrTime</td><td>BIGINT</td></tr>\n",
       "<tr><td>45</td><td>ArrDelay</td><td>BIGINT</td></tr>\n",
       "<tr><td>46</td><td>ArrDelayMinutes</td><td>BIGINT</td></tr>\n",
       "<tr><td>47</td><td>ArrDel15</td><td>BIGINT</td></tr>\n",
       "<tr><td>48</td><td>ArrivalDelayGroups</td><td>BIGINT</td></tr>\n",
       "<tr><td>49</td><td>ArrTimeBlk</td><td>VARCHAR</td></tr>\n",
       "<tr><td>50</td><td>Cancelled</td><td>BIGINT</td></tr>\n",
       "<tr><td>51</td><td>CancellationCode</td><td>VARCHAR</td></tr>\n",
       "<tr><td>52</td><td>Diverted</td><td>BIGINT</td></tr>\n",
       "<tr><td>53</td><td>CRSElapsedTime</td><td>BIGINT</td></tr>\n",
       "<tr><td>54</td><td>ActualElapsedTime</td><td>BIGINT</td></tr>\n",
       "<tr><td>55</td><td>AirTime</td><td>BIGINT</td></tr>\n",
       "<tr><td>56</td><td>Flights</td><td>BIGINT</td></tr>\n",
       "<tr><td>57</td><td>Distance</td><td>BIGINT</td></tr>\n",
       "<tr><td>58</td><td>DistanceGroup</td><td>BIGINT</td></tr>\n",
       "<tr><td>59</td><td>CarrierDelay</td><td>BIGINT</td></tr>\n",
       "<tr><td>60</td><td>WeatherDelay</td><td>BIGINT</td></tr>\n",
       "<tr><td>61</td><td>NASDelay</td><td>BIGINT</td></tr>\n",
       "<tr><td>62</td><td>SecurityDelay</td><td>BIGINT</td></tr>\n",
       "<tr><td>63</td><td>LateAircraftDelay</td><td>BIGINT</td></tr>\n",
       "<tr><td>64</td><td>FirstDepTime</td><td>VARCHAR</td></tr>\n",
       "<tr><td>65</td><td>TotalAddGTime</td><td>VARCHAR</td></tr>\n",
       "<tr><td>66</td><td>LongestAddGTime</td><td>VARCHAR</td></tr>\n",
       "<tr><td>67</td><td>DivAirportLandings</td><td>VARCHAR</td></tr>\n",
       "<tr><td>68</td><td>DivReachedDest</td><td>VARCHAR</td></tr>\n",
       "<tr><td>69</td><td>DivActualElapsedTime</td><td>VARCHAR</td></tr>\n",
       "<tr><td>70</td><td>DivArrDelay</td><td>VARCHAR</td></tr>\n",
       "<tr><td>71</td><td>DivDistance</td><td>VARCHAR</td></tr>\n",
       "<tr><td>72</td><td>Div1Airport</td><td>VARCHAR</td></tr>\n",
       "<tr><td>73</td><td>Div1AirportID</td><td>VARCHAR</td></tr>\n",
       "<tr><td>74</td><td>Div1AirportSeqID</td><td>VARCHAR</td></tr>\n",
       "<tr><td>75</td><td>Div1WheelsOn</td><td>VARCHAR</td></tr>\n",
       "<tr><td>76</td><td>Div1TotalGTime</td><td>VARCHAR</td></tr>\n",
       "<tr><td>77</td><td>Div1LongestGTime</td><td>VARCHAR</td></tr>\n",
       "<tr><td>78</td><td>Div1WheelsOff</td><td>VARCHAR</td></tr>\n",
       "<tr><td>79</td><td>Div1TailNum</td><td>VARCHAR</td></tr>\n",
       "<tr><td>80</td><td>Div2Airport</td><td>VARCHAR</td></tr>\n",
       "<tr><td>81</td><td>Div2AirportID</td><td>VARCHAR</td></tr>\n",
       "<tr><td>82</td><td>Div2AirportSeqID</td><td>VARCHAR</td></tr>\n",
       "<tr><td>83</td><td>Div2WheelsOn</td><td>VARCHAR</td></tr>\n",
       "<tr><td>84</td><td>Div2TotalGTime</td><td>VARCHAR</td></tr>\n",
       "<tr><td>85</td><td>Div2LongestGTime</td><td>VARCHAR</td></tr>\n",
       "<tr><td>86</td><td>Div2WheelsOff</td><td>VARCHAR</td></tr>\n",
       "<tr><td>87</td><td>Div2TailNum</td><td>VARCHAR</td></tr>\n",
       "<tr><td>88</td><td>Div3Airport</td><td>VARCHAR</td></tr>\n",
       "<tr><td>89</td><td>Div3AirportID</td><td>VARCHAR</td></tr>\n",
       "<tr><td>90</td><td>Div3AirportSeqID</td><td>VARCHAR</td></tr>\n",
       "<tr><td>91</td><td>Div3WheelsOn</td><td>VARCHAR</td></tr>\n",
       "<tr><td>92</td><td>Div3TotalGTime</td><td>VARCHAR</td></tr>\n",
       "<tr><td>93</td><td>Div3LongestGTime</td><td>VARCHAR</td></tr>\n",
       "<tr><td>94</td><td>Div3WheelsOff</td><td>VARCHAR</td></tr>\n",
       "<tr><td>95</td><td>Div3TailNum</td><td>VARCHAR</td></tr>\n",
       "<tr><td>96</td><td>Div4Airport</td><td>VARCHAR</td></tr>\n",
       "<tr><td>97</td><td>Div4AirportID</td><td>VARCHAR</td></tr>\n",
       "<tr><td>98</td><td>Div4AirportSeqID</td><td>VARCHAR</td></tr>\n",
       "<tr><td>99</td><td>Div4WheelsOn</td><td>VARCHAR</td></tr>\n",
       "<tr><td>100</td><td>Div4TotalGTime</td><td>VARCHAR</td></tr>\n",
       "<tr><td>101</td><td>Div4LongestGTime</td><td>VARCHAR</td></tr>\n",
       "<tr><td>102</td><td>Div4WheelsOff</td><td>VARCHAR</td></tr>\n",
       "<tr><td>103</td><td>Div4TailNum</td><td>VARCHAR</td></tr>\n",
       "<tr><td>104</td><td>Div5Airport</td><td>VARCHAR</td></tr>\n",
       "<tr><td>105</td><td>Div5AirportID</td><td>VARCHAR</td></tr>\n",
       "<tr><td>106</td><td>Div5AirportSeqID</td><td>VARCHAR</td></tr>\n",
       "<tr><td>107</td><td>Div5WheelsOn</td><td>VARCHAR</td></tr>\n",
       "<tr><td>108</td><td>Div5TotalGTime</td><td>VARCHAR</td></tr>\n",
       "<tr><td>109</td><td>Div5LongestGTime</td><td>VARCHAR</td></tr>\n",
       "<tr><td>110</td><td>Div5WheelsOff</td><td>VARCHAR</td></tr>\n",
       "<tr><td>111</td><td>Div5TailNum</td><td>VARCHAR</td></tr>\n",
       "</table></div>"
      ],
      "text/plain": [
       "<IPython.core.display.HTML object>"
      ]
     },
     "metadata": {},
     "output_type": "display_data"
    }
   ],
   "source": [
    "sql='''\n",
    "REPLACE INTO \"flights_hour\" OVERWRITE ALL\n",
    "WITH \"ext\" AS (SELECT *\n",
    "FROM TABLE(\n",
    "  EXTERN(\n",
    "    '{\"type\":\"http\",\"uris\":[\"https://static.imply.io/example-data/flight_on_time/flights/On_Time_Reporting_Carrier_On_Time_Performance_(1987_present)_2005_11.csv.zip\"]}',\n",
    "    '{\"type\":\"csv\",\"findColumnsFromHeader\":true}'\n",
    "  )\n",
    ") EXTEND (\"depaturetime\" VARCHAR, \"arrivalime\" VARCHAR, \"Year\" BIGINT, \"Quarter\" BIGINT, \"Month\" BIGINT, \"DayofMonth\" BIGINT, \"DayOfWeek\" BIGINT, \"FlightDate\" VARCHAR, \"Reporting_Airline\" VARCHAR, \"DOT_ID_Reporting_Airline\" BIGINT, \"IATA_CODE_Reporting_Airline\" VARCHAR, \"Tail_Number\" VARCHAR, \"Flight_Number_Reporting_Airline\" BIGINT, \"OriginAirportID\" BIGINT, \"OriginAirportSeqID\" BIGINT, \"OriginCityMarketID\" BIGINT, \"Origin\" VARCHAR, \"OriginCityName\" VARCHAR, \"OriginState\" VARCHAR, \"OriginStateFips\" BIGINT, \"OriginStateName\" VARCHAR, \"OriginWac\" BIGINT, \"DestAirportID\" BIGINT, \"DestAirportSeqID\" BIGINT, \"DestCityMarketID\" BIGINT, \"Dest\" VARCHAR, \"DestCityName\" VARCHAR, \"DestState\" VARCHAR, \"DestStateFips\" BIGINT, \"DestStateName\" VARCHAR, \"DestWac\" BIGINT, \"CRSDepTime\" BIGINT, \"DepTime\" BIGINT, \"DepDelay\" BIGINT, \"DepDelayMinutes\" BIGINT, \"DepDel15\" BIGINT, \"DepartureDelayGroups\" BIGINT, \"DepTimeBlk\" VARCHAR, \"TaxiOut\" BIGINT, \"WheelsOff\" BIGINT, \"WheelsOn\" BIGINT, \"TaxiIn\" BIGINT, \"CRSArrTime\" BIGINT, \"ArrTime\" BIGINT, \"ArrDelay\" BIGINT, \"ArrDelayMinutes\" BIGINT, \"ArrDel15\" BIGINT, \"ArrivalDelayGroups\" BIGINT, \"ArrTimeBlk\" VARCHAR, \"Cancelled\" BIGINT, \"CancellationCode\" VARCHAR, \"Diverted\" BIGINT, \"CRSElapsedTime\" BIGINT, \"ActualElapsedTime\" BIGINT, \"AirTime\" BIGINT, \"Flights\" BIGINT, \"Distance\" BIGINT, \"DistanceGroup\" BIGINT, \"CarrierDelay\" BIGINT, \"WeatherDelay\" BIGINT, \"NASDelay\" BIGINT, \"SecurityDelay\" BIGINT, \"LateAircraftDelay\" BIGINT, \"FirstDepTime\" VARCHAR, \"TotalAddGTime\" VARCHAR, \"LongestAddGTime\" VARCHAR, \"DivAirportLandings\" VARCHAR, \"DivReachedDest\" VARCHAR, \"DivActualElapsedTime\" VARCHAR, \"DivArrDelay\" VARCHAR, \"DivDistance\" VARCHAR, \"Div1Airport\" VARCHAR, \"Div1AirportID\" VARCHAR, \"Div1AirportSeqID\" VARCHAR, \"Div1WheelsOn\" VARCHAR, \"Div1TotalGTime\" VARCHAR, \"Div1LongestGTime\" VARCHAR, \"Div1WheelsOff\" VARCHAR, \"Div1TailNum\" VARCHAR, \"Div2Airport\" VARCHAR, \"Div2AirportID\" VARCHAR, \"Div2AirportSeqID\" VARCHAR, \"Div2WheelsOn\" VARCHAR, \"Div2TotalGTime\" VARCHAR, \"Div2LongestGTime\" VARCHAR, \"Div2WheelsOff\" VARCHAR, \"Div2TailNum\" VARCHAR, \"Div3Airport\" VARCHAR, \"Div3AirportID\" VARCHAR, \"Div3AirportSeqID\" VARCHAR, \"Div3WheelsOn\" VARCHAR, \"Div3TotalGTime\" VARCHAR, \"Div3LongestGTime\" VARCHAR, \"Div3WheelsOff\" VARCHAR, \"Div3TailNum\" VARCHAR, \"Div4Airport\" VARCHAR, \"Div4AirportID\" VARCHAR, \"Div4AirportSeqID\" VARCHAR, \"Div4WheelsOn\" VARCHAR, \"Div4TotalGTime\" VARCHAR, \"Div4LongestGTime\" VARCHAR, \"Div4WheelsOff\" VARCHAR, \"Div4TailNum\" VARCHAR, \"Div5Airport\" VARCHAR, \"Div5AirportID\" VARCHAR, \"Div5AirportSeqID\" VARCHAR, \"Div5WheelsOn\" VARCHAR, \"Div5TotalGTime\" VARCHAR, \"Div5LongestGTime\" VARCHAR, \"Div5WheelsOff\" VARCHAR, \"Div5TailNum\" VARCHAR, \"Unnamed: 109\" VARCHAR))\n",
    "SELECT\n",
    "  TIME_PARSE(\"depaturetime\") AS \"__time\",\n",
    "  \"arrivalime\", \"Year\", \"Quarter\", \"Month\", \"DayofMonth\", \"DayOfWeek\", \"FlightDate\", \"Reporting_Airline\", \"DOT_ID_Reporting_Airline\",\n",
    "  \"IATA_CODE_Reporting_Airline\", \"Tail_Number\", \"Flight_Number_Reporting_Airline\", \n",
    "  \"OriginAirportID\", \"OriginAirportSeqID\", \"OriginCityMarketID\", \"Origin\", \"OriginCityName\", \"OriginState\", \"OriginStateFips\", \"OriginStateName\", \"OriginWac\",  \n",
    "  \"DestAirportID\", \"DestAirportSeqID\", \"DestCityMarketID\", \"Dest\", \"DestCityName\", \"DestState\", \"DestStateFips\", \"DestStateName\", \"DestWac\", \n",
    "  \"CRSDepTime\", \"DepTime\", \"DepDelay\", \"DepDelayMinutes\", \"DepDel15\", \"DepartureDelayGroups\", \"DepTimeBlk\",\n",
    "  \"TaxiOut\", \"WheelsOff\", \"WheelsOn\", \"TaxiIn\", \"CRSArrTime\", \"ArrTime\", \"ArrDelay\", \"ArrDelayMinutes\", \"ArrDel15\", \"ArrivalDelayGroups\", \"ArrTimeBlk\",\n",
    "  \"Cancelled\", \"CancellationCode\", \"Diverted\", \"CRSElapsedTime\", \"ActualElapsedTime\", \"AirTime\", \"Flights\", \"Distance\", \"DistanceGroup\", \"CarrierDelay\",\n",
    "  \"WeatherDelay\", \"NASDelay\", \"SecurityDelay\", \"LateAircraftDelay\", \"FirstDepTime\", \"TotalAddGTime\", \"LongestAddGTime\", \"DivAirportLandings\", \"DivReachedDest\",\n",
    "  \"DivActualElapsedTime\",  \"DivArrDelay\",  \"DivDistance\",  \"Div1Airport\",  \"Div1AirportID\",  \"Div1AirportSeqID\",  \"Div1WheelsOn\",  \"Div1TotalGTime\",\n",
    "  \"Div1LongestGTime\",  \"Div1WheelsOff\",  \"Div1TailNum\",  \"Div2Airport\",  \"Div2AirportID\",  \"Div2AirportSeqID\",  \"Div2WheelsOn\",  \"Div2TotalGTime\",\n",
    "  \"Div2LongestGTime\",  \"Div2WheelsOff\",  \"Div2TailNum\",  \"Div3Airport\",  \"Div3AirportID\",  \"Div3AirportSeqID\",  \"Div3WheelsOn\",  \"Div3TotalGTime\",\n",
    "  \"Div3LongestGTime\",  \"Div3WheelsOff\",  \"Div3TailNum\",  \"Div4Airport\",  \"Div4AirportID\",  \"Div4AirportSeqID\",  \"Div4WheelsOn\",  \"Div4TotalGTime\",\n",
    "  \"Div4LongestGTime\",  \"Div4WheelsOff\",  \"Div4TailNum\",  \"Div5Airport\",  \"Div5AirportID\",  \"Div5AirportSeqID\",  \"Div5WheelsOn\",  \"Div5TotalGTime\",\n",
    "  \"Div5LongestGTime\",  \"Div5WheelsOff\",  \"Div5TailNum\"\n",
    "FROM \"ext\"\n",
    "PARTITIONED BY HOUR'''\n",
    "\n",
    "display.run_task(sql)\n",
    "sql_client.wait_until_ready('flights_hour')"
   ]
  },
  {
   "attachments": {},
   "cell_type": "markdown",
   "id": "2d3e2c70-4faf-4141-8ace-93030d270600",
   "metadata": {},
   "source": [
    "You can see the segments that were created on [the Apache Druid console in the Segments view](http://localhost:8888/unified-console.html#segments/datasource~flights_hour).\n",
    "\n",
    "Here's what it should look like, notice that each segment corresponds to a single time interval of one hour and the number of rows in the segments are small and highly variable:\n",
    "![](assets/segments-hourly.png)\n",
    "\n",
    "\n",
    "### Too Coarse\n",
    "In this example we overcorrect by using a granularity of YEAR:"
   ]
  },
  {
   "cell_type": "code",
   "execution_count": 6,
   "id": "8426f6ec-84ee-4de0-92ac-d90c2df656ad",
   "metadata": {},
   "outputs": [
    {
     "name": "stderr",
     "output_type": "stream",
     "text": [
      "Loading data, status:[SUCCESS]: 100%|██████████| 100.0/100.0 [00:41<00:00,  2.41it/s]            \n"
     ]
    }
   ],
   "source": [
    "sql='''\n",
    "REPLACE INTO \"flights_year\" OVERWRITE ALL\n",
    "WITH \"ext\" AS (SELECT *\n",
    "FROM TABLE(\n",
    "  EXTERN(\n",
    "    '{\"type\":\"http\",\"uris\":[\"https://static.imply.io/example-data/flight_on_time/flights/On_Time_Reporting_Carrier_On_Time_Performance_(1987_present)_2005_11.csv.zip\"]}',\n",
    "    '{\"type\":\"csv\",\"findColumnsFromHeader\":true}'\n",
    "  )\n",
    ") EXTEND (\"depaturetime\" VARCHAR, \"arrivalime\" VARCHAR, \"Year\" BIGINT, \"Quarter\" BIGINT, \"Month\" BIGINT, \"DayofMonth\" BIGINT, \"DayOfWeek\" BIGINT, \"FlightDate\" VARCHAR, \"Reporting_Airline\" VARCHAR, \"DOT_ID_Reporting_Airline\" BIGINT, \"IATA_CODE_Reporting_Airline\" VARCHAR, \"Tail_Number\" VARCHAR, \"Flight_Number_Reporting_Airline\" BIGINT, \"OriginAirportID\" BIGINT, \"OriginAirportSeqID\" BIGINT, \"OriginCityMarketID\" BIGINT, \"Origin\" VARCHAR, \"OriginCityName\" VARCHAR, \"OriginState\" VARCHAR, \"OriginStateFips\" BIGINT, \"OriginStateName\" VARCHAR, \"OriginWac\" BIGINT, \"DestAirportID\" BIGINT, \"DestAirportSeqID\" BIGINT, \"DestCityMarketID\" BIGINT, \"Dest\" VARCHAR, \"DestCityName\" VARCHAR, \"DestState\" VARCHAR, \"DestStateFips\" BIGINT, \"DestStateName\" VARCHAR, \"DestWac\" BIGINT, \"CRSDepTime\" BIGINT, \"DepTime\" BIGINT, \"DepDelay\" BIGINT, \"DepDelayMinutes\" BIGINT, \"DepDel15\" BIGINT, \"DepartureDelayGroups\" BIGINT, \"DepTimeBlk\" VARCHAR, \"TaxiOut\" BIGINT, \"WheelsOff\" BIGINT, \"WheelsOn\" BIGINT, \"TaxiIn\" BIGINT, \"CRSArrTime\" BIGINT, \"ArrTime\" BIGINT, \"ArrDelay\" BIGINT, \"ArrDelayMinutes\" BIGINT, \"ArrDel15\" BIGINT, \"ArrivalDelayGroups\" BIGINT, \"ArrTimeBlk\" VARCHAR, \"Cancelled\" BIGINT, \"CancellationCode\" VARCHAR, \"Diverted\" BIGINT, \"CRSElapsedTime\" BIGINT, \"ActualElapsedTime\" BIGINT, \"AirTime\" BIGINT, \"Flights\" BIGINT, \"Distance\" BIGINT, \"DistanceGroup\" BIGINT, \"CarrierDelay\" BIGINT, \"WeatherDelay\" BIGINT, \"NASDelay\" BIGINT, \"SecurityDelay\" BIGINT, \"LateAircraftDelay\" BIGINT, \"FirstDepTime\" VARCHAR, \"TotalAddGTime\" VARCHAR, \"LongestAddGTime\" VARCHAR, \"DivAirportLandings\" VARCHAR, \"DivReachedDest\" VARCHAR, \"DivActualElapsedTime\" VARCHAR, \"DivArrDelay\" VARCHAR, \"DivDistance\" VARCHAR, \"Div1Airport\" VARCHAR, \"Div1AirportID\" VARCHAR, \"Div1AirportSeqID\" VARCHAR, \"Div1WheelsOn\" VARCHAR, \"Div1TotalGTime\" VARCHAR, \"Div1LongestGTime\" VARCHAR, \"Div1WheelsOff\" VARCHAR, \"Div1TailNum\" VARCHAR, \"Div2Airport\" VARCHAR, \"Div2AirportID\" VARCHAR, \"Div2AirportSeqID\" VARCHAR, \"Div2WheelsOn\" VARCHAR, \"Div2TotalGTime\" VARCHAR, \"Div2LongestGTime\" VARCHAR, \"Div2WheelsOff\" VARCHAR, \"Div2TailNum\" VARCHAR, \"Div3Airport\" VARCHAR, \"Div3AirportID\" VARCHAR, \"Div3AirportSeqID\" VARCHAR, \"Div3WheelsOn\" VARCHAR, \"Div3TotalGTime\" VARCHAR, \"Div3LongestGTime\" VARCHAR, \"Div3WheelsOff\" VARCHAR, \"Div3TailNum\" VARCHAR, \"Div4Airport\" VARCHAR, \"Div4AirportID\" VARCHAR, \"Div4AirportSeqID\" VARCHAR, \"Div4WheelsOn\" VARCHAR, \"Div4TotalGTime\" VARCHAR, \"Div4LongestGTime\" VARCHAR, \"Div4WheelsOff\" VARCHAR, \"Div4TailNum\" VARCHAR, \"Div5Airport\" VARCHAR, \"Div5AirportID\" VARCHAR, \"Div5AirportSeqID\" VARCHAR, \"Div5WheelsOn\" VARCHAR, \"Div5TotalGTime\" VARCHAR, \"Div5LongestGTime\" VARCHAR, \"Div5WheelsOff\" VARCHAR, \"Div5TailNum\" VARCHAR, \"Unnamed: 109\" VARCHAR))\n",
    "SELECT\n",
    "  TIME_PARSE(\"depaturetime\") AS \"__time\",\n",
    "  \"arrivalime\", \"Year\", \"Quarter\", \"Month\", \"DayofMonth\", \"DayOfWeek\", \"FlightDate\", \"Reporting_Airline\", \"DOT_ID_Reporting_Airline\",\n",
    "  \"IATA_CODE_Reporting_Airline\", \"Tail_Number\", \"Flight_Number_Reporting_Airline\", \n",
    "  \"OriginAirportID\", \"OriginAirportSeqID\", \"OriginCityMarketID\", \"Origin\", \"OriginCityName\", \"OriginState\", \"OriginStateFips\", \"OriginStateName\", \"OriginWac\",  \n",
    "  \"DestAirportID\", \"DestAirportSeqID\", \"DestCityMarketID\", \"Dest\", \"DestCityName\", \"DestState\", \"DestStateFips\", \"DestStateName\", \"DestWac\", \n",
    "  \"CRSDepTime\", \"DepTime\", \"DepDelay\", \"DepDelayMinutes\", \"DepDel15\", \"DepartureDelayGroups\", \"DepTimeBlk\",\n",
    "  \"TaxiOut\", \"WheelsOff\", \"WheelsOn\", \"TaxiIn\", \"CRSArrTime\", \"ArrTime\", \"ArrDelay\", \"ArrDelayMinutes\", \"ArrDel15\", \"ArrivalDelayGroups\", \"ArrTimeBlk\",\n",
    "  \"Cancelled\", \"CancellationCode\", \"Diverted\", \"CRSElapsedTime\", \"ActualElapsedTime\", \"AirTime\", \"Flights\", \"Distance\", \"DistanceGroup\", \"CarrierDelay\",\n",
    "  \"WeatherDelay\", \"NASDelay\", \"SecurityDelay\", \"LateAircraftDelay\", \"FirstDepTime\", \"TotalAddGTime\", \"LongestAddGTime\", \"DivAirportLandings\", \"DivReachedDest\",\n",
    "  \"DivActualElapsedTime\",  \"DivArrDelay\",  \"DivDistance\",  \"Div1Airport\",  \"Div1AirportID\",  \"Div1AirportSeqID\",  \"Div1WheelsOn\",  \"Div1TotalGTime\",\n",
    "  \"Div1LongestGTime\",  \"Div1WheelsOff\",  \"Div1TailNum\",  \"Div2Airport\",  \"Div2AirportID\",  \"Div2AirportSeqID\",  \"Div2WheelsOn\",  \"Div2TotalGTime\",\n",
    "  \"Div2LongestGTime\",  \"Div2WheelsOff\",  \"Div2TailNum\",  \"Div3Airport\",  \"Div3AirportID\",  \"Div3AirportSeqID\",  \"Div3WheelsOn\",  \"Div3TotalGTime\",\n",
    "  \"Div3LongestGTime\",  \"Div3WheelsOff\",  \"Div3TailNum\",  \"Div4Airport\",  \"Div4AirportID\",  \"Div4AirportSeqID\",  \"Div4WheelsOn\",  \"Div4TotalGTime\",\n",
    "  \"Div4LongestGTime\",  \"Div4WheelsOff\",  \"Div4TailNum\",  \"Div5Airport\",  \"Div5AirportID\",  \"Div5AirportSeqID\",  \"Div5WheelsOn\",  \"Div5TotalGTime\",\n",
    "  \"Div5LongestGTime\",  \"Div5WheelsOff\",  \"Div5TailNum\"\n",
    "FROM \"ext\"\n",
    "PARTITIONED BY YEAR'''\n",
    "\n",
    "display.run_task(sql)\n",
    "sql_client.wait_until_ready('flights_year')"
   ]
  },
  {
   "attachments": {},
   "cell_type": "markdown",
   "id": "36f0ddff-8a25-4c47-afe3-fec08066e11a",
   "metadata": {},
   "source": [
    "Here's the link to view the segments for this one on [the Apache Druid console in the Segments view](http://localhost:8888/unified-console.html#segments/datasource~flights_year).\n",
    "\n",
    "Notice that now we have all the rows in a single segment and that it has over 500,000 rows. Normally this would still be a small segment, but our target for this discussion is 50,000. This solution puts us at 10x.\n",
    "![](assets/segments-yearly.png)\n",
    "\n",
    "\n",
    "### Almost there...\n",
    "Given that there is a single month of data in this example, MONTH will not be any different than YEAR, DAY will be too granular as it will be 30x smaller and we need about 10x. We could try to use `P3D` to group segments into 3 day intervals and achieve our target. \n",
    "\n",
    "We can also just alter the execution parameters to force the partitioning of the large segment into the desired size by essentially cutting it into multiple segments 50,000 rows at a time, this is done with the query context parameter `rowsPerSegment`:"
   ]
  },
  {
   "cell_type": "code",
   "execution_count": 8,
   "id": "9fe40c50-8cd7-4677-bd68-e846c1dbd749",
   "metadata": {},
   "outputs": [
    {
     "name": "stderr",
     "output_type": "stream",
     "text": [
      "Loading data, status:[SUCCESS]: 100%|██████████| 100.0/100.0 [00:42<00:00,  2.35it/s]            \n"
     ]
    }
   ],
   "source": [
    "sql='''\n",
    "REPLACE INTO \"flights_year_50k\" OVERWRITE ALL\n",
    "WITH \"ext\" AS (SELECT *\n",
    "FROM TABLE(\n",
    "  EXTERN(\n",
    "    '{\"type\":\"http\",\"uris\":[\"https://static.imply.io/example-data/flight_on_time/flights/On_Time_Reporting_Carrier_On_Time_Performance_(1987_present)_2005_11.csv.zip\"]}',\n",
    "    '{\"type\":\"csv\",\"findColumnsFromHeader\":true}'\n",
    "  )\n",
    ") EXTEND (\"depaturetime\" VARCHAR, \"arrivalime\" VARCHAR, \"Year\" BIGINT, \"Quarter\" BIGINT, \"Month\" BIGINT, \"DayofMonth\" BIGINT, \"DayOfWeek\" BIGINT, \"FlightDate\" VARCHAR, \"Reporting_Airline\" VARCHAR, \"DOT_ID_Reporting_Airline\" BIGINT, \"IATA_CODE_Reporting_Airline\" VARCHAR, \"Tail_Number\" VARCHAR, \"Flight_Number_Reporting_Airline\" BIGINT, \"OriginAirportID\" BIGINT, \"OriginAirportSeqID\" BIGINT, \"OriginCityMarketID\" BIGINT, \"Origin\" VARCHAR, \"OriginCityName\" VARCHAR, \"OriginState\" VARCHAR, \"OriginStateFips\" BIGINT, \"OriginStateName\" VARCHAR, \"OriginWac\" BIGINT, \"DestAirportID\" BIGINT, \"DestAirportSeqID\" BIGINT, \"DestCityMarketID\" BIGINT, \"Dest\" VARCHAR, \"DestCityName\" VARCHAR, \"DestState\" VARCHAR, \"DestStateFips\" BIGINT, \"DestStateName\" VARCHAR, \"DestWac\" BIGINT, \"CRSDepTime\" BIGINT, \"DepTime\" BIGINT, \"DepDelay\" BIGINT, \"DepDelayMinutes\" BIGINT, \"DepDel15\" BIGINT, \"DepartureDelayGroups\" BIGINT, \"DepTimeBlk\" VARCHAR, \"TaxiOut\" BIGINT, \"WheelsOff\" BIGINT, \"WheelsOn\" BIGINT, \"TaxiIn\" BIGINT, \"CRSArrTime\" BIGINT, \"ArrTime\" BIGINT, \"ArrDelay\" BIGINT, \"ArrDelayMinutes\" BIGINT, \"ArrDel15\" BIGINT, \"ArrivalDelayGroups\" BIGINT, \"ArrTimeBlk\" VARCHAR, \"Cancelled\" BIGINT, \"CancellationCode\" VARCHAR, \"Diverted\" BIGINT, \"CRSElapsedTime\" BIGINT, \"ActualElapsedTime\" BIGINT, \"AirTime\" BIGINT, \"Flights\" BIGINT, \"Distance\" BIGINT, \"DistanceGroup\" BIGINT, \"CarrierDelay\" BIGINT, \"WeatherDelay\" BIGINT, \"NASDelay\" BIGINT, \"SecurityDelay\" BIGINT, \"LateAircraftDelay\" BIGINT, \"FirstDepTime\" VARCHAR, \"TotalAddGTime\" VARCHAR, \"LongestAddGTime\" VARCHAR, \"DivAirportLandings\" VARCHAR, \"DivReachedDest\" VARCHAR, \"DivActualElapsedTime\" VARCHAR, \"DivArrDelay\" VARCHAR, \"DivDistance\" VARCHAR, \"Div1Airport\" VARCHAR, \"Div1AirportID\" VARCHAR, \"Div1AirportSeqID\" VARCHAR, \"Div1WheelsOn\" VARCHAR, \"Div1TotalGTime\" VARCHAR, \"Div1LongestGTime\" VARCHAR, \"Div1WheelsOff\" VARCHAR, \"Div1TailNum\" VARCHAR, \"Div2Airport\" VARCHAR, \"Div2AirportID\" VARCHAR, \"Div2AirportSeqID\" VARCHAR, \"Div2WheelsOn\" VARCHAR, \"Div2TotalGTime\" VARCHAR, \"Div2LongestGTime\" VARCHAR, \"Div2WheelsOff\" VARCHAR, \"Div2TailNum\" VARCHAR, \"Div3Airport\" VARCHAR, \"Div3AirportID\" VARCHAR, \"Div3AirportSeqID\" VARCHAR, \"Div3WheelsOn\" VARCHAR, \"Div3TotalGTime\" VARCHAR, \"Div3LongestGTime\" VARCHAR, \"Div3WheelsOff\" VARCHAR, \"Div3TailNum\" VARCHAR, \"Div4Airport\" VARCHAR, \"Div4AirportID\" VARCHAR, \"Div4AirportSeqID\" VARCHAR, \"Div4WheelsOn\" VARCHAR, \"Div4TotalGTime\" VARCHAR, \"Div4LongestGTime\" VARCHAR, \"Div4WheelsOff\" VARCHAR, \"Div4TailNum\" VARCHAR, \"Div5Airport\" VARCHAR, \"Div5AirportID\" VARCHAR, \"Div5AirportSeqID\" VARCHAR, \"Div5WheelsOn\" VARCHAR, \"Div5TotalGTime\" VARCHAR, \"Div5LongestGTime\" VARCHAR, \"Div5WheelsOff\" VARCHAR, \"Div5TailNum\" VARCHAR, \"Unnamed: 109\" VARCHAR))\n",
    "SELECT\n",
    "  TIME_PARSE(\"depaturetime\") AS \"__time\",\n",
    "  \"arrivalime\", \"Year\", \"Quarter\", \"Month\", \"DayofMonth\", \"DayOfWeek\", \"FlightDate\", \"Reporting_Airline\", \"DOT_ID_Reporting_Airline\",\n",
    "  \"IATA_CODE_Reporting_Airline\", \"Tail_Number\", \"Flight_Number_Reporting_Airline\", \n",
    "  \"OriginAirportID\", \"OriginAirportSeqID\", \"OriginCityMarketID\", \"Origin\", \"OriginCityName\", \"OriginState\", \"OriginStateFips\", \"OriginStateName\", \"OriginWac\",  \n",
    "  \"DestAirportID\", \"DestAirportSeqID\", \"DestCityMarketID\", \"Dest\", \"DestCityName\", \"DestState\", \"DestStateFips\", \"DestStateName\", \"DestWac\", \n",
    "  \"CRSDepTime\", \"DepTime\", \"DepDelay\", \"DepDelayMinutes\", \"DepDel15\", \"DepartureDelayGroups\", \"DepTimeBlk\",\n",
    "  \"TaxiOut\", \"WheelsOff\", \"WheelsOn\", \"TaxiIn\", \"CRSArrTime\", \"ArrTime\", \"ArrDelay\", \"ArrDelayMinutes\", \"ArrDel15\", \"ArrivalDelayGroups\", \"ArrTimeBlk\",\n",
    "  \"Cancelled\", \"CancellationCode\", \"Diverted\", \"CRSElapsedTime\", \"ActualElapsedTime\", \"AirTime\", \"Flights\", \"Distance\", \"DistanceGroup\", \"CarrierDelay\",\n",
    "  \"WeatherDelay\", \"NASDelay\", \"SecurityDelay\", \"LateAircraftDelay\", \"FirstDepTime\", \"TotalAddGTime\", \"LongestAddGTime\", \"DivAirportLandings\", \"DivReachedDest\",\n",
    "  \"DivActualElapsedTime\",  \"DivArrDelay\",  \"DivDistance\",  \"Div1Airport\",  \"Div1AirportID\",  \"Div1AirportSeqID\",  \"Div1WheelsOn\",  \"Div1TotalGTime\",\n",
    "  \"Div1LongestGTime\",  \"Div1WheelsOff\",  \"Div1TailNum\",  \"Div2Airport\",  \"Div2AirportID\",  \"Div2AirportSeqID\",  \"Div2WheelsOn\",  \"Div2TotalGTime\",\n",
    "  \"Div2LongestGTime\",  \"Div2WheelsOff\",  \"Div2TailNum\",  \"Div3Airport\",  \"Div3AirportID\",  \"Div3AirportSeqID\",  \"Div3WheelsOn\",  \"Div3TotalGTime\",\n",
    "  \"Div3LongestGTime\",  \"Div3WheelsOff\",  \"Div3TailNum\",  \"Div4Airport\",  \"Div4AirportID\",  \"Div4AirportSeqID\",  \"Div4WheelsOn\",  \"Div4TotalGTime\",\n",
    "  \"Div4LongestGTime\",  \"Div4WheelsOff\",  \"Div4TailNum\",  \"Div5Airport\",  \"Div5AirportID\",  \"Div5AirportSeqID\",  \"Div5WheelsOn\",  \"Div5TotalGTime\",\n",
    "  \"Div5LongestGTime\",  \"Div5WheelsOff\",  \"Div5TailNum\"\n",
    "FROM \"ext\"\n",
    "PARTITIONED BY YEAR'''\n",
    "# use a request so that we can specify the query context\n",
    "req = sql_client.sql_request(sql)\n",
    "req.add_context(\"rowsPerSegment\", \"50000\")  \n",
    "display.run_task(req)\n",
    "sql_client.wait_until_ready('flights_year_50k')"
   ]
  },
  {
   "cell_type": "markdown",
   "id": "f8d8b77c-bf5d-4947-aef3-fee3c24f0ed1",
   "metadata": {},
   "source": [
    "The [segment view for this table](http://localhost:8888/unified-console.html#segments/datasource~flights_year_50k) shows 12 segments that are very close to our ideal segment size. \n",
    "\n",
    "But let's say that the application we are building is for year long analytics for individual airlines and some airline to airline comparisons. So let's move on to clustering...\n",
    "\n",
    "## Clustering \n",
    "\n",
    "As mentioned in the introduction, time intervals of a given segment granularity can be subdivided into many segments. In the example above, we achieved this but there is no logic to the partitioning, they were just cut into 12 equally sized segments that were as close to the 50k target as possible.  \n",
    "\n",
    "Queries on this data will be frequently filtered on `IATA_CODE_Reporting_Airline` in order to provide individual airline analytics. So instead of just splitting the segments by quantity of rows, we can reorganize the data such that we can improve pruning when filtering on a given airline or a few airlines.\n",
    "We just need to add `CLUSTERED BY IATA_CODE_Reporting_Airline` to the ingestion request:"
   ]
  },
  {
   "cell_type": "code",
   "execution_count": 9,
   "id": "af23ccfe-30ed-4510-b7dd-ea8efed102ad",
   "metadata": {},
   "outputs": [
    {
     "name": "stderr",
     "output_type": "stream",
     "text": [
      "Loading data, status:[SUCCESS]: 100%|██████████| 100.0/100.0 [00:43<00:00,  2.29it/s]            \n"
     ]
    }
   ],
   "source": [
    "sql='''\n",
    "REPLACE INTO \"flights_year_IATA\" OVERWRITE ALL\n",
    "WITH \"ext\" AS (SELECT *\n",
    "FROM TABLE(\n",
    "  EXTERN(\n",
    "    '{\"type\":\"http\",\"uris\":[\"https://static.imply.io/example-data/flight_on_time/flights/On_Time_Reporting_Carrier_On_Time_Performance_(1987_present)_2005_11.csv.zip\"]}',\n",
    "    '{\"type\":\"csv\",\"findColumnsFromHeader\":true}'\n",
    "  )\n",
    ") EXTEND (\"depaturetime\" VARCHAR, \"arrivalime\" VARCHAR, \"Year\" BIGINT, \"Quarter\" BIGINT, \"Month\" BIGINT, \"DayofMonth\" BIGINT, \"DayOfWeek\" BIGINT, \"FlightDate\" VARCHAR, \"Reporting_Airline\" VARCHAR, \"DOT_ID_Reporting_Airline\" BIGINT, \"IATA_CODE_Reporting_Airline\" VARCHAR, \"Tail_Number\" VARCHAR, \"Flight_Number_Reporting_Airline\" BIGINT, \"OriginAirportID\" BIGINT, \"OriginAirportSeqID\" BIGINT, \"OriginCityMarketID\" BIGINT, \"Origin\" VARCHAR, \"OriginCityName\" VARCHAR, \"OriginState\" VARCHAR, \"OriginStateFips\" BIGINT, \"OriginStateName\" VARCHAR, \"OriginWac\" BIGINT, \"DestAirportID\" BIGINT, \"DestAirportSeqID\" BIGINT, \"DestCityMarketID\" BIGINT, \"Dest\" VARCHAR, \"DestCityName\" VARCHAR, \"DestState\" VARCHAR, \"DestStateFips\" BIGINT, \"DestStateName\" VARCHAR, \"DestWac\" BIGINT, \"CRSDepTime\" BIGINT, \"DepTime\" BIGINT, \"DepDelay\" BIGINT, \"DepDelayMinutes\" BIGINT, \"DepDel15\" BIGINT, \"DepartureDelayGroups\" BIGINT, \"DepTimeBlk\" VARCHAR, \"TaxiOut\" BIGINT, \"WheelsOff\" BIGINT, \"WheelsOn\" BIGINT, \"TaxiIn\" BIGINT, \"CRSArrTime\" BIGINT, \"ArrTime\" BIGINT, \"ArrDelay\" BIGINT, \"ArrDelayMinutes\" BIGINT, \"ArrDel15\" BIGINT, \"ArrivalDelayGroups\" BIGINT, \"ArrTimeBlk\" VARCHAR, \"Cancelled\" BIGINT, \"CancellationCode\" VARCHAR, \"Diverted\" BIGINT, \"CRSElapsedTime\" BIGINT, \"ActualElapsedTime\" BIGINT, \"AirTime\" BIGINT, \"Flights\" BIGINT, \"Distance\" BIGINT, \"DistanceGroup\" BIGINT, \"CarrierDelay\" BIGINT, \"WeatherDelay\" BIGINT, \"NASDelay\" BIGINT, \"SecurityDelay\" BIGINT, \"LateAircraftDelay\" BIGINT, \"FirstDepTime\" VARCHAR, \"TotalAddGTime\" VARCHAR, \"LongestAddGTime\" VARCHAR, \"DivAirportLandings\" VARCHAR, \"DivReachedDest\" VARCHAR, \"DivActualElapsedTime\" VARCHAR, \"DivArrDelay\" VARCHAR, \"DivDistance\" VARCHAR, \"Div1Airport\" VARCHAR, \"Div1AirportID\" VARCHAR, \"Div1AirportSeqID\" VARCHAR, \"Div1WheelsOn\" VARCHAR, \"Div1TotalGTime\" VARCHAR, \"Div1LongestGTime\" VARCHAR, \"Div1WheelsOff\" VARCHAR, \"Div1TailNum\" VARCHAR, \"Div2Airport\" VARCHAR, \"Div2AirportID\" VARCHAR, \"Div2AirportSeqID\" VARCHAR, \"Div2WheelsOn\" VARCHAR, \"Div2TotalGTime\" VARCHAR, \"Div2LongestGTime\" VARCHAR, \"Div2WheelsOff\" VARCHAR, \"Div2TailNum\" VARCHAR, \"Div3Airport\" VARCHAR, \"Div3AirportID\" VARCHAR, \"Div3AirportSeqID\" VARCHAR, \"Div3WheelsOn\" VARCHAR, \"Div3TotalGTime\" VARCHAR, \"Div3LongestGTime\" VARCHAR, \"Div3WheelsOff\" VARCHAR, \"Div3TailNum\" VARCHAR, \"Div4Airport\" VARCHAR, \"Div4AirportID\" VARCHAR, \"Div4AirportSeqID\" VARCHAR, \"Div4WheelsOn\" VARCHAR, \"Div4TotalGTime\" VARCHAR, \"Div4LongestGTime\" VARCHAR, \"Div4WheelsOff\" VARCHAR, \"Div4TailNum\" VARCHAR, \"Div5Airport\" VARCHAR, \"Div5AirportID\" VARCHAR, \"Div5AirportSeqID\" VARCHAR, \"Div5WheelsOn\" VARCHAR, \"Div5TotalGTime\" VARCHAR, \"Div5LongestGTime\" VARCHAR, \"Div5WheelsOff\" VARCHAR, \"Div5TailNum\" VARCHAR, \"Unnamed: 109\" VARCHAR))\n",
    "SELECT\n",
    "  TIME_PARSE(\"depaturetime\") AS \"__time\",\n",
    "  \"arrivalime\", \"Year\", \"Quarter\", \"Month\", \"DayofMonth\", \"DayOfWeek\", \"FlightDate\", \"Reporting_Airline\", \"DOT_ID_Reporting_Airline\",\n",
    "  \"IATA_CODE_Reporting_Airline\", \"Tail_Number\", \"Flight_Number_Reporting_Airline\", \n",
    "  \"OriginAirportID\", \"OriginAirportSeqID\", \"OriginCityMarketID\", \"Origin\", \"OriginCityName\", \"OriginState\", \"OriginStateFips\", \"OriginStateName\", \"OriginWac\",  \n",
    "  \"DestAirportID\", \"DestAirportSeqID\", \"DestCityMarketID\", \"Dest\", \"DestCityName\", \"DestState\", \"DestStateFips\", \"DestStateName\", \"DestWac\", \n",
    "  \"CRSDepTime\", \"DepTime\", \"DepDelay\", \"DepDelayMinutes\", \"DepDel15\", \"DepartureDelayGroups\", \"DepTimeBlk\",\n",
    "  \"TaxiOut\", \"WheelsOff\", \"WheelsOn\", \"TaxiIn\", \"CRSArrTime\", \"ArrTime\", \"ArrDelay\", \"ArrDelayMinutes\", \"ArrDel15\", \"ArrivalDelayGroups\", \"ArrTimeBlk\",\n",
    "  \"Cancelled\", \"CancellationCode\", \"Diverted\", \"CRSElapsedTime\", \"ActualElapsedTime\", \"AirTime\", \"Flights\", \"Distance\", \"DistanceGroup\", \"CarrierDelay\",\n",
    "  \"WeatherDelay\", \"NASDelay\", \"SecurityDelay\", \"LateAircraftDelay\", \"FirstDepTime\", \"TotalAddGTime\", \"LongestAddGTime\", \"DivAirportLandings\", \"DivReachedDest\",\n",
    "  \"DivActualElapsedTime\",  \"DivArrDelay\",  \"DivDistance\",  \"Div1Airport\",  \"Div1AirportID\",  \"Div1AirportSeqID\",  \"Div1WheelsOn\",  \"Div1TotalGTime\",\n",
    "  \"Div1LongestGTime\",  \"Div1WheelsOff\",  \"Div1TailNum\",  \"Div2Airport\",  \"Div2AirportID\",  \"Div2AirportSeqID\",  \"Div2WheelsOn\",  \"Div2TotalGTime\",\n",
    "  \"Div2LongestGTime\",  \"Div2WheelsOff\",  \"Div2TailNum\",  \"Div3Airport\",  \"Div3AirportID\",  \"Div3AirportSeqID\",  \"Div3WheelsOn\",  \"Div3TotalGTime\",\n",
    "  \"Div3LongestGTime\",  \"Div3WheelsOff\",  \"Div3TailNum\",  \"Div4Airport\",  \"Div4AirportID\",  \"Div4AirportSeqID\",  \"Div4WheelsOn\",  \"Div4TotalGTime\",\n",
    "  \"Div4LongestGTime\",  \"Div4WheelsOff\",  \"Div4TailNum\",  \"Div5Airport\",  \"Div5AirportID\",  \"Div5AirportSeqID\",  \"Div5WheelsOn\",  \"Div5TotalGTime\",\n",
    "  \"Div5LongestGTime\",  \"Div5WheelsOff\",  \"Div5TailNum\"\n",
    "FROM \"ext\"\n",
    "PARTITIONED BY YEAR\n",
    "CLUSTERED BY IATA_CODE_Reporting_Airline\n",
    "'''\n",
    "# use a request so that we can specify the query context\n",
    "req = sql_client.sql_request(sql)\n",
    "req.add_context(\"rowsPerSegment\", \"50000\")  # we still want to target out ideal of 50k per segment\n",
    "display.run_task(req)\n",
    "sql_client.wait_until_ready('flights_year_IATA')"
   ]
  },
  {
   "attachments": {},
   "cell_type": "markdown",
   "id": "8799d234-c2f3-4277-9661-8931b94d58ff",
   "metadata": {},
   "source": [
    "The [segment view for this table](http://localhost:8888/unified-console.html#segments/datasource~flights_year_IATA) shows 12 segments that are still very close to our ideal segment size, but now they have some new metadata based on the clustering columns in the `Shard Spec` column. It shows which range of values of the IATA_CODE_Reporting_Airline column are available in the segment. This is very useful for pruning when filtering on that column because Druid can prune to 1 or 2 segment files when looking for a single airline.\n",
    "\n",
    "![](assets/segments-iata.png)\n",
    "\n",
    "## Query Performance\n",
    "Now that the data has been loaded using a few different partitioning strategies, you can use a test query to determine which one is the best.\n",
    "In order to control the experiment we will turn cacheing off for the results of the query and measure the same query with each table.\n",
    "\n",
    "### The Query\n",
    "It is well known that flight traffic follows a weekly pattern as well as a seasonal pattern. Given that we only have a month, let's take a look at the maximum and average delay for a single airline by day of the week so that we can see the pattern and how it affects delays. We'll only consider the departure delay for now and only use delays greater than 2 minutes as \"delayed\".\n",
    "\n",
    "One caveat about measuring performance on a laptop. The results obtained here will not necessarily be the best when the data grows and is distributed on a multi-node cluster. The intent here is to provide a way of thinking about optimizing the data. In a real cluster, it is likely that the results will vary and a different partitioning and clustering strategy will provide better results.\n",
    "\n",
    "The following cell defines a function we can use to measure performance:"
   ]
  },
  {
   "cell_type": "code",
   "execution_count": 36,
   "id": "77a71e6a-73a2-4bd7-9e8d-fd7cb966da65",
   "metadata": {},
   "outputs": [],
   "source": [
    "from datetime import datetime\n",
    "from statistics import mean \n",
    "\n",
    "def measure_query( sql: str, iterations: int ):\n",
    "    req = sql_client.sql_request(sql)\n",
    "    req.add_context(\"populateCache\", \"false\")  # run without cacheing results to get a real sense of performance\n",
    "    req.add_context(\"useCache\", \"false\")  # do not use cached results\n",
    "    stats = []\n",
    "    while (iterations>0):\n",
    "      start = datetime.now()\n",
    "      sql_client.sql(req)\n",
    "      end = datetime.now()\n",
    "      stats.append( (end - start).total_seconds() * 10**3 ) # add run time in milliseconds\n",
    "      iterations -=1\n",
    "    return f\"Results = avg:{mean(stats)} ms   min:{min(stats)} ms  max:{max(stats)} ms\""
   ]
  },
  {
   "cell_type": "markdown",
   "id": "de7c2156-99bf-42bf-858e-537209c20fab",
   "metadata": {},
   "source": [
    "Run the test SQL to see that in the month of November in 2005, American Airlines had the highest percentage of delayed flights on Sundays(7) although the worst average delay occurs on Fridays(5):"
   ]
  },
  {
   "cell_type": "code",
   "execution_count": 37,
   "id": "42569b72-e018-4576-b8e5-121d2e2a36c5",
   "metadata": {},
   "outputs": [
    {
     "data": {
      "text/html": [
       "<div class=\"druid\"><table>\n",
       "<tr><th>day_of_week</th><th>avg_delay</th><th>max_delay</th><th>percent_delayed</th></tr>\n",
       "<tr><td>1</td><td>186</td><td>1038</td><td>0.8</td></tr>\n",
       "<tr><td>2</td><td>170</td><td>452</td><td>1.3</td></tr>\n",
       "<tr><td>3</td><td>175</td><td>921</td><td>0.8</td></tr>\n",
       "<tr><td>4</td><td>173</td><td>339</td><td>0.5</td></tr>\n",
       "<tr><td>5</td><td>239</td><td>1210</td><td>0.7</td></tr>\n",
       "<tr><td>6</td><td>227</td><td>764</td><td>0.5</td></tr>\n",
       "<tr><td>7</td><td>186</td><td>640</td><td>1.8</td></tr>\n",
       "</table></div>"
      ],
      "text/plain": [
       "<IPython.core.display.HTML object>"
      ]
     },
     "metadata": {},
     "output_type": "display_data"
    }
   ],
   "source": [
    "sql = '''\n",
    "SELECT EXTRACT( DOW FROM __time) as day_of_week, \n",
    "       AVG(DepDelay) FILTER ( WHERE DepDelay>120) as avg_delay,\n",
    "       MAX(DepDelay) FILTER ( WHERE DepDelay>120) as max_delay,\n",
    "       ROUND(COUNT(1) FILTER ( WHERE DepDelay>120) * 100.0 / COUNT(1), 1) as percent_delayed\n",
    "FROM {}\n",
    "WHERE \"IATA_CODE_Reporting_Airline\" = 'AA'\n",
    "GROUP BY 1 \n",
    "ORDER BY 1 ASC\n",
    "'''\n",
    "\n",
    "display.sql(sql.format(\"flights_hour\"))"
   ]
  },
  {
   "cell_type": "markdown",
   "id": "d83c7eb1-6d0a-4a08-aa1b-03ec8b755539",
   "metadata": {},
   "source": [
    "### Performance Results"
   ]
  },
  {
   "cell_type": "code",
   "execution_count": 39,
   "id": "dc4c2524-0eba-4bc6-84ed-da3a25aa5fbe",
   "metadata": {},
   "outputs": [
    {
     "name": "stdout",
     "output_type": "stream",
     "text": [
      "flights_hour Results = avg:26.85229 ms   min:24.956 ms  max:38.013999999999996 ms\n",
      "flights_year Results = avg:15.08775 ms   min:13.826 ms  max:18.481 ms\n",
      "flights_year_50k Results = avg:12.59755 ms   min:11.321 ms  max:17.597 ms\n",
      "flights_year_IATA Results = avg:12.5657 ms   min:11.093 ms  max:15.056999999999999 ms\n"
     ]
    }
   ],
   "source": [
    "# run 100 queries with each table\n",
    "use_table=\"flights_hour\"\n",
    "print (f\"{use_table} {measure_query(sql.format(use_table), 100)}\")\n",
    "\n",
    "use_table=\"flights_year\"\n",
    "print (f\"{use_table} {measure_query(sql.format(use_table), 100)}\")\n",
    "\n",
    "use_table=\"flights_year_50k\"\n",
    "print (f\"{use_table} {measure_query(sql.format(use_table), 100)}\")\n",
    "\n",
    "use_table=\"flights_year_IATA\"\n",
    "print (f\"{use_table} {measure_query(sql.format(use_table), 100)}\")"
   ]
  },
  {
   "cell_type": "markdown",
   "id": "d0716364-af1f-4eb1-9e75-3ce3c5617344",
   "metadata": {},
   "source": [
    "### Single Concurrency Results\n",
    "\n",
    "Given that the characteristics of your laptop or other execution environment are likely different than the `Apple M2 Pro` that this was built on, your results will vary, my results were:\n",
    "```\n",
    "flights_hour Results      = avg:28.848 ms   min:25.198 ms   max:64.379 ms\n",
    "flights_year Results      = avg:15.451 ms   min:13.891 ms   max:17.940 ms\n",
    "flights_year_50k Results  = avg:12.844 ms   min:11.594 ms   max:15.130 ms\n",
    "flights_year_IATA Results = avg:12.574 ms   min:11.221 ms   max:15.204 ms\n",
    "```\n",
    "\n",
    "- `flights_hour` - With segment granularity of hour, there are approximately 30*24= 720 segment files to scan, there is no pruning, so even though the segments are tiny, each one is examined separately and the results are then merged, so doing that 720 times makes this the slowest option.\n",
    "- `flights_year` - Here we are using a single segment, it is much larger at 500k+ rows, but Druid can still use the indexes associated to all dimension columns to process this pretty fast and it only does it once, so this is faster then hourly. This shows how the number of segments needed for a query is a factor for performance. Less segments to process tends to improve perfomance, but not always.\n",
    "- `flights_year_50k` - Now each query had to process twelve 50k segments, but given that the historical does this concurrently on multiple threads, the parallelism is enough to improve over the single 500k segment of the `flights_year` table. \n",
    "- `flights_year_IATA` - Given the shard spec of the 12 resulting segments, we can see that there are rows with IATA Code \"AA\" in 2 of the segments. They are both processed in parallel and there are less segments to process, so this results in the fastest. \n",
    "\n",
    "### High Concurrency Results\n",
    "\n",
    "Above, the results for `flights_year_IATA` seem very similar to the `flights_year_50k` results, but a real system processes multiple queries at once. Expanding the test to run with higher concurrency will tell us more. The expectation is that the organization of the data that requires less work per query will ultimately be better for higher concurrency.\n",
    "\n",
    "We'll need another set of functions to drive the queries in parallel.\n"
   ]
  },
  {
   "cell_type": "code",
   "execution_count": 63,
   "id": "03175503-1a3f-4a50-8051-c97b084a6f6f",
   "metadata": {},
   "outputs": [],
   "source": [
    "from threading import Thread\n",
    "from datetime import datetime\n",
    "from statistics import mean, median\n",
    "\n",
    "\n",
    "# custom thread\n",
    "class QueryThread(Thread):\n",
    "    # constructor\n",
    "    def __init__(self, sql: str, iterations: int ):\n",
    "        # execute the base constructor\n",
    "        Thread.__init__(self)\n",
    "        # set a default value\n",
    "        self.stats = []\n",
    "        self.sql = sql\n",
    "        self.iterations = iterations\n",
    " \n",
    "    # function executed in a new thread\n",
    "    def run(self):\n",
    "        self.stats = measure_query( self.sql, self.iterations)\n",
    "        \n",
    "    def measure_query( sql: str, iterations: int ):\n",
    "        req = sql_client.sql_request(sql)\n",
    "        req.add_context(\"populateCache\", \"false\")  # run without cacheing results to get a real sense of performance\n",
    "        req.add_context(\"useCache\", \"false\")  # do not use cached results\n",
    "        stats=[]\n",
    "        while (iterations>0):\n",
    "          start = datetime.now()\n",
    "          sql_client.sql(req)\n",
    "          end = datetime.now()\n",
    "          stats.append( (end - start).total_seconds() * 10**3 ) # add run time in milliseconds\n",
    "          iterations -=1\n",
    "        return stats\n",
    "\n",
    "def test_in_parallel( sql: str, numThreads: int, iterations: int):\n",
    "    threads=[]\n",
    "    while numThreads>0:\n",
    "        try:\n",
    "            thrd = QueryThread( sql, iterations)\n",
    "            thrd.start()\n",
    "            threads.append(thrd)\n",
    "        except:\n",
    "           print (\"Error: unable to start thread\")\n",
    "        numThreads-=1\n",
    "    total_stats = []\n",
    "    for thrd in threads:\n",
    "        thrd.join()\n",
    "        total_stats.extend(thrd.stats)\n",
    "    return f\"Results = count:{len(total_stats)}  avg:{median(total_stats)} ms   min:{min(total_stats)} ms  max:{max(total_stats)} ms\"  \n",
    "    "
   ]
  },
  {
   "cell_type": "code",
   "execution_count": 66,
   "id": "f85b8419-936c-4f46-b9ab-869ee8779c7c",
   "metadata": {},
   "outputs": [
    {
     "name": "stdout",
     "output_type": "stream",
     "text": [
      "flights_year_50k Results = count:100  avg:12.8925 ms   min:11.422 ms  max:30.237 ms\n",
      "flights_year_IATA Results = count:100  avg:12.638 ms   min:11.555 ms  max:15.449 ms\n"
     ]
    }
   ],
   "source": [
    "use_table=\"flights_year_50k\"\n",
    "print (f\"{use_table} {test_in_parallel(sql.format(use_table), 2, 50)}\")\n",
    "\n",
    "use_table=\"flights_year_IATA\"\n",
    "print (f\"{use_table} {test_in_parallel(sql.format(use_table), 2, 50)}\")\n",
    "\n",
    "# ADD VARIABLE FILTERS to get more compelling results\n",
    "\n"
   ]
  },
  {
   "cell_type": "markdown",
   "id": "44738d6d-cec2-40ad-aaba-998c758c63f4",
   "metadata": {},
   "source": [
    "## Clean up\n",
    "\n",
    "Run the following cell to remove the XXX used in this notebook from the database."
   ]
  },
  {
   "cell_type": "code",
   "execution_count": 7,
   "id": "8082b545-ba7f-4ede-bb6e-2a6dd62ba0d8",
   "metadata": {},
   "outputs": [],
   "source": [
    "druid.datasources.drop(\"flights_hour\")\n",
    "druid.datasources.drop(\"flights_year\")\n",
    "druid.datasources.drop(\"flights_year_50k\")\n",
    "druid.datasources.drop(\"flights_year_IATA\")"
   ]
  },
  {
   "cell_type": "markdown",
   "id": "54b8d5fe-ba85-4b5b-9669-0dd47dfbccd1",
   "metadata": {},
   "source": [
    "## Summary\n",
    "\n",
    "* You learned this\n",
    "* Remember this\n",
    "\n",
    "## Learn more\n",
    "\n",
    "* Try this out on your own data\n",
    "* Solve for problem X that is't covered here\n",
    "* Read docs pages\n",
    "* Watch or read something cool from the community\n",
    "* Do some exploratory stuff on your own"
   ]
  }
 ],
 "metadata": {
  "execution": {
   "allow_errors": true,
   "timeout": 300
  },
  "kernelspec": {
   "display_name": "Python 3 (ipykernel)",
   "language": "python",
   "name": "python3"
  },
  "language_info": {
   "codemirror_mode": {
    "name": "ipython",
    "version": 3
   },
   "file_extension": ".py",
   "mimetype": "text/x-python",
   "name": "python",
   "nbconvert_exporter": "python",
   "pygments_lexer": "ipython3",
   "version": "3.11.5"
  }
 },
 "nbformat": 4,
 "nbformat_minor": 5
}
